{
  "nbformat": 4,
  "nbformat_minor": 0,
  "metadata": {
    "kernelspec": {
      "display_name": "Python 3",
      "language": "python",
      "name": "python3"
    },
    "language_info": {
      "codemirror_mode": {
        "name": "ipython",
        "version": 3
      },
      "file_extension": ".py",
      "mimetype": "text/x-python",
      "name": "python",
      "nbconvert_exporter": "python",
      "pygments_lexer": "ipython3",
      "version": "3.6.10"
    },
    "colab": {
      "provenance": [],
      "include_colab_link": true
    }
  },
  "cells": [
    {
      "cell_type": "markdown",
      "metadata": {
        "id": "view-in-github",
        "colab_type": "text"
      },
      "source": [
        "<a href=\"https://colab.research.google.com/github/PlaZMaD/ml_miem_2024/blob/main/Seminar_1%2B2.ipynb\" target=\"_parent\"><img src=\"https://colab.research.google.com/assets/colab-badge.svg\" alt=\"Open In Colab\"/></a>"
      ]
    },
    {
      "cell_type": "markdown",
      "metadata": {
        "id": "kMma9AznKpPU"
      },
      "source": [
        "# Машинное обучение для построения математических моделей\n",
        "\n",
        "Добро пожаловать на наш курс!\n",
        "\n",
        "Команда:\n",
        "* Фёдор Ратников (лекции)\n",
        "* Евгений Курбатов (семинары)\n",
        "\n",
        "### Способы связи с нами\n",
        "\n",
        "Группа в ТГ\n",
        "\n",
        "### Семинары\n",
        "* Используем тетрадки [Google Colab](https://colab.research.google.com)\n",
        "* Тетрадки текущего и прошедших семинаров [будут лежать здесь](https://github.com/PlaZMaD/ml_miem_2024)\n",
        "* Будут опросы и задания *допишите код*\n",
        "* **Активное участие** на семинарах входит в оценку аудиторных занятий\n",
        "\n",
        "### Домашние задания\n",
        "\n",
        " Jupyter-тетрадки (Google Colaboratory) в GitHub"
      ]
    },
    {
      "cell_type": "markdown",
      "source": [
        "# Семинар 1: Введение в анализ данных"
      ],
      "metadata": {
        "id": "WXYy8COvKZpN"
      }
    },
    {
      "cell_type": "code",
      "source": [],
      "metadata": {
        "id": "WCduSJ_c6g5H"
      },
      "execution_count": null,
      "outputs": []
    },
    {
      "cell_type": "markdown",
      "source": [
        "## Python для математического моделирования\n",
        "Использованы материалы курса: https://cs231n.github.io/python-numpy-tutorial/\n",
        "\n",
        "NB: Мы всюду используем Python 3."
      ],
      "metadata": {
        "id": "jF93yXoROm0x"
      }
    },
    {
      "cell_type": "markdown",
      "source": [
        "### Основные типы данных"
      ],
      "metadata": {
        "id": "xNrw0Nv0OvPB"
      }
    },
    {
      "cell_type": "markdown",
      "source": [
        "#### Числовые данные\n",
        "\n",
        "Целые и числа с плавающей запятой работают примерно так, как вы привыкли в других языках:"
      ],
      "metadata": {
        "id": "NWp7HYe-OwEf"
      }
    },
    {
      "cell_type": "code",
      "source": [
        "x = 3\n",
        "print(x, type(x))"
      ],
      "metadata": {
        "id": "SsIkKTNzQ53O"
      },
      "execution_count": null,
      "outputs": []
    },
    {
      "cell_type": "code",
      "source": [
        "print(x + 1)   # Addition\n",
        "print(x - 1)   # Subtraction\n",
        "print(x * 2)   # Multiplication\n",
        "print(x ** 2)  # Exponentiation"
      ],
      "metadata": {
        "id": "w6bbQ1HHQ8I7"
      },
      "execution_count": null,
      "outputs": []
    },
    {
      "cell_type": "code",
      "source": [
        "x += 1\n",
        "print(x)\n",
        "x *= 2\n",
        "print(x)"
      ],
      "metadata": {
        "id": "gtdN4ZVDQ_Ar"
      },
      "execution_count": null,
      "outputs": []
    },
    {
      "cell_type": "code",
      "source": [
        "y = 2.5\n",
        "print(type(y))\n",
        "print(y, y + 1, y * 2, y ** 2)"
      ],
      "metadata": {
        "id": "epesK7pvRBF6"
      },
      "execution_count": null,
      "outputs": []
    },
    {
      "cell_type": "markdown",
      "source": [
        "Обратите внимание, что в отличие от многих языков, в Python нет унарных операторов инкремента (`x++`) или декремента (`x--`).\n",
        "\n",
        "В Python также есть встроенные типы для длинных целых и комплексных чисел; все подробности вы можете найти в [документации](https://docs.python.org/3/library/stdtypes.html#numeric-types-int-float-long-complex)."
      ],
      "metadata": {
        "id": "3JONNBpXOwHU"
      }
    },
    {
      "cell_type": "markdown",
      "source": [
        "#### Булевы операторы\n",
        "Python реализует все стандартные операторы для булевой логики, но использует английские слова, а не символы (&&, || и т.д.):"
      ],
      "metadata": {
        "id": "eAAdvcn2OwKM"
      }
    },
    {
      "cell_type": "code",
      "source": [
        "t, f = True, False\n",
        "print(type(t))"
      ],
      "metadata": {
        "id": "918eIk1oSGD7"
      },
      "execution_count": null,
      "outputs": []
    },
    {
      "cell_type": "markdown",
      "source": [
        "Теперь рассмотрим операции:"
      ],
      "metadata": {
        "id": "vi_ASc9qSMVm"
      }
    },
    {
      "cell_type": "code",
      "source": [
        "print(t and f) # Logical AND;\n",
        "print(t or f)  # Logical OR;\n",
        "print(not t)   # Logical NOT;\n",
        "print(t != f)  # Logical XOR;"
      ],
      "metadata": {
        "id": "zmI0kZSBSIvU"
      },
      "execution_count": null,
      "outputs": []
    },
    {
      "cell_type": "markdown",
      "source": [
        "#### Строки"
      ],
      "metadata": {
        "id": "RQPNbtQSSXF_"
      }
    },
    {
      "cell_type": "code",
      "source": [
        "hello = 'hello'   # String literals can use single quotes\n",
        "world = \"world\"   # or double quotes; it does not matter\n",
        "print(hello, len(hello))"
      ],
      "metadata": {
        "id": "HZkVA9k1SSCy"
      },
      "execution_count": null,
      "outputs": []
    },
    {
      "cell_type": "code",
      "source": [
        "hw = hello + ' ' + world  # String concatenation\n",
        "print(hw)"
      ],
      "metadata": {
        "id": "MuMOqMExSg9l"
      },
      "execution_count": null,
      "outputs": []
    },
    {
      "cell_type": "code",
      "source": [
        "hw12 = '{} {} {}'.format(hello, world, 12)  # string formatting\n",
        "print(hw12)"
      ],
      "metadata": {
        "id": "T1YMcUgDSiHO"
      },
      "execution_count": null,
      "outputs": []
    },
    {
      "cell_type": "code",
      "source": [
        "print('{} is three'.format(3))"
      ],
      "metadata": {
        "id": "EtJDRrzESpVo"
      },
      "execution_count": null,
      "outputs": []
    },
    {
      "cell_type": "code",
      "source": [
        "print(f'{3} is three') # f-string is also an option"
      ],
      "metadata": {
        "id": "8_nzUbzRSs72"
      },
      "execution_count": null,
      "outputs": []
    },
    {
      "cell_type": "markdown",
      "source": [
        "Строковые объекты имеют множество полезных методов; например:"
      ],
      "metadata": {
        "id": "18KGOCGjS6LO"
      }
    },
    {
      "cell_type": "code",
      "source": [
        "s = \"hello\"\n",
        "print(s.capitalize())  # Capitalize a string\n",
        "print(s.upper())       # Convert a string to uppercase; prints \"HELLO\"\n",
        "print(s.rjust(7))      # Right-justify a string, padding with spaces\n",
        "print(s.center(7))     # Center a string, padding with spaces\n",
        "print(s.replace('l', '(ell)'))  # Replace all instances of one substring with another\n",
        "print('  world '.strip())  # Strip leading and trailing whitespace"
      ],
      "metadata": {
        "id": "2Sb9V34jS9Un"
      },
      "execution_count": null,
      "outputs": []
    },
    {
      "cell_type": "markdown",
      "source": [
        "Список всех строковых методов можно найти в [документации](https://docs.python.org/3/library/stdtypes.html#string-methods)."
      ],
      "metadata": {
        "id": "IvL_-ve4TMzT"
      }
    },
    {
      "cell_type": "markdown",
      "source": [
        "### Контейнеры\n",
        "Python включает несколько встроенных типов контейнеров:\n",
        "*   list\n",
        "*   dictionary\n",
        "*   set\n",
        "*   tuple"
      ],
      "metadata": {
        "id": "qRYJdb6LTwau"
      }
    },
    {
      "cell_type": "markdown",
      "source": [
        "#### Lists\n",
        "Список в Python - это эквивалент массива; он имеет изменяемый размер и может содержать элементы разных типов:"
      ],
      "metadata": {
        "id": "UmH_a2YjUBQk"
      }
    },
    {
      "cell_type": "code",
      "source": [
        "xs = [3, 1, 2]   # Create a list\n",
        "print(xs, xs[2])\n",
        "print(xs[-1])     # Negative indices count from the end of the list; prints \"2\""
      ],
      "metadata": {
        "id": "MBKTmiALUfFH"
      },
      "execution_count": null,
      "outputs": []
    },
    {
      "cell_type": "code",
      "source": [
        "xs[2] = 'foo'    # Lists can contain elements of different types\n",
        "print(xs)"
      ],
      "metadata": {
        "id": "iFEb4dCaUh4Y"
      },
      "execution_count": null,
      "outputs": []
    },
    {
      "cell_type": "code",
      "source": [
        "xs.append('bar') # Add a new element to the end of the list\n",
        "print(xs)"
      ],
      "metadata": {
        "id": "_iqU2OQ-UliD"
      },
      "execution_count": null,
      "outputs": []
    },
    {
      "cell_type": "code",
      "source": [
        "xs += ['foo']\n",
        "print(xs)"
      ],
      "metadata": {
        "id": "6wgc1Dp8Uogt"
      },
      "execution_count": null,
      "outputs": []
    },
    {
      "cell_type": "code",
      "source": [
        "x = xs.pop()     # Remove and return the last element of the list\n",
        "print(x, xs)"
      ],
      "metadata": {
        "id": "0rTsmQLAUpi8"
      },
      "execution_count": null,
      "outputs": []
    },
    {
      "cell_type": "markdown",
      "source": [
        "Как обычно, все подробности о списках вы можете найти в [документации](https://docs.python.org/3/tutorial/datastructures.html#more-on-lists)."
      ],
      "metadata": {
        "id": "fJKY7lBWU6CL"
      }
    },
    {
      "cell_type": "markdown",
      "source": [
        "#### Срезы\n",
        "\n",
        "Помимо доступа к элементам списка по одному, Python предоставляет лаконичный синтаксис для доступа к подспискам; это известно как slicing:"
      ],
      "metadata": {
        "id": "gaxC0CaXVOpk"
      }
    },
    {
      "cell_type": "code",
      "source": [
        "nums = list(range(5))    # range is a built-in function that creates a list of integers\n",
        "print(nums)         # Prints \"[0, 1, 2, 3, 4]\"\n",
        "print(nums[2:4])    # Get a slice from index 2 to 4 (exclusive); prints \"[2, 3]\"\n",
        "print(nums[2:])     # Get a slice from index 2 to the end; prints \"[2, 3, 4]\"\n",
        "print(nums[:2])     # Get a slice from the start to index 2 (exclusive); prints \"[0, 1]\"\n",
        "print(nums[:])      # Get a slice of the whole list; prints [\"0, 1, 2, 3, 4]\"\n",
        "print(nums[:-1])    # Slice indices can be negative; prints [\"0, 1, 2, 3]\"\n",
        "nums[2:4] = [8, 9] # Assign a new sublist to a slice\n",
        "print(nums)         # Prints \"[0, 1, 8, 9, 4]\""
      ],
      "metadata": {
        "id": "-UoXeswhVY6H"
      },
      "execution_count": null,
      "outputs": []
    },
    {
      "cell_type": "markdown",
      "source": [
        "#### Циклы\n",
        "\n",
        "Вы можете перебирать элементы списка следующим образом:"
      ],
      "metadata": {
        "id": "KN8mSQiWOwQm"
      }
    },
    {
      "cell_type": "code",
      "source": [
        "animals = ['cat', 'dog', 'monkey']\n",
        "for animal in animals:\n",
        "    print(animal)"
      ],
      "metadata": {
        "id": "efjnBNrrVtPt"
      },
      "execution_count": null,
      "outputs": []
    },
    {
      "cell_type": "markdown",
      "source": [
        "Если вам нужен доступ к индексу каждого элемента в теле цикла, используйте встроенную функцию `enumerate`:"
      ],
      "metadata": {
        "id": "usStAVR1V2yF"
      }
    },
    {
      "cell_type": "code",
      "source": [
        "animals = ['cat', 'dog', 'monkey']\n",
        "for idx, animal in enumerate(animals):\n",
        "    print('{}: {}'.format(idx + 1, animal))"
      ],
      "metadata": {
        "id": "uv09dWU9V5zp"
      },
      "execution_count": null,
      "outputs": []
    },
    {
      "cell_type": "markdown",
      "source": [
        "#### List comprehensions\n",
        "\n",
        "Во время программирования мы часто хотим преобразовать один тип данных в другой. В качестве простого примера рассмотрим следующий код, который вычисляет квадраты чисел:"
      ],
      "metadata": {
        "id": "DLnpGxZFWDhS"
      }
    },
    {
      "cell_type": "code",
      "source": [
        "%time # измеряет время выполнения кода в ячейке\n",
        "nums = [0, 1, 2, 3, 4]\n",
        "\n",
        "squares = []\n",
        "for x in nums:\n",
        "    squares.append(x ** 2)\n",
        "print(squares)"
      ],
      "metadata": {
        "id": "TayTSq7fWVQg"
      },
      "execution_count": null,
      "outputs": []
    },
    {
      "cell_type": "markdown",
      "source": [
        "Вы можете упростить этот код с помощью cпискового включения:"
      ],
      "metadata": {
        "id": "h1gxHbMpWnlo"
      }
    },
    {
      "cell_type": "code",
      "source": [
        "nums = [0, 1, 2, 3, 4]\n",
        "squares = [x ** 2 for x in nums]\n",
        "print(squares)"
      ],
      "metadata": {
        "id": "kfaTdTFZWoH6"
      },
      "execution_count": null,
      "outputs": []
    },
    {
      "cell_type": "markdown",
      "source": [
        "Списковые включения могут содержать условия:"
      ],
      "metadata": {
        "id": "7eMp-VqSXh7u"
      }
    },
    {
      "cell_type": "code",
      "source": [
        "nums = [0, 1, 2, 3, 4]\n",
        "even_squares = [x ** 2 for x in nums if x % 2 == 0]\n",
        "print(even_squares)"
      ],
      "metadata": {
        "id": "wGZcLsVdXnV0"
      },
      "execution_count": null,
      "outputs": []
    },
    {
      "cell_type": "markdown",
      "source": [
        "#### Dictionaries\n",
        "Словарь хранит пары (ключ, значение). Вы можете использовать его следующим образом:"
      ],
      "metadata": {
        "id": "uXaTYaArXtv4"
      }
    },
    {
      "cell_type": "code",
      "source": [
        "d = {'cat': 'cute', 'dog': 'furry'}  # Create a new dictionary with some data\n",
        "print(d['cat'])       # Get an entry from a dictionary; prints \"cute\"\n",
        "print('cat' in d)     # Check if a dictionary has a given key; prints \"True\""
      ],
      "metadata": {
        "id": "wBhAaqmWX3ow"
      },
      "execution_count": null,
      "outputs": []
    },
    {
      "cell_type": "code",
      "source": [
        "d['fish'] = 'wet'    # Set an entry in a dictionary\n",
        "print(d['fish'])      # Prints \"wet\""
      ],
      "metadata": {
        "id": "ZZ4mXFQAX-cC"
      },
      "execution_count": null,
      "outputs": []
    },
    {
      "cell_type": "code",
      "source": [
        "print(d['monkey'])  # KeyError: 'monkey' not a key of d"
      ],
      "metadata": {
        "id": "UZAOO9G6YA1s"
      },
      "execution_count": null,
      "outputs": []
    },
    {
      "cell_type": "code",
      "source": [
        "print(d.get('monkey', 'N/A'))  # Get an element with a default; prints \"N/A\"\n",
        "print(d.get('fish', 'N/A'))    # Get an element with a default; prints \"wet\""
      ],
      "metadata": {
        "id": "110k0wpNYHVo"
      },
      "execution_count": null,
      "outputs": []
    },
    {
      "cell_type": "markdown",
      "source": [
        "Все, что вам нужно знать о словарях, вы можете найти в [документации](https://docs.python.org/3/library/stdtypes.html#dict).\n",
        "\n",
        "Перебирать ключи в словаре очень просто:"
      ],
      "metadata": {
        "id": "65dK4x11YO0g"
      }
    },
    {
      "cell_type": "code",
      "source": [
        "d = {'person': 2, 'cat': 4, 'spider': 8}\n",
        "for animal, legs in d.items():\n",
        "    print('A {} has {} legs'.format(animal, legs))"
      ],
      "metadata": {
        "id": "c_O4tgWIYaBZ"
      },
      "execution_count": null,
      "outputs": []
    },
    {
      "cell_type": "markdown",
      "source": [
        "Cловарные включения похожи на списковые, но позволяют легко строить словари. Например:"
      ],
      "metadata": {
        "id": "-uHjb6wGYt39"
      }
    },
    {
      "cell_type": "code",
      "source": [
        "nums = [0, 1, 2, 3, 4, 7, 32]\n",
        "even_num_to_square = {x: x ** 2 for x in nums if x % 2 == 0}\n",
        "print(even_num_to_square)\n",
        "\n",
        "print(3 in nums)"
      ],
      "metadata": {
        "id": "yaz1EePCYrck"
      },
      "execution_count": null,
      "outputs": []
    },
    {
      "cell_type": "markdown",
      "source": [
        "#### Sets\n",
        "Множество - это неупорядоченный набор отдельных элементов. В качестве простого примера рассмотрим следующее:"
      ],
      "metadata": {
        "id": "JyKlATWAY2bX"
      }
    },
    {
      "cell_type": "code",
      "source": [
        "animals = {'cat', 'dog', 4}\n",
        "print('cat' in animals)   # Check if an element is in a set; prints \"True\"\n",
        "print('fish' in animals)  # prints \"False\"\n",
        "print(5 in animals)"
      ],
      "metadata": {
        "id": "Ojb8hBcRZALB"
      },
      "execution_count": null,
      "outputs": []
    },
    {
      "cell_type": "code",
      "source": [
        "animals.add('fish')      # Add an element to a set\n",
        "print('fish' in animals)\n",
        "print(len(animals))       # Number of elements in a set;"
      ],
      "metadata": {
        "id": "XClp4ObgZFOT"
      },
      "execution_count": null,
      "outputs": []
    },
    {
      "cell_type": "code",
      "source": [
        "animals.add('cat')       # Adding an element that is already in the set does nothing\n",
        "print(animals)\n",
        "print(len(animals))\n",
        "animals.remove('cat')    # Remove an element from a set\n",
        "print(len(animals))"
      ],
      "metadata": {
        "id": "KFavl4S-ZINv"
      },
      "execution_count": null,
      "outputs": []
    },
    {
      "cell_type": "markdown",
      "source": [
        "_Циклы_: Итерация по множеству имеет тот же синтаксис, что и итерация по списку; однако, поскольку множества неупорядочены, вы не можете делать предположения о порядке посещения элементов множества:"
      ],
      "metadata": {
        "id": "syoUlxaWZQrU"
      }
    },
    {
      "cell_type": "code",
      "source": [
        "animals = {'cat', 'dog', 'fish'}\n",
        "for idx, animal in enumerate(animals):\n",
        "    print('{}: {}'.format(idx + 1, animal))"
      ],
      "metadata": {
        "id": "f3bJv-NCZUy0"
      },
      "execution_count": null,
      "outputs": []
    },
    {
      "cell_type": "markdown",
      "source": [
        "Включения множеств. Подобно спискам и словарям, мы можем легко конструировать множества с помощью set comprehensions:"
      ],
      "metadata": {
        "id": "ogFBezmAaX0h"
      }
    },
    {
      "cell_type": "code",
      "source": [
        "from math import sqrt\n",
        "s = {int(sqrt(x)) for x in range(30)}\n",
        "s = {int(x**0.5) for x in range(30)} # альтернативный способ\n",
        "print(s)"
      ],
      "metadata": {
        "id": "q80F40Vsajmr"
      },
      "execution_count": null,
      "outputs": []
    },
    {
      "cell_type": "markdown",
      "source": [
        "#### Tuples\n",
        "\n",
        "Кортеж - это (неизменяемый) упорядоченный список значений. Кортеж во многом похож на список; одно из самых важных отличий состоит в том, что кортежи можно использовать в качестве ключей в словарях и элементов множеств, а списки - нет. Вот простейший пример:"
      ],
      "metadata": {
        "id": "VguJS1B0bIAk"
      }
    },
    {
      "cell_type": "code",
      "source": [
        "d = {(x, x + 1): x for x in range(10)}  # Create a dictionary with tuple keys\n",
        "t = (5, 6)       # Create a tuple\n",
        "print(type(t))\n",
        "print(d[t])\n",
        "print(d[(1, 2)])"
      ],
      "metadata": {
        "id": "XcZj86VRbTXa"
      },
      "execution_count": null,
      "outputs": []
    },
    {
      "cell_type": "code",
      "source": [
        "# t[0] = 1 # Can't update tuple items"
      ],
      "metadata": {
        "id": "ZSjGYItGbXlD"
      },
      "execution_count": null,
      "outputs": []
    },
    {
      "cell_type": "markdown",
      "source": [
        "### Функции\n",
        "Функции Python определяются с помощью ключевого слова `def`. Например:"
      ],
      "metadata": {
        "id": "pHUARNZUbg4A"
      }
    },
    {
      "cell_type": "code",
      "source": [
        "def my_function(x):\n",
        "  a = x + 1\n",
        "  return a\n",
        "\n",
        "my_function(3)"
      ],
      "metadata": {
        "id": "XYzlaXE50c_7"
      },
      "execution_count": null,
      "outputs": []
    },
    {
      "cell_type": "code",
      "source": [
        "# функция\n",
        "def sign(x):\n",
        "    if x > 0:\n",
        "        return 'positive'\n",
        "    elif x < 0:\n",
        "        return 'negative'\n",
        "    else:\n",
        "        return 'zero'"
      ],
      "metadata": {
        "id": "8zT_ISCzbrVf"
      },
      "execution_count": null,
      "outputs": []
    },
    {
      "cell_type": "code",
      "source": [
        "# её вызов\n",
        "for y in [-1, 0, 1]:\n",
        "    print(sign(y))"
      ],
      "metadata": {
        "id": "Jjz_ephHbtXh"
      },
      "execution_count": null,
      "outputs": []
    },
    {
      "cell_type": "markdown",
      "source": [
        "Мы часто будем создавать функции, принимающие обязательные и необязательные аргументы, например, так:"
      ],
      "metadata": {
        "id": "CxE25s8-b6VI"
      }
    },
    {
      "cell_type": "code",
      "source": [
        "def hello(name, loud: bool = False):\n",
        "    if loud:\n",
        "        print('HELLO, {}'.format(name.upper()))\n",
        "    else:\n",
        "        print('Hello, {}!'.format(name))\n",
        "\n",
        "hello('Bob')\n",
        "hello('Fred', loud=True)"
      ],
      "metadata": {
        "id": "LheiFvD6cFKZ"
      },
      "execution_count": null,
      "outputs": []
    },
    {
      "cell_type": "markdown",
      "source": [
        "### Классы\n",
        "Синтаксис для определения классов в Python прост:"
      ],
      "metadata": {
        "id": "1mn7mZ99cVQ1"
      }
    },
    {
      "cell_type": "code",
      "source": [
        "class Greeter:\n",
        "\n",
        "    # Constructor\n",
        "    def __init__(self, name):\n",
        "        self.name = name  # Create an instance variable\n",
        "\n",
        "    # Instance method\n",
        "    def greet(self, loud=False):\n",
        "        if loud:\n",
        "          print('HELLO, {}'.format(self.name.upper()))\n",
        "        else:\n",
        "          print('Hello, {}!'.format(self.name))\n",
        "\n",
        "g = Greeter('Fred')  # Construct an instance of the Greeter class\n",
        "g.greet()            # Call an instance method; prints \"Hello, Fred\"\n",
        "g.greet(loud=True)   # Call an instance method; prints \"HELLO, FRED!\""
      ],
      "metadata": {
        "id": "FRPm_yKlcb7Y"
      },
      "execution_count": null,
      "outputs": []
    },
    {
      "cell_type": "markdown",
      "source": [
        "### Numpy\n",
        "NumPy (от Numerical Python) - это основная библиотека для научных вычислений в Python. Она предоставляет дополнительный объект (многомерный массив) и высокопроизводительные инструменты для работы с этими массивами.\n",
        "\n",
        "Чтобы использовать Numpy, нам сначала нужно импортировать пакет `numpy`:"
      ],
      "metadata": {
        "id": "5ccJvyaect2f"
      }
    },
    {
      "cell_type": "code",
      "source": [
        "import numpy as np"
      ],
      "metadata": {
        "id": "rxaiplqMdpL6"
      },
      "execution_count": null,
      "outputs": []
    },
    {
      "cell_type": "markdown",
      "source": [
        "#### Массивы\n",
        "\n",
        "Массив `numpy` - это сетка значений одного типа, которые индексируются кортежем неотрицательных целых чисел. Количество измерений - это ранг массива; форма массива - это кортеж целых чисел, дающих размер массива по каждому измерению.\n",
        "\n",
        "Мы можем инициализировать массивы numpy из вложенных списков Python и обращаться к элементам с помощью квадратных скобок:"
      ],
      "metadata": {
        "id": "Q8epBp_geHhI"
      }
    },
    {
      "cell_type": "code",
      "source": [
        "a = np.array([1, 2, 3])  # Create a rank 1 array\n",
        "print(type(a), a.shape, a[0], a[1], a[2])\n",
        "a[0] = 5                 # Change an element of the array\n",
        "print(a)"
      ],
      "metadata": {
        "id": "rY0WblR5efGY"
      },
      "execution_count": null,
      "outputs": []
    },
    {
      "cell_type": "code",
      "source": [
        "b = np.array([[1,2,3],[4,5,6]])   # Create a rank 2 array\n",
        "print(b)"
      ],
      "metadata": {
        "id": "J2_jwazfejjS"
      },
      "execution_count": null,
      "outputs": []
    },
    {
      "cell_type": "code",
      "source": [
        "print(b.shape)\n",
        "print(b[0, 0], b[0, 1], b[1, 0])"
      ],
      "metadata": {
        "id": "bOVNOPrxem4V"
      },
      "execution_count": null,
      "outputs": []
    },
    {
      "cell_type": "markdown",
      "source": [
        "`numpy` также предоставляет множество функций для создания массивов:"
      ],
      "metadata": {
        "id": "0Xq0EKJ6eqxO"
      }
    },
    {
      "cell_type": "code",
      "source": [
        "a = np.zeros((2,2))  # Create an array of all zeros\n",
        "print(a)"
      ],
      "metadata": {
        "id": "kh15sSoLeut9"
      },
      "execution_count": null,
      "outputs": []
    },
    {
      "cell_type": "code",
      "source": [
        "b = np.ones((1,2))   # Create an array of all ones\n",
        "print(b)"
      ],
      "metadata": {
        "id": "Jj5AGEdUew6L"
      },
      "execution_count": null,
      "outputs": []
    },
    {
      "cell_type": "code",
      "source": [
        "c = np.full((2,2), 7) # Create a constant array\n",
        "print(c)"
      ],
      "metadata": {
        "id": "lXMkt8yIeyUH"
      },
      "execution_count": null,
      "outputs": []
    },
    {
      "cell_type": "code",
      "source": [
        "d = np.eye(2)        # Create a 2x2 identity matrix\n",
        "print(d)"
      ],
      "metadata": {
        "id": "pI0_stsye0xQ"
      },
      "execution_count": null,
      "outputs": []
    },
    {
      "cell_type": "code",
      "source": [
        "e = np.random.random((2,2)) # Create an array filled with random values\n",
        "print(e)"
      ],
      "metadata": {
        "id": "YYxWcjE5e3bC"
      },
      "execution_count": null,
      "outputs": []
    },
    {
      "cell_type": "markdown",
      "source": [
        "#### Индексы в массивах\n",
        "\n",
        "Numpy предлагает несколько способов индексирования массивов.\n",
        "\n",
        "Подобно спискам Python, массивы numpy могут быть нарезаны. Поскольку массивы могут быть многомерными, вы должны указать срез для каждого измерения массива:"
      ],
      "metadata": {
        "id": "mLGa_vSFe68Y"
      }
    },
    {
      "cell_type": "code",
      "source": [
        "# Create the following rank 2 array with shape (3, 4)\n",
        "# [[ 1  2  3  4]\n",
        "#  [ 5  6  7  8]\n",
        "#  [ 9 10 11 12]]\n",
        "a = np.array([[1,2,3,4], [5,6,7,8], [9,10,11,12]])\n",
        "\n",
        "# Use slicing to pull out the subarray consisting of the first 2 rows\n",
        "# and columns 1 and 2; b is the following array of shape (2, 2):\n",
        "# [[2 3]\n",
        "#  [6 7]]\n",
        "b = a[:2, 1:3]\n",
        "print(b)"
      ],
      "metadata": {
        "id": "fmC7qdV4fEb7"
      },
      "execution_count": null,
      "outputs": []
    },
    {
      "cell_type": "markdown",
      "source": [
        "Срез массива - это представление тех же данных, поэтому его изменение приведет к изменению исходного массива:"
      ],
      "metadata": {
        "id": "wvBv6b6vfJ5R"
      }
    },
    {
      "cell_type": "code",
      "source": [
        "print(a[0, 1])\n",
        "b[0, 0] = 77    # b[0, 0] is the same piece of data as a[0, 1]\n",
        "print(a[0, 1])"
      ],
      "metadata": {
        "id": "dv9yCtWlfQNn"
      },
      "execution_count": null,
      "outputs": []
    },
    {
      "cell_type": "markdown",
      "source": [
        "Можно также сочетать целочисленную индексацию с индексацией по срезам. Однако это приведет к получению массива более низкой размерности, чем исходный массив:"
      ],
      "metadata": {
        "id": "0wPk4qNifZFS"
      }
    },
    {
      "cell_type": "code",
      "source": [
        "# Create the following rank 2 array with shape (3, 4)\n",
        "a = np.array([[1,2,3,4], [5,6,7,8], [9,10,11,12]])\n",
        "print(a)"
      ],
      "metadata": {
        "id": "NEvcF4eUfscy"
      },
      "execution_count": null,
      "outputs": []
    },
    {
      "cell_type": "markdown",
      "source": [
        "Два способа доступа к данным в средней строке массива выше. Смешивание целочисленной индексации и срезов дает массив более низкой размерности, в то время как использование только срезов дает массив той же размерности, что и исходный массив:"
      ],
      "metadata": {
        "id": "cocM_V7lfxkM"
      }
    },
    {
      "cell_type": "code",
      "source": [
        "row_r1 = a[1, :]    # Rank 1 view of the second row of a\n",
        "row_r2 = a[1:2, :]  # Rank 2 view of the second row of a\n",
        "row_r3 = a[[1], :]  # Rank 2 view of the second row of a\n",
        "print(row_r1, row_r1.shape)\n",
        "print(row_r2, row_r2.shape)\n",
        "print(row_r3, row_r3.shape)"
      ],
      "metadata": {
        "id": "rdaj2bhtf9CF"
      },
      "execution_count": null,
      "outputs": []
    },
    {
      "cell_type": "code",
      "source": [
        "# We can make the same distinction when accessing columns of an array:\n",
        "col_r1 = a[:, 1]\n",
        "col_r2 = a[:, 1:2]\n",
        "print(col_r1, col_r1.shape)\n",
        "print()\n",
        "print(col_r2, col_r2.shape)"
      ],
      "metadata": {
        "id": "5Gr90v77gFmd"
      },
      "execution_count": null,
      "outputs": []
    },
    {
      "cell_type": "markdown",
      "source": [
        "Индексация целочисленных массивов: Когда вы индексируете массивы numpy с помощью нарезки, результирующее представление массива всегда будет подмассивом исходного массива. В отличие от этого, целочисленная индексация массивов позволяет создавать произвольные массивы, используя данные из другого массива. Вот пример:"
      ],
      "metadata": {
        "id": "9cxeZ2h2gNbD"
      }
    },
    {
      "cell_type": "code",
      "source": [
        "a = np.array([[1,2], [3, 4], [5, 6]])\n",
        "\n",
        "# An example of integer array indexing.\n",
        "# The returned array will have shape (3,) and\n",
        "print(a[[0, 1, 2], [0, 1, 0]])\n",
        "\n",
        "# The above example of integer array indexing is equivalent to this:\n",
        "print(np.array([a[0, 0], a[1, 1], a[2, 0]]))"
      ],
      "metadata": {
        "id": "1qeM36J6gO1L"
      },
      "execution_count": null,
      "outputs": []
    },
    {
      "cell_type": "code",
      "source": [
        "# When using integer array indexing, you can reuse the same\n",
        "# element from the source array:\n",
        "print(a[[0, 0], [1, 1]])\n",
        "\n",
        "# Equivalent to the previous integer array indexing example\n",
        "print(np.array([a[0, 1], a[0, 1]]))"
      ],
      "metadata": {
        "id": "W4iaTkBigRoE"
      },
      "execution_count": null,
      "outputs": []
    },
    {
      "cell_type": "markdown",
      "source": [
        "Одним из полезных приемов при индексировании целочисленных массивов является выбор или изменение одного элемента из каждой строки матрицы:"
      ],
      "metadata": {
        "id": "U6VmNWXfgX0s"
      }
    },
    {
      "cell_type": "code",
      "source": [
        "# Create a new array from which we will select elements\n",
        "a = np.array([[1,2,3], [4,5,6], [7,8,9], [10, 11, 12]])\n",
        "print(a)"
      ],
      "metadata": {
        "id": "OMZiO2YwgYar"
      },
      "execution_count": null,
      "outputs": []
    },
    {
      "cell_type": "code",
      "source": [
        "# Create an array of indices\n",
        "b = np.array([0, 2, 0, 1])\n",
        "\n",
        "# Select one element from each row of a using the indices in b\n",
        "print(a[np.arange(4), b])  # Prints \"[ 1  6  7 11]\""
      ],
      "metadata": {
        "id": "aNVdo1nzgdws"
      },
      "execution_count": null,
      "outputs": []
    },
    {
      "cell_type": "code",
      "source": [
        "# Mutate one element from each row of a using the indices in b\n",
        "a[np.arange(4), b] += 10\n",
        "print(a)"
      ],
      "metadata": {
        "id": "nR_1X4BUgfpo"
      },
      "execution_count": null,
      "outputs": []
    },
    {
      "cell_type": "markdown",
      "source": [
        "Индексация булевых массивов: Булева индексация массива позволяет выбирать произвольные элементы массива. Часто этот тип индексации используется для выбора элементов массива, удовлетворяющих некоторому условию. Вот пример:"
      ],
      "metadata": {
        "id": "iH4TLd20goVN"
      }
    },
    {
      "cell_type": "code",
      "source": [
        "a = np.array([[1,2], [3, 4], [5, 6]])\n",
        "\n",
        "bool_idx = (a > 2)  # Find the elements of a that are bigger than 2;\n",
        "                    # this returns a numpy array of Booleans of the same\n",
        "                    # shape as a, where each slot of bool_idx tells\n",
        "                    # whether that element of a is > 2.\n",
        "\n",
        "print(bool_idx)"
      ],
      "metadata": {
        "id": "mQ3FqydogpBH"
      },
      "execution_count": null,
      "outputs": []
    },
    {
      "cell_type": "code",
      "source": [
        "# We use boolean array indexing to construct a rank 1 array\n",
        "# consisting of the elements of a corresponding to the True values\n",
        "# of bool_idx\n",
        "print(a[bool_idx])\n",
        "\n",
        "# We can do all of the above in a single concise statement:\n",
        "print(a[a > 2])"
      ],
      "metadata": {
        "id": "bFUk1YAigsjH"
      },
      "execution_count": null,
      "outputs": []
    },
    {
      "cell_type": "markdown",
      "source": [
        "Для краткости мы опустили много деталей об индексации массивов numpy; если вы хотите узнать больше, вам следует прочитать документацию."
      ],
      "metadata": {
        "id": "gGHzZXWsg1Fn"
      }
    },
    {
      "cell_type": "markdown",
      "source": [
        "#### Типы данных\n",
        "\n",
        "Каждый массив numpy - это сетка элементов одного типа. Numpy предоставляет большой набор числовых типов данных, которые вы можете использовать для построения массивов. Numpy пытается угадать тип данных при создании массива, но функции, создающие массивы, обычно включают дополнительный аргумент для явного указания типа данных. Вот пример:"
      ],
      "metadata": {
        "id": "vky7sLwpg3oZ"
      }
    },
    {
      "cell_type": "code",
      "source": [
        "x = np.array([1, 2])  # Let numpy choose the datatype\n",
        "y = np.array([1.0, 2.0])  # Let numpy choose the datatype\n",
        "z = np.array([1, 2], dtype=np.int64)  # Force a particular datatype\n",
        "\n",
        "print(x.dtype, y.dtype, z.dtype)"
      ],
      "metadata": {
        "id": "hMRBCYGBhAae"
      },
      "execution_count": null,
      "outputs": []
    },
    {
      "cell_type": "markdown",
      "source": [
        "Вы можете прочитать все о типах данных numpy в [документации](http://docs.scipy.org/doc/numpy/reference/arrays.dtypes.html)."
      ],
      "metadata": {
        "id": "kStLDf9rhPsJ"
      }
    },
    {
      "cell_type": "markdown",
      "source": [
        "#### Операции с массивами\n",
        "\n",
        "Основные математические функции поэлементно оперируют с массивами и доступны как в виде перегрузки операторов, так и в виде функций в модуле `numpy`:"
      ],
      "metadata": {
        "id": "Cco_z5GahQRn"
      }
    },
    {
      "cell_type": "code",
      "source": [
        "x = np.array([[1,2],[3,4]], dtype=np.float64)\n",
        "y = np.array([[5,6],[7,8]], dtype=np.float64)\n",
        "\n",
        "# Elementwise sum; both produce the array\n",
        "print(x + y)\n",
        "print(np.add(x, y))"
      ],
      "metadata": {
        "id": "1YaSU1XchaJ7"
      },
      "execution_count": null,
      "outputs": []
    },
    {
      "cell_type": "code",
      "source": [
        "# Elementwise difference; both produce the array\n",
        "print(x - y)\n",
        "print(np.subtract(x, y))"
      ],
      "metadata": {
        "id": "fq2WyWwXhg-Y"
      },
      "execution_count": null,
      "outputs": []
    },
    {
      "cell_type": "code",
      "source": [
        "# Elementwise product; both produce the array\n",
        "print(x * y)\n",
        "print(np.multiply(x, y))"
      ],
      "metadata": {
        "id": "Ex1sG1Quhj3R"
      },
      "execution_count": null,
      "outputs": []
    },
    {
      "cell_type": "code",
      "source": [
        "# Elementwise division; both produce the array\n",
        "print(x / y)\n",
        "print(np.divide(x, y))"
      ],
      "metadata": {
        "id": "z3Psxg4DhokV"
      },
      "execution_count": null,
      "outputs": []
    },
    {
      "cell_type": "code",
      "source": [
        "# Elementwise square root; produces the array\n",
        "# [[ 1.          1.41421356]\n",
        "#  [ 1.73205081  2.        ]]\n",
        "print(np.sqrt(x))"
      ],
      "metadata": {
        "id": "ySckE3gRhuQI"
      },
      "execution_count": null,
      "outputs": []
    },
    {
      "cell_type": "markdown",
      "source": [
        "Обратите внимание, что `*` - это поэлементное умножение, а не умножение матриц. Вместо этого мы используем функцию `dot` для вычисления внутренних произведений векторов, умножения вектора на матрицу и умножения матриц. `dot` доступна как функция в модуле `numpy` и как метод экземпляра объектов массива:"
      ],
      "metadata": {
        "id": "5NP45AfMh31H"
      }
    },
    {
      "cell_type": "code",
      "source": [
        "x = np.array([[1,2],[3,4]])\n",
        "y = np.array([[5,6],[7,8]])\n",
        "\n",
        "v = np.array([9,10])\n",
        "w = np.array([11, 12])\n",
        "\n",
        "# Inner product of vectors; all produce 219\n",
        "print(v.dot(w))\n",
        "print(np.dot(v, w))\n",
        "print(v @ w)\n",
        "print(sum([vi * wi for (vi, wi) in zip(v, w)]))"
      ],
      "metadata": {
        "id": "1U9Q1177h8nY"
      },
      "execution_count": null,
      "outputs": []
    },
    {
      "cell_type": "code",
      "source": [
        "# Matrix / vector product; both produce the rank 1 array [29 67]\n",
        "print(x.dot(v))\n",
        "print(np.dot(x, v))\n",
        "print(x @ v)"
      ],
      "metadata": {
        "id": "VBdIFER2iSZS"
      },
      "execution_count": null,
      "outputs": []
    },
    {
      "cell_type": "code",
      "source": [
        "# Matrix / matrix product; both produce the rank 2 array\n",
        "# [[19 22]\n",
        "#  [43 50]]\n",
        "print(x.dot(y))\n",
        "print(np.dot(x, y))\n",
        "print(x @ y)"
      ],
      "metadata": {
        "id": "uwPNzwbLiVof"
      },
      "execution_count": null,
      "outputs": []
    },
    {
      "cell_type": "markdown",
      "source": [
        "Numpy предоставляет множество полезных функций для выполнения вычислений над массивами; одна из самых полезных - `sum`:"
      ],
      "metadata": {
        "id": "tn4AJjDCiu8Q"
      }
    },
    {
      "cell_type": "code",
      "source": [
        "x = np.array([[1,2],[3,4]])\n",
        "\n",
        "print(np.sum(x))  # Compute sum of all elements; prints \"10\"\n",
        "print(np.sum(x, axis=0))  # Compute sum of each column; prints \"[4 6]\"\n",
        "print(np.sum(x, axis=1))  # Compute sum of each row; prints \"[3 7]\""
      ],
      "metadata": {
        "id": "dRc7oFJZi058"
      },
      "execution_count": null,
      "outputs": []
    },
    {
      "cell_type": "markdown",
      "source": [
        "Полный список математических функций, предоставляемых numpy, можно найти в [документации](http://docs.scipy.org/doc/numpy/reference/routines.math.html).\n",
        "\n",
        "Помимо вычисления математических функций с помощью массивов, нам часто требуется изменить форму данных в массивах или иным образом манипулировать ими. Простейшим примером такой операции является транспонирование матрицы; чтобы транспонировать матрицу, просто используйте атрибут T объекта массива:"
      ],
      "metadata": {
        "id": "FEMMzw6ajD5n"
      }
    },
    {
      "cell_type": "code",
      "source": [
        "print(x)\n",
        "print(\"transpose\\n\", x.T)"
      ],
      "metadata": {
        "id": "vwu4sckzjFfR"
      },
      "execution_count": null,
      "outputs": []
    },
    {
      "cell_type": "code",
      "source": [
        "v = np.array([[1,2,3]])\n",
        "print(v )\n",
        "print(\"transpose\\n\", v.T)"
      ],
      "metadata": {
        "id": "5s05EpPZjJJx"
      },
      "execution_count": null,
      "outputs": []
    },
    {
      "cell_type": "markdown",
      "source": [
        "#### Broadcasting\n",
        "\n",
        "Трансляция - это мощный механизм, который позволяет numpy работать с массивами разной формы при выполнении арифметических операций. Часто у нас есть меньший массив и больший массив, и мы хотим использовать меньший массив несколько раз для выполнения некоторой операции над большим массивом.\n",
        "\n",
        "Например, предположим, что мы хотим добавить постоянный вектор к каждой строке матрицы. Мы можем сделать это следующим образом:"
      ],
      "metadata": {
        "id": "KOwwFfCBjQTr"
      }
    },
    {
      "cell_type": "code",
      "source": [
        "# We will add the vector v to each row of the matrix x,\n",
        "# storing the result in the matrix y\n",
        "x = np.array([[1,2,3], [4,5,6], [7,8,9], [10, 11, 12]])\n",
        "v = np.array([1, 0, 1])\n",
        "y = np.empty_like(x)   # Create an empty matrix with the same shape as x\n",
        "# y = np.zeros_like(x)\n",
        "\n",
        "# Add the vector v to each row of the matrix x with an explicit loop\n",
        "for i in range(4):\n",
        "    y[i, :] = x[i, :] + v\n",
        "\n",
        "print(y)"
      ],
      "metadata": {
        "id": "YKwg48bBjVAW"
      },
      "execution_count": null,
      "outputs": []
    },
    {
      "cell_type": "markdown",
      "source": [
        "Это работает, но когда матрица `x` очень большая, вычисление явного цикла в Python может быть медленным. Обратите внимание, что добавление вектора `v` к каждой строке матрицы `x` эквивалентно формированию матрицы `vv` путем укладки нескольких копий `v` по вертикали, а затем выполнения поэлементного суммирования `x` и `vv`. Мы можем реализовать этот подход следующим образом:"
      ],
      "metadata": {
        "id": "wtTRhUMgjwM0"
      }
    },
    {
      "cell_type": "code",
      "source": [
        "print(v)\n",
        "vv = np.tile(v, (4, 1))  # Stack 4 copies of v on top of each other\n",
        "print(vv)                # Prints \"[[1 0 1]\n",
        "                         #          [1 0 1]\n",
        "                         #          [1 0 1]\n",
        "                         #          [1 0 1]]\""
      ],
      "metadata": {
        "id": "XAStaZ7RjvGr"
      },
      "execution_count": null,
      "outputs": []
    },
    {
      "cell_type": "markdown",
      "source": [
        "Трансляция в `numpy` позволяет нам выполнить это вычисление без фактического создания нескольких копий `v`. Рассмотрим эту версию, используя трансляцию:"
      ],
      "metadata": {
        "id": "WVw2axpGj-Am"
      }
    },
    {
      "cell_type": "code",
      "source": [
        "import numpy as np\n",
        "\n",
        "# We will add the vector v to each row of the matrix x,\n",
        "# storing the result in the matrix y\n",
        "x = np.array([[1,2,3], [4,5,6], [7,8,9], [10, 11, 12]])\n",
        "v = np.array([1, 0, 1])\n",
        "y = x + v  # Add v to each row of x using broadcasting\n",
        "print(y)"
      ],
      "metadata": {
        "id": "q_g60u5CkBJK"
      },
      "execution_count": null,
      "outputs": []
    },
    {
      "cell_type": "markdown",
      "source": [
        "Строка `y = x + v` работает, даже если `x` имеет форму `(4, 3)`, а `v` имеет форму `(3,)` из-за трансляции; эта строка работает так, как если бы v действительно имела форму `(4, 3)`, где каждая строка была копией `v`, а сумма выполнялась поэлементно.\n",
        "\n",
        "Трансляция двух массивов вместе следует следующим правилам:\n",
        "\n",
        "1. Если массивы не имеют одинакового ранга, дополните форму массива более низкого ранга единицами, пока обе формы не будут иметь одинаковую длину.\n",
        "2. Два массива считаются совместимыми по размерности, если они имеют одинаковый размер в этой размерности или если один из массивов имеет размер 1 в этой размерности.\n",
        "3. Массивы можно транслировать вместе, если они совместимы во всех измерениях.\n",
        "4. После трансляции каждый массив ведет себя так, как будто его форма равна поэлементному максимуму форм двух входных массивов.\n",
        "5. В любом измерении, где один массив имеет размер 1, а другой массив имеет размер больше 1, первый массив ведет себя так, как если бы он был скопирован по этому измерению.\n",
        "\n",
        "Если это объяснение не имеет смысла, попробуйте прочитать объяснение из [документации](http://docs.scipy.org/doc/numpy/user/basics.broadcasting.html) или это [объяснение](http://wiki.scipy.org/EricsBroadcastingDoc).\n",
        "\n",
        "Функции, поддерживающие трансляцию, известны как универсальные функции. Список всех универсальных функций можно найти в [документации](http://docs.scipy.org/doc/numpy/reference/ufuncs.html#available-ufuncs).\n",
        "\n",
        "Вот некоторые применения трансляции:"
      ],
      "metadata": {
        "id": "WKCTzBkjkMST"
      }
    },
    {
      "cell_type": "code",
      "source": [
        "# Compute outer product of vectors\n",
        "v = np.array([1,2,3])  # v has shape (3,)\n",
        "w = np.array([4,5])    # w has shape (2,)\n",
        "# To compute an outer product, we first reshape v to be a column\n",
        "# vector of shape (3, 1); we can then broadcast it against w to yield\n",
        "# an output of shape (3, 2), which is the outer product of v and w:\n",
        "\n",
        "print(np.reshape(v, (3, 1)) * w)"
      ],
      "metadata": {
        "id": "bZb6NBcukUdY"
      },
      "execution_count": null,
      "outputs": []
    },
    {
      "cell_type": "code",
      "source": [
        "# Add a vector to each row of a matrix\n",
        "x = np.array([[1,2,3], [4,5,6]])\n",
        "# x has shape (2, 3) and v has shape (3,) so they broadcast to (2, 3),\n",
        "# giving the following matrix:\n",
        "\n",
        "print(x + v)"
      ],
      "metadata": {
        "id": "N18QmzxskrJg"
      },
      "execution_count": null,
      "outputs": []
    },
    {
      "cell_type": "code",
      "source": [
        "# Add a vector to each column of a matrix\n",
        "# x has shape (2, 3) and w has shape (2,).\n",
        "# If we transpose x then it has shape (3, 2) and can be broadcast\n",
        "# against w to yield a result of shape (3, 2); transposing this result\n",
        "# yields the final result of shape (2, 3) which is the matrix x with\n",
        "# the vector w added to each column. Gives the following matrix:\n",
        "\n",
        "print((x.T + w).T)"
      ],
      "metadata": {
        "id": "p-RFHv1sks3W"
      },
      "execution_count": null,
      "outputs": []
    },
    {
      "cell_type": "code",
      "source": [
        "# Another solution is to reshape w to be a row vector of shape (2, 1);\n",
        "# we can then broadcast it directly against x to produce the same\n",
        "# output.\n",
        "print(x + np.reshape(w, (2, 1)))"
      ],
      "metadata": {
        "id": "ok0dl-gwku0y"
      },
      "execution_count": null,
      "outputs": []
    },
    {
      "cell_type": "code",
      "source": [
        "# Multiply a matrix by a constant:\n",
        "# x has shape (2, 3). Numpy treats scalars as arrays of shape ();\n",
        "# these can be broadcast together to shape (2, 3), producing the\n",
        "# following array:\n",
        "print(x * 2)"
      ],
      "metadata": {
        "id": "3T9u9cB9kygX"
      },
      "execution_count": null,
      "outputs": []
    },
    {
      "cell_type": "markdown",
      "source": [
        "Трансляция обычно делает ваш код более лаконичным и быстрым, поэтому вы должны стремиться использовать ее там, где это возможно."
      ],
      "metadata": {
        "id": "Ur0nGumdk7_w"
      }
    },
    {
      "cell_type": "markdown",
      "source": [
        "Этот краткий обзор затронул многие важные вещи, которые вам нужно знать о numpy, но он далеко не полный. Обратитесь к [numpy reference](http://docs.scipy.org/doc/numpy/reference/), чтобы узнать о numpy гораздо больше."
      ],
      "metadata": {
        "id": "jjXZDWiyk-3-"
      }
    },
    {
      "cell_type": "markdown",
      "source": [
        "### Matplotlib\n",
        "\n",
        "Matplotlib - это мощная библиотека для построения графиков, гистограмм и прочей визуализации. В этом разделе дается краткое введение в модуль `matplotlib.pyplot`.\n",
        "\n",
        "Иногда мы будем использовать другие библиотеки для визуализации: Seaborn, Plotly.\n",
        "\n",
        "Загрузим `matplotlib.pyplot`:"
      ],
      "metadata": {
        "id": "lMqeFTDqlJuW"
      }
    },
    {
      "cell_type": "code",
      "source": [
        "import matplotlib.pyplot as plt"
      ],
      "metadata": {
        "id": "RAe4vFUIlckC"
      },
      "execution_count": null,
      "outputs": []
    },
    {
      "cell_type": "markdown",
      "source": [
        "Для использования в чистой Jupyter-среде (не актуально для Google Colaboratory) вам потребуется выполнить специальную команду `%matplotlib inline`."
      ],
      "metadata": {
        "id": "CdcpHhOdl-g-"
      }
    },
    {
      "cell_type": "markdown",
      "source": [
        "#### Графики\n",
        "\n",
        "Наиболее важной функцией в `matplotlib.pyplot` является `plot`, которая позволяет строить графики двумерных данных. Вот простой пример:"
      ],
      "metadata": {
        "id": "fJMpvulomyQA"
      }
    },
    {
      "cell_type": "code",
      "source": [
        "# Compute the x and y coordinates for points on a sine curve\n",
        "x = np.arange(0, 3 * np.pi, 0.1)\n",
        "y = np.sin(x)\n",
        "\n",
        "# Plot the points using matplotlib\n",
        "plt.plot(x, y)"
      ],
      "metadata": {
        "id": "P9Exys4Bm9zH"
      },
      "execution_count": null,
      "outputs": []
    },
    {
      "cell_type": "markdown",
      "source": [
        "С помощью небольшой дополнительной работы мы можем легко построить несколько линий одновременно, добавить заголовок, легенду и метки осей:"
      ],
      "metadata": {
        "id": "EN2kvnNKnA0v"
      }
    },
    {
      "cell_type": "code",
      "source": [
        "y_sin = np.sin(x)\n",
        "y_cos = np.cos(x)\n",
        "\n",
        "# Plot the points using matplotlib\n",
        "plt.plot(x, y_sin)\n",
        "plt.plot(x, y_cos)\n",
        "plt.xlabel('x axis label')\n",
        "plt.ylabel('y axis label')\n",
        "plt.title('Sine and Cosine')\n",
        "plt.legend(['Sine', 'Cosine'])"
      ],
      "metadata": {
        "id": "5ipJG0pNnGkf"
      },
      "execution_count": null,
      "outputs": []
    },
    {
      "cell_type": "markdown",
      "source": [
        "#### Subplots\n",
        "\n",
        "С помощью функции `subplot` можно изобразить разные объекты на одном рисунке. Вот пример:"
      ],
      "metadata": {
        "id": "x-apa4DSnLbP"
      }
    },
    {
      "cell_type": "code",
      "source": [
        "# Compute the x and y coordinates for points on sine and cosine curves\n",
        "x = np.arange(0, 3 * np.pi, 0.1)\n",
        "y_sin = np.sin(x)\n",
        "y_cos = np.cos(x)\n",
        "\n",
        "plt.figure(figsize=(10,4))\n",
        "\n",
        "# Set up a subplot grid that has height 2 and width 1,\n",
        "# and set the first such subplot as active.\n",
        "plt.subplot(2, 2, 1)\n",
        "\n",
        "# Make the first plot\n",
        "plt.plot(x, y_sin)\n",
        "plt.title('Sine')\n",
        "\n",
        "plt.subplot(2, 2, 2)\n",
        "\n",
        "# Make the first plot\n",
        "plt.plot(x, y_sin)\n",
        "plt.title('Sine2')\n",
        "\n",
        "plt.subplot(2, 2, 3)\n",
        "\n",
        "# Make the first plot\n",
        "plt.plot(x, y_cos)\n",
        "plt.title('Cosine2')\n",
        "\n",
        "# Set the second subplot as active, and make the second plot.\n",
        "plt.subplot(2, 2, 4)\n",
        "plt.plot(x, y_cos)\n",
        "plt.title('Cosine')\n",
        "\n",
        "# Show the figure.\n",
        "plt.show()"
      ],
      "metadata": {
        "id": "tF_IdtU_nUk5"
      },
      "execution_count": null,
      "outputs": []
    },
    {
      "cell_type": "markdown",
      "source": [
        "Более подробно о функции `subplot` можно прочитать в [документации](http://matplotlib.org/api/pyplot_api.html#matplotlib.pyplot.subplot)."
      ],
      "metadata": {
        "id": "z58GSvQrnbWA"
      }
    },
    {
      "cell_type": "markdown",
      "source": [
        "#### Гистограммы\n",
        "\n",
        "Для создания одномерной гистограммы нам нужен только один вектор чисел. Для двухмерной гистограммы нам понадобится второй вектор. Ниже мы сгенерируем оба вектора и покажем гистограмму для каждого из них."
      ],
      "metadata": {
        "id": "SZ6XbtAqnnjX"
      }
    },
    {
      "cell_type": "code",
      "source": [
        "plt.subplots()"
      ],
      "metadata": {
        "id": "oGHayVIKbJgk"
      },
      "execution_count": null,
      "outputs": []
    },
    {
      "cell_type": "code",
      "source": [
        "N_points = 100000\n",
        "n_bins = 20\n",
        "\n",
        "# Create a random number generator with a fixed seed for reproducibility\n",
        "rng = np.random.default_rng(19680801)\n",
        "\n",
        "# Generate two normal distributions\n",
        "dist1 = rng.standard_normal(N_points)\n",
        "dist2 = 0.4 * rng.standard_normal(N_points) + 5\n",
        "\n",
        "fig, axs = plt.subplots(1, 2, sharey=True, tight_layout=True)\n",
        "\n",
        "# We can set the number of bins with the *bins* keyword argument.\n",
        "axs[0].hist(dist1, bins=n_bins)\n",
        "axs[1].hist(dist2, bins=n_bins)"
      ],
      "metadata": {
        "id": "-pVQ-6q6n-Pi"
      },
      "execution_count": null,
      "outputs": []
    },
    {
      "cell_type": "markdown",
      "source": [
        "Для построения двумерной гистограммы достаточно иметь два вектора одинаковой длины, соответствующие каждой оси гистограммы."
      ],
      "metadata": {
        "id": "k9KktbWWoQ6K"
      }
    },
    {
      "cell_type": "code",
      "source": [
        "fig, ax = plt.subplots(tight_layout=True)\n",
        "hist = ax.hist2d(dist1, dist2)"
      ],
      "metadata": {
        "id": "vjH8xAYAoTNE"
      },
      "execution_count": null,
      "outputs": []
    },
    {
      "cell_type": "markdown",
      "source": [
        "Настройка 2D гистограммы аналогична случаю с 1D, вы можете управлять визуальными компонентами, такими как размер бина или цвет."
      ],
      "metadata": {
        "id": "9MQMIADTobit"
      }
    },
    {
      "cell_type": "code",
      "source": [
        "from matplotlib import colors\n",
        "\n",
        "fig, axs = plt.subplots(3, 1, figsize=(5, 15), sharex=True, sharey=True,\n",
        "                        tight_layout=True)\n",
        "\n",
        "# We can increase the number of bins on each axis\n",
        "axs[0].hist2d(dist1, dist2, bins=40)\n",
        "\n",
        "# As well as define normalization of the colors\n",
        "axs[1].hist2d(dist1, dist2, bins=40, norm=colors.LogNorm())\n",
        "\n",
        "# We can also define custom numbers of bins for each axis\n",
        "axs[2].hist2d(dist1, dist2, bins=(80, 10), norm=colors.LogNorm())\n",
        "\n",
        "plt.show()"
      ],
      "metadata": {
        "id": "Go0c5jLSog9q"
      },
      "execution_count": null,
      "outputs": []
    },
    {
      "cell_type": "markdown",
      "source": [
        "### Pandas\n",
        "\n",
        "Pandas - это библиотека, предоставляющая такие структуры данных, как `DataFrame` и `Series`, для эффективного хранения таблиц или массивов для быстрой индексации, группировки и обработки. В этом разделе дается краткое введение в ее основные компоненты."
      ],
      "metadata": {
        "id": "SoaOaIU1ouUl"
      }
    },
    {
      "cell_type": "code",
      "source": [
        "import pandas as pd"
      ],
      "metadata": {
        "id": "APGV8CAko3wP"
      },
      "execution_count": null,
      "outputs": []
    },
    {
      "cell_type": "markdown",
      "source": [
        "#### Загрузка данных\n",
        "\n",
        "Объект `pandas.DataFrame` можно создать практически из любого файла, если вы знаете, как в нем разделены строки и столбцы. Можно также создать его из массива `numpy`, а затем вручную назначить имена столбцов:"
      ],
      "metadata": {
        "id": "7S7ETQp1o85w"
      }
    },
    {
      "cell_type": "code",
      "source": [
        "%%capture\n",
        "\n",
        "# Load some csv data\n",
        "!wget https://raw.githubusercontent.com/hse-ppmm/Seminars/main/titanic.csv\n",
        "# And some plain .data files with columns specified in .names\n",
        "!wget http://archive.ics.uci.edu/ml/machine-learning-databases/iris/iris.data\n",
        "!wget http://archive.ics.uci.edu/ml/machine-learning-databases/iris/iris.names\n",
        "# Create some numpy array\n",
        "sm_arr = np.random.randn(150, 3)"
      ],
      "metadata": {
        "id": "QAw5kVZHpN0B"
      },
      "execution_count": null,
      "outputs": []
    },
    {
      "cell_type": "code",
      "source": [
        "# Read csv data. Note the `sep` argument - it tells `pandas` how to split lines\n",
        "# csv_data = pd.read_csv(\"titanic.csv\", sep=',')\n",
        "# или\n",
        "csv_data = pd.read_csv(\"https://raw.githubusercontent.com/hse-ppmm/Seminars/main/titanic.csv\", sep=',')\n",
        "# Show top 5 rows of data\n",
        "csv_data.head(5)"
      ],
      "metadata": {
        "id": "2hVIwCbDphZQ"
      },
      "execution_count": null,
      "outputs": []
    },
    {
      "cell_type": "code",
      "source": [
        "# Read .data file that contains features of Iris dataset.\n",
        "# Note that column names are not provided - so we set header=None\n",
        "# (Otherwise it treats the first row as column names)\n",
        "ord_data = pd.read_table(\"iris.data\", sep=',', header=None)\n",
        "# Assign column names manually\n",
        "ord_data.columns = [\n",
        "                    \"sepal length\", \"sepal width\",\n",
        "                    \"petal length\", \"petal width\", \"class\"\n",
        "]\n",
        "# Shift row index by 3\n",
        "ord_data.index = [v + 3 for v in ord_data.index]\n",
        "# Show last 4 samples\n",
        "ord_data.tail(4)"
      ],
      "metadata": {
        "id": "1lvqoUlJsoXl"
      },
      "execution_count": null,
      "outputs": []
    },
    {
      "cell_type": "code",
      "source": [
        "# Read numpy array and assign random column names\n",
        "arr_data = pd.DataFrame(\n",
        "    sm_arr,\n",
        "    columns=[\"feature \" + str(i) for i in range(3)]\n",
        ")\n",
        "# One-dimensional arrays can be converted to Series\n",
        "arr_flat_data = pd.Series(sm_arr[:,0])\n",
        "# Get shapes\n",
        "arr_data.shape, arr_flat_data.shape"
      ],
      "metadata": {
        "id": "ZrIvjqxQs0eJ"
      },
      "execution_count": null,
      "outputs": []
    },
    {
      "cell_type": "markdown",
      "source": [
        "#### Индексы в DataFrame\n",
        "\n",
        "Аналогично `python`, `pandas` использует ссылочные переменные для классов `DataFrame` и `Series` для экономии памяти. Он также поддерживает большую часть `numpy`-подобной индексации. Кроме того, мы можем получить доступ к их содержимому с помощью методов `.loc` и `.iloc`, а также итерировать их с помощью методов `.iterrows` и `.iteritems`:"
      ],
      "metadata": {
        "id": "CKPNLjOftFn0"
      }
    },
    {
      "cell_type": "code",
      "source": [
        "# Use sm condition to filter rows\n",
        "cond_data = ord_data.loc[ord_data[\"sepal length\"] > 7.0]\n",
        "cond_data.sample(7)"
      ],
      "metadata": {
        "id": "FvNrgp43tjB7"
      },
      "execution_count": null,
      "outputs": []
    },
    {
      "cell_type": "code",
      "source": [
        "# Or specify desired indices\n",
        "cond_data = ord_data.iloc[105:110, :]\n",
        "cond_data.head()"
      ],
      "metadata": {
        "id": "XgfPwU_Vtlaf"
      },
      "execution_count": null,
      "outputs": []
    },
    {
      "cell_type": "code",
      "source": [
        "# Replace sepal length values of 7.3 to 9.2\n",
        "for idx, line in cond_data.iterrows():\n",
        "    if line[\"sepal length\"] == 7.3:\n",
        "        cond_data.loc[idx, \"sepal length\"] = 9.2\n",
        "\n",
        "cond_data.iloc[1:4, 0] # SettingWithCopyWarning"
      ],
      "metadata": {
        "id": "lAVBRDkotonU"
      },
      "execution_count": null,
      "outputs": []
    },
    {
      "cell_type": "markdown",
      "source": [
        "Обратите внимание на предупреждение. И `cond_data`, и `ord_data` являются ссылками, указывающими на одно и то же пространство, поэтому обновление содержимого `cond_data` через `.loc` автоматически обновит содержимое `ord_data`. Мы можем исправить это, используя метод `.copy`:"
      ],
      "metadata": {
        "id": "QfGjtt8Itu_9"
      }
    },
    {
      "cell_type": "code",
      "source": [
        "# More advanced version - drop inefficient `for` looping with a `where` method,\n",
        "# then copy it\n",
        "cond_data_2 = cond_data.where(cond_data[\"sepal width\"] != 7.3, 9.2).copy()\n",
        "cond_data_2.loc[:, \"petal length\"] = 10.0\n",
        "\n",
        "cond_data_2.sample(3, random_state=0)"
      ],
      "metadata": {
        "id": "KwHmYZuItvhh"
      },
      "execution_count": null,
      "outputs": []
    },
    {
      "cell_type": "code",
      "source": [
        "# Original data left unmodified\n",
        "cond_data.sample(3, random_state=0)"
      ],
      "metadata": {
        "id": "L05xpxwbt6BZ"
      },
      "execution_count": null,
      "outputs": []
    },
    {
      "cell_type": "code",
      "source": [
        "cond_data.describe()"
      ],
      "metadata": {
        "id": "ETbU9pgit7R8"
      },
      "execution_count": null,
      "outputs": []
    },
    {
      "cell_type": "markdown",
      "source": [
        "#### Визуализация\n",
        "\n",
        "Библиотека `pandas` предоставляет несколько методов визуализации, такие как `boxplot` и `scatter_matrix`:"
      ],
      "metadata": {
        "id": "GKgcf141t-GG"
      }
    },
    {
      "cell_type": "code",
      "source": [
        "# Visualize mean/std and quantiles for interval values\n",
        "# Ignores all non-interval values (e.g. 'classes')\n",
        "pd.plotting.boxplot(\n",
        "    ord_data,\n",
        "    grid=True\n",
        ")\n",
        "plt.show()"
      ],
      "metadata": {
        "id": "aIu2L3ypuNDu"
      },
      "execution_count": null,
      "outputs": []
    },
    {
      "cell_type": "code",
      "source": [
        "# Plot grid of pairwise scatterplots (histograms for diagonal values)\n",
        "pd.plotting.scatter_matrix(\n",
        "    # Select only some columns\n",
        "    ord_data[['petal length', 'petal width', 'sepal length']],\n",
        "    grid=True\n",
        ")\n",
        "plt.show()"
      ],
      "metadata": {
        "id": "8KYfvUC5uVEw"
      },
      "execution_count": null,
      "outputs": []
    },
    {
      "cell_type": "markdown",
      "source": [
        "Больше инструментов предоставляется в пакетах `matplotlib` и `seaborn`, которые поддерживают объекты `pandas`."
      ],
      "metadata": {
        "id": "r4wy2W1cucL3"
      }
    },
    {
      "cell_type": "markdown",
      "source": [
        "#### Статистика\n",
        "\n",
        "`pandas` предоставляет несколько полезных методов для изучения статистики признаков:"
      ],
      "metadata": {
        "id": "Pr0l9rveukNN"
      }
    },
    {
      "cell_type": "code",
      "source": [
        "# `count` row describes number of nonNA feature values in column,\n",
        "# 25%, 50%, 75% shows respective percentiles\n",
        "csv_data.describe()"
      ],
      "metadata": {
        "id": "6wj0jQFfuqoJ"
      },
      "execution_count": null,
      "outputs": []
    },
    {
      "cell_type": "code",
      "source": [
        "# Any nan values in columns?\n",
        "csv_data.isna().any()"
      ],
      "metadata": {
        "id": "JdJF-MsCuvZH"
      },
      "execution_count": null,
      "outputs": []
    },
    {
      "cell_type": "code",
      "source": [
        "# Pairwise correlations btwn column features\n",
        "csv_data[['Age', 'Fare', 'Survived']].corr()"
      ],
      "metadata": {
        "id": "AeANLxPquw9b"
      },
      "execution_count": null,
      "outputs": []
    },
    {
      "cell_type": "code",
      "source": [
        "# Get amounts of unique values for categorical feature and show it in hist\n",
        "csv_data['Pclass'].value_counts().plot(kind='bar')\n",
        "plt.show()"
      ],
      "metadata": {
        "id": "7U34DVnMu5j8"
      },
      "execution_count": null,
      "outputs": []
    },
    {
      "cell_type": "code",
      "source": [
        "csv_data['Survived'].value_counts().plot(kind='bar')"
      ],
      "metadata": {
        "id": "TeCIx0gNhaRw"
      },
      "execution_count": null,
      "outputs": []
    },
    {
      "cell_type": "code",
      "source": [
        "# plt.hist(csv_data['Pclass'])"
      ],
      "metadata": {
        "id": "_CGRzjU7hB0D"
      },
      "execution_count": null,
      "outputs": []
    },
    {
      "cell_type": "code",
      "source": [
        "csv_data.head()"
      ],
      "metadata": {
        "id": "NVMBWxHnu-CH"
      },
      "execution_count": null,
      "outputs": []
    },
    {
      "cell_type": "code",
      "source": [
        "csv_data.iloc[0, :]['Name']"
      ],
      "metadata": {
        "id": "TcAWTN_rvA0c"
      },
      "execution_count": null,
      "outputs": []
    },
    {
      "cell_type": "code",
      "source": [
        "# Extract all surnames of passengers and count unique instances\n",
        "csv_data.apply(lambda row: row['Name'].split(',')[0], axis=1).unique().shape"
      ],
      "metadata": {
        "id": "z8oDqC1gvE-g"
      },
      "execution_count": null,
      "outputs": []
    },
    {
      "cell_type": "code",
      "source": [
        "# Highlight larger pairwise correlations with color\n",
        "csv_data.corr().style.background_gradient()"
      ],
      "metadata": {
        "id": "Zai7iHeyvJPq"
      },
      "execution_count": null,
      "outputs": []
    },
    {
      "cell_type": "markdown",
      "metadata": {
        "id": "HxHXWgKEYftZ"
      },
      "source": [
        "### Работа со случайными числами"
      ]
    },
    {
      "cell_type": "code",
      "metadata": {
        "id": "Xasp1vCOYftZ"
      },
      "source": [
        "import numpy as np\n",
        "import numpy.random"
      ],
      "execution_count": null,
      "outputs": []
    },
    {
      "cell_type": "code",
      "metadata": {
        "id": "cEcyJAfeYftZ"
      },
      "source": [
        "# numpy.random.seed(42)\n",
        "\n",
        "# x = numpy.random.normal(2.0, 1.0, 1000)\n",
        "# print(x.shape)\n",
        "# print(np.mean(x))\n",
        "# print(np.var(x))\n",
        "# print()\n",
        "\n",
        "# x = numpy.random.normal(np.arange(4).reshape(2,2), 1.0, (1000,2,2))\n",
        "# print(x.shape)\n",
        "# print(np.mean(x, axis=0))\n",
        "# print(np.var(x, axis=0))\n",
        "# print()\n",
        "\n",
        "x = numpy.random.normal(3.0, 1.0, 100000)\n",
        "_ = plt.hist(x,250)\n",
        "print(np.mean(x))\n",
        "print(np.var(x))"
      ],
      "execution_count": null,
      "outputs": []
    },
    {
      "cell_type": "code",
      "source": [
        "# plt.hist2d(x[0,:],x[1,:])"
      ],
      "metadata": {
        "id": "9eBAd-Lujmof"
      },
      "execution_count": null,
      "outputs": []
    },
    {
      "cell_type": "code",
      "metadata": {
        "id": "29dffz1yYfta"
      },
      "source": [
        "# numpy.random.seed(42)\n",
        "\n",
        "x = numpy.random.poisson(6.0, 10000)\n",
        "print(np.mean(x))\n",
        "print(np.var(x))\n",
        "_ = plt.hist(x,25)"
      ],
      "execution_count": null,
      "outputs": []
    },
    {
      "cell_type": "markdown",
      "metadata": {
        "id": "kTjfbgLti3HR"
      },
      "source": [
        "# Разведочный анализ данных\n",
        "\n",
        "EDA, Exploratory Data Analysis\n",
        "\n",
        "<img src=\"http://sharpsightlabs.com/wp-content/uploads/2016/05/1_data-analysis-for-ML_how-we-use-dataAnalysis_2016-05-16.png\" />"
      ]
    },
    {
      "cell_type": "code",
      "metadata": {
        "id": "0CM65ntBjjLj"
      },
      "source": [
        "# Датасет https://www.kaggle.com/c/house-prices-advanced-regression-techniques/data\n",
        "# Примеры из курса https://www.hse.ru/edu/courses/450323352\n",
        "data = pd.read_csv('https://raw.githubusercontent.com/hse-ppmm/Seminars/main/house-pricing-train.csv')"
      ],
      "execution_count": null,
      "outputs": []
    },
    {
      "cell_type": "code",
      "metadata": {
        "id": "3vuvB1DWsdAl"
      },
      "source": [
        "data.head(10)"
      ],
      "execution_count": null,
      "outputs": []
    },
    {
      "cell_type": "code",
      "metadata": {
        "id": "W0SqDYOBjrAO"
      },
      "source": [
        "data.shape"
      ],
      "execution_count": null,
      "outputs": []
    },
    {
      "cell_type": "code",
      "source": [
        "data.info()"
      ],
      "metadata": {
        "id": "-zrZOthAy1pZ"
      },
      "execution_count": null,
      "outputs": []
    },
    {
      "cell_type": "markdown",
      "metadata": {
        "id": "odFsF2MttqYb"
      },
      "source": [
        "## Что делать с пропущенными записями?"
      ]
    },
    {
      "cell_type": "code",
      "metadata": {
        "id": "83Zx5Y3sjyxv"
      },
      "source": [
        "data.describe(include='all')"
      ],
      "execution_count": null,
      "outputs": []
    },
    {
      "cell_type": "markdown",
      "source": [
        "#### Убрать признаки с неполным количеством записей?"
      ],
      "metadata": {
        "id": "ZFprgX0sz6p0"
      }
    },
    {
      "cell_type": "code",
      "metadata": {
        "id": "zX8mnMMytu3P"
      },
      "source": [
        "columns_to_drop = ['LotFrontage', 'FireplaceQu', 'GarageYrBlt', 'GarageFinish', 'GarageQual', 'GarageCond']\n",
        "data.drop(columns=columns_to_drop, inplace=True),\n",
        "data.shape"
      ],
      "execution_count": null,
      "outputs": []
    },
    {
      "cell_type": "markdown",
      "source": [
        "#### Как распределена целевая переменная?\n",
        "\n",
        "Целевым признаком является `SalePrice`.\n",
        "\n",
        "Есть ли у него пропущенные значения.\n",
        "Как оно распределено?\n",
        "Есть ли выбросы?\n",
        "\n",
        "Постройте график распределения (гистограмму), чтобы ответить на эти вопросы."
      ],
      "metadata": {
        "id": "GPaENPGtzTDq"
      }
    },
    {
      "cell_type": "code",
      "metadata": {
        "id": "kn_7umKBj5zz"
      },
      "source": [
        "print(data['SalePrice'].describe())\n",
        "plt.figure(figsize=(8, 6))\n",
        "plt.hist(data['SalePrice']);"
      ],
      "execution_count": null,
      "outputs": []
    },
    {
      "cell_type": "markdown",
      "metadata": {
        "id": "EsDTsaCIv-tk"
      },
      "source": [
        "### Числовые данные"
      ]
    },
    {
      "cell_type": "code",
      "metadata": {
        "id": "q_6V86L9v989"
      },
      "source": [
        "list(set(data.dtypes.tolist()))"
      ],
      "execution_count": null,
      "outputs": []
    },
    {
      "cell_type": "code",
      "metadata": {
        "id": "DArX3wgMwHCG"
      },
      "source": [
        "df_num = data.select_dtypes(include = ['float64', 'int64'])\n",
        "df_num.shape"
      ],
      "execution_count": null,
      "outputs": []
    },
    {
      "cell_type": "code",
      "metadata": {
        "id": "6X246UB2ke3Y"
      },
      "source": [
        "df_num.hist(figsize=(16, 20), bins=50, xlabelsize=8, ylabelsize=8);"
      ],
      "execution_count": null,
      "outputs": []
    },
    {
      "cell_type": "markdown",
      "metadata": {
        "id": "ZE5B8NU_wqzu"
      },
      "source": [
        "### Корреляции"
      ]
    },
    {
      "cell_type": "code",
      "metadata": {
        "id": "1HJpsyQYwtYL"
      },
      "source": [
        "df_num_corr = df_num.corr() # Корреляционная матрица\n",
        "df_num_corr = df_num_corr['SalePrice'][:-1] # Рассмотрим корреляции к переменной SalePrice за исключением её самой\n",
        "df_num_corr[:10]"
      ],
      "execution_count": null,
      "outputs": []
    },
    {
      "cell_type": "code",
      "metadata": {
        "id": "hpCKQUcRkra6"
      },
      "source": [
        "golden_features_list = list(df_num_corr[abs(df_num_corr) >= 0.5].index)\n",
        "print(\"There is {} strongly correlated values with SalePrice:\\n{}\".format(len(golden_features_list), golden_features_list))"
      ],
      "execution_count": null,
      "outputs": []
    },
    {
      "cell_type": "code",
      "metadata": {
        "id": "Yb3h0L7ixPEv"
      },
      "source": [
        "import warnings\n",
        "warnings.simplefilter(action='ignore', category=FutureWarning)\n",
        "import seaborn as sns\n",
        "sns.set()\n",
        "\n",
        "for i in range(0, len(df_num.columns), 5):\n",
        "    sns.pairplot(data=df_num,\n",
        "                x_vars=df_num.columns[i:i+5],\n",
        "                y_vars=['SalePrice'])"
      ],
      "execution_count": null,
      "outputs": []
    },
    {
      "cell_type": "code",
      "metadata": {
        "id": "Hy3_7pmqdRiY"
      },
      "source": [
        "# sns.pairplot(data)"
      ],
      "execution_count": null,
      "outputs": []
    },
    {
      "cell_type": "markdown",
      "metadata": {
        "id": "beVAEfxcyOwV"
      },
      "source": [
        "### Категорийные переменные"
      ]
    },
    {
      "cell_type": "code",
      "metadata": {
        "id": "eQ9sf9sAySAE"
      },
      "source": [
        "df_cat = data.select_dtypes(include = ['O'])\n",
        "df_cat.head()"
      ],
      "execution_count": null,
      "outputs": []
    },
    {
      "cell_type": "code",
      "metadata": {
        "id": "1_FqticgyV3d"
      },
      "source": [
        "import warnings\n",
        "warnings.simplefilter(action='ignore', category=FutureWarning)\n",
        "import seaborn as sns\n",
        "feature = 'KitchenQual'\n",
        "unique_values = set(data[feature].values)\n",
        "plt.figure(figsize=(10, 7))\n",
        "for value in unique_values:\n",
        "    sns.distplot(data[data[feature] == value]['SalePrice'], label=f'{feature} = {value}')\n",
        "tmp = plt.legend()\n",
        "tmp = plt.show()"
      ],
      "execution_count": null,
      "outputs": []
    },
    {
      "cell_type": "code",
      "metadata": {
        "id": "2T9fvBX7kr6o"
      },
      "source": [
        "corr = df_num.drop('SalePrice', axis=1).corr()\n",
        "plt.figure(figsize=(12, 10))\n",
        "\n",
        "sns.heatmap(corr[(corr >= 0.5) | (corr <= -0.4)],\n",
        "            cmap='viridis', vmax=1.0, vmin=-1.0, linewidths=0.1,\n",
        "            annot=True, annot_kws={\"size\": 8}, square=True);"
      ],
      "execution_count": null,
      "outputs": []
    }
  ]
}
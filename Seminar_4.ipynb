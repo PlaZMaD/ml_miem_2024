{
  "nbformat": 4,
  "nbformat_minor": 0,
  "metadata": {
    "colab": {
      "provenance": [],
      "toc_visible": true,
      "include_colab_link": true
    },
    "kernelspec": {
      "name": "python3",
      "display_name": "Python 3"
    },
    "language_info": {
      "name": "python"
    }
  },
  "cells": [
    {
      "cell_type": "markdown",
      "metadata": {
        "id": "view-in-github",
        "colab_type": "text"
      },
      "source": [
        "<a href=\"https://colab.research.google.com/github/PlaZMaD/ml_miem_2024/blob/main/Seminar_4.ipynb\" target=\"_parent\"><img src=\"https://colab.research.google.com/assets/colab-badge.svg\" alt=\"Open In Colab\"/></a>"
      ]
    },
    {
      "cell_type": "markdown",
      "source": [
        "# Семинар 4. Основы статистического обучения\n"
      ],
      "metadata": {
        "id": "huz9_vLb5vj0"
      }
    },
    {
      "cell_type": "markdown",
      "source": [
        "Использованы материала курса [Машинное обучение 1](https://www.hse.ru/edu/courses/339499745).\n",
        "\n",
        "В этом упражнении мы изучим некоторые наборы данных, включенные в [учебник ISLR](https://hastie.su.domains/ISLR2/ISLRv2_website.pdf). Код в учебнике написан на языке R, но многие функции имеют эквивалент в Python."
      ],
      "metadata": {
        "id": "ZXMmQEGZ6GDe"
      }
    },
    {
      "cell_type": "code",
      "source": [
        "# let the statsmodels library to be consistent with latest pandas\n",
        "!pip -q install --upgrade statsmodels\n",
        "\n",
        "# allows us to print multiple outputs from a single Colab cell\n",
        "from IPython.core.interactiveshell import InteractiveShell\n",
        "InteractiveShell.ast_node_interactivity = \"all\"\n",
        "\n",
        "# load important libraries that we might use\n",
        "import numpy as np, pandas as pd, matplotlib.pylab as plt, seaborn as sns, statsmodels.api as sm\n",
        "from sklearn.model_selection import train_test_split as tts\n",
        "from sklearn.metrics import r2_score\n",
        "\n",
        "# Increase viewable area of Pandas tables, numpy arrays, plots\n",
        "pd.options.display.max_rows = 15\n",
        "pd.options.display.max_columns = 50\n",
        "np.set_printoptions(linewidth=10000, precision=4, edgeitems=20, suppress=True)\n",
        "plt.rcParams['figure.figsize'] = [16, 6]"
      ],
      "metadata": {
        "id": "UpYgn5XX7jfl"
      },
      "execution_count": null,
      "outputs": []
    },
    {
      "cell_type": "markdown",
      "source": [
        "Загрузим датасет `advertising`:"
      ],
      "metadata": {
        "id": "3_G-gMw8669J"
      }
    },
    {
      "cell_type": "code",
      "source": [
        "csv_url = 'https://raw.githubusercontent.com/hse-ppmm/Seminars/main/advertising.csv' # assign file path to a variable\n",
        "colNames = ['TV', 'radio', 'newspaper', 'sales']\n",
        "df = pd.read_csv(csv_url)#[colNames]   # load dataframe and slice (filter) columns\n",
        "df.head()"
      ],
      "metadata": {
        "id": "eNv_TlUs7rdq"
      },
      "execution_count": null,
      "outputs": []
    },
    {
      "cell_type": "code",
      "source": [
        "df.tail(10)"
      ],
      "metadata": {
        "id": "UBael7n3ma7f"
      },
      "execution_count": null,
      "outputs": []
    },
    {
      "cell_type": "code",
      "source": [
        "df.sample(10)"
      ],
      "metadata": {
        "id": "anRfvaMd-TLe"
      },
      "execution_count": null,
      "outputs": []
    },
    {
      "cell_type": "code",
      "source": [
        "df.TV"
      ],
      "metadata": {
        "id": "vDZiNO0L-WHc"
      },
      "execution_count": null,
      "outputs": []
    },
    {
      "cell_type": "code",
      "source": [
        "df['TV']"
      ],
      "metadata": {
        "id": "YQIFTZa6-WtY"
      },
      "execution_count": null,
      "outputs": []
    },
    {
      "cell_type": "markdown",
      "source": [
        "## Типы данных\n",
        "\n",
        "Мы переходим к исследованию набора данных. Функция `df.info()` - это быстрый способ обнаружить возможные распространённые проблемы с данными.\n",
        "\n",
        "**Почему:** Мы всегда должны быть знакомы со структурами данных наших данных. Неожиданные типы данных могут испортить производительность модели. Например, числа, загруженные как строки, потеряют свое упорядочение и связанные с ними алгебраические операции.\n",
        "\n",
        "**Вывод:** Результаты `df.info()` ниже показывают.\n",
        "* отсутствие пропущенных значений => не является проблемой для числовых вычислений\n",
        "* все переменные с плавающими значениями => не проблема для числовых вычислений\n",
        "* 6.4 КБ данных в памяти => не проблема для ресурсов оперативной памяти\n",
        "* 4 переменные и 200 значений в каждом столбце, как и ожидалось"
      ],
      "metadata": {
        "id": "lrZ5dR7W-guX"
      }
    },
    {
      "cell_type": "code",
      "source": [
        "df.info()"
      ],
      "metadata": {
        "id": "3VNLfRy4-vzu"
      },
      "execution_count": null,
      "outputs": []
    },
    {
      "cell_type": "markdown",
      "source": [
        "## Scatterplot\n",
        "\n",
        "Мы можем строить графики непосредственно из объектов `DataFrame` без явного вызова библиотеки `matplotlib`. Визуализации являются эффективными инструментами подведения итогов, но у них есть свои ограничения, преимущества и недостатки. Освоение этих техник и развитие интуиции требует времени и усилий.\n",
        "\n",
        "**Почему**: Мы хотим глубже изучить взаимосвязь между `radio` и `newspaper`. Мы можем сделать это с помощью `scatterplot`.\n",
        "\n",
        "**Вывод:**\n",
        "* Сильная связь между двумя переменными будет выражена в определенной форме. Случайно разбросанные точки говорят об отсутствии взаимосвязи. Линейная связь выражалась бы в виде вытянутого облака вдоль какой-то негоризонтальной линии. Здесь мы этого не видим.\n",
        "* Однако мы наблюдаем некоторый перекос точек данных в правую область графика.\n",
        "* В целом, коллинеарность этих двух переменных не должна вызывать беспокойства при прогнозировании продаж, но крайние 4 наблюдения могут быть проблематичными для моделей, использующих евклидовы метрики расстояния, поскольку значения координат этих точек будут доминировать при обучении коэффициентов модели.\n",
        "* Обратите внимание, что 3 точки в правом верхнем углу имеют обе сильно выделяющиеся от остальных точек координаты; и одна точка (в правой нижней области) имеет только одну такую отличающуюся координату."
      ],
      "metadata": {
        "id": "i529wpIq-1nn"
      }
    },
    {
      "cell_type": "code",
      "source": [
        "# note the semicolon, which suppresses extraneous output\n",
        "df.plot.scatter('TV', 'sales', grid=True, title='Scatter plot of Radio and TV');"
      ],
      "metadata": {
        "id": "kibRMMYR_HvG"
      },
      "execution_count": null,
      "outputs": []
    },
    {
      "cell_type": "markdown",
      "source": [
        "## Корреляция\n",
        "\n",
        "DataFrames могут позволить нам вычислить различные статистики за один вызов своего метода.\n",
        "\n",
        "**Почему:** Мы хотели бы еще больше обобщить взаимосвязь с помощью коэффициента корреляции Пирсона. Примечательно, что он измеряет только линейную связь между парами значений координат.\n",
        "\n",
        "**Понятие:**\n",
        "* Диагональные элементы - это корреляции переменных с самими собой, поэтому все они единицы. Внедиагональные значения указывают на выборочные корреляции между каждой парой переменных. В частности, `0.35` между `newspaper` и `radio`. Это не очень высокий показатель, но он указывает на некоторую линейную связь, что согласуется с нашими наблюдениями на диаграмме рассеяния выше.\n",
        "* Итак, небольшая коллинеарность присутствует, но пока не является серьезной проблемой."
      ],
      "metadata": {
        "id": "vmFS4Hc-_Z0l"
      }
    },
    {
      "cell_type": "code",
      "source": [
        "df.corr()"
      ],
      "metadata": {
        "id": "5FLenfQt_hEw"
      },
      "execution_count": null,
      "outputs": []
    },
    {
      "cell_type": "code",
      "source": [
        "plt.hist2d(df.radio, df.TV)\n",
        "plt.xlabel('radio')\n",
        "plt.ylabel('TV')"
      ],
      "metadata": {
        "id": "1NIeDF_Qn75w"
      },
      "execution_count": null,
      "outputs": []
    },
    {
      "cell_type": "code",
      "source": [
        "print(np.mean(df.TV))\n",
        "\n",
        "print(np.std(df.TV))"
      ],
      "metadata": {
        "id": "xc_gVKMWoV6H"
      },
      "execution_count": null,
      "outputs": []
    },
    {
      "cell_type": "code",
      "source": [
        "df.describe(percentiles=[.5])"
      ],
      "metadata": {
        "id": "zza5sRacKQZT"
      },
      "execution_count": null,
      "outputs": []
    },
    {
      "cell_type": "markdown",
      "source": [
        "## Базовая статистика\n",
        "\n",
        "На самом деле, есть ещё один простой способ получить основную статистику для наших переменных. При этом мы должны стараться заметить 4 свойства каждой переменной:\n",
        "1. **Центральность** говорит нам о местоположении каждой переменной. Типичными показателями являются среднее, медиана, мода, усеченное среднее и т.д. Если среднее $\\approx$ медиана, то распределение симметрично.\n",
        "2. **Дисперсия** говорит нам о дисперсии значений. Типичными показателями являются дисперсия, стандартное отклонение, диапазон, интерквартильный размах (IQR).\n",
        "3. **Перекошенность** показывает, является ли распределение значений перекошенным влево/вправо или симметричным.\n",
        "4. **Куртозис** говорит нам, присутствуют ли в данных экстремальные значения. Это может быть проблематично для многих моделей, которые используют евклидову метрику для измерения важности сходства между переменными. Экстремальные значения потенциально могут быть [**влиятельными**](https://en.wikipedia.org/wiki/Influential_observation) (сильно влияющими на наклон регрессионных моделей).\n",
        "\n",
        "**Зачем:** Мы хотим быстро оценить любые аномалии в распределениях переменных.\n",
        "\n",
        "**Вывод:** Из основных статистических данных ниже мы узнаем, что.\n",
        "* **Центральность**:\n",
        "  * среднее значение `TV` и медиана близки ($147\\approx 150$, учитывая `std` 86$). Симметричное распределение может быть смоделировано с помощью нормальной плотности (если это необходимо). Итак, отметим эту симметрию. Отметим, что бюджет `ТВ` в ~6 раз больше, чем у `radio` или `newspaper`.\n",
        "  * среднее и медиана `radio` также похожи, в свете `std` ~15\n",
        "  * ``newspaper`` имеет небольшой перекос вправо, ее среднее значение больше медианы. Это предполагает правый перекос или большой правый хвост (некоторые экстремальные положительные значения). Действительно, мы отмечаем максимальное значение 114, что в ~4.5 раза больше медианы, в то время как минимальное значение составляет всего 0.3. Экстремальные значения могут повлиять на некоторые модели, если соответствующие значения ответов не являются экстремальными.\n",
        "* ... мы переходим к наблюдению и оценке каждого момента каждой переменной"
      ],
      "metadata": {
        "id": "VeaKBo32_qHf"
      }
    },
    {
      "cell_type": "code",
      "source": [
        "plt.hist(df.sales)"
      ],
      "metadata": {
        "id": "abQ8burxrNc0"
      },
      "execution_count": null,
      "outputs": []
    },
    {
      "cell_type": "code",
      "source": [
        "df.describe().T"
      ],
      "metadata": {
        "id": "yv-BozOK_1mF"
      },
      "execution_count": null,
      "outputs": []
    },
    {
      "cell_type": "markdown",
      "source": [
        "## Взаимосвязи\n",
        "\n",
        "**Зачем:** Приведенные выше статистические данные дают представление о взаимосвязях между нашими переменными. Мы можем построить быструю визуализацию для оценки любой потенциально сильной взаимосвязи, которая может либо помочь, либо навредить модели. Взаимосвязи с откликом полезны, в то время как взаимосвязи между признаками проблематичны. Последние вносят избыточность в набор данных. Это может привести к нестабильности и затруднить интерпретацию обученных параметров регрессии.\n",
        "\n",
        "**Вывод:**\n",
        "\n",
        "Графики\n",
        "* Взаимосвязи между характеристиками не очевидны. В частности, `TV` и `radio` выглядят как чистый шум от равномерного распределения в обеих координатах.\n",
        "* Сильная связь отмечается между `TV` и `sales`.\n",
        "* `radio` имеет более слабую объяснительную силу в `sales`\n",
        "* `newspaper` практически не связана с `sales`, но имеет некоторую связь с `radio`.\n",
        "* Мы также должны рассмотреть некоторые преобразования признаков, которые усилят их объясняющую способность `sales`, по крайней мере, в линейной модели.\n",
        "\n",
        "Гистограммы\n",
        "* `TV` и `radio` выглядят равномерно распределенными\n",
        "* `newspaper`, похоже, следует некоторому [треугольному распределению](https://en.wikipedia.org/wiki/Triangular_distribution). Оно также напоминает экспоненциальное. В меньшей степени это похоже на [экспоненциальное распределение](https://en.wikipedia.org/wiki/Exponential_distribution). Обратите внимание на частоту правого хвоста при значении около 100. Мы наблюдали это и в сводке основных статистических данных.\n",
        "* `sales` также похожа на треугольную и, в некоторой степени, на гауссову. Однако она не является полностью симметричной, так как мы наблюдаем правый перекос распределения. Кроме того, гауссовская случайная величина имеет [support](https://en.wikipedia.org/wiki/Support_(математика)) (где плотность ненулевая) $\\mathbb{R}$, в то время как переменная `sales` не может быть отрицательной. Поэтому поддержка продаж равна $\\mathbb{R}_{\\ge0}$.\n",
        ""
      ],
      "metadata": {
        "id": "osNvim3yAZrE"
      }
    },
    {
      "cell_type": "code",
      "source": [
        "ax = sns.pairplot(df, plot_kws=dict(linewidth=0, s=3));\n",
        "ax.fig.suptitle(\"Pairplot of variables in Advertising dataset\", y=1);\n",
        "ax.fig.set_size_inches(10,4);   # control the size of your visualiztaions"
      ],
      "metadata": {
        "id": "jQfkUrrEBA60"
      },
      "execution_count": null,
      "outputs": []
    },
    {
      "cell_type": "markdown",
      "source": [
        "## Корреляционный график\n",
        "\n",
        "Обычно мы избегаем избыточности, когда это возможно. Здесь для демонстрации альтернативного метода мы используем библиотеку seaborn для построения корреляционной матрицы. Примечательно, что это дает количественную оценку качественным изображениям, которые мы видели выше.\n",
        "\n",
        "**Почему:** Мы хотим оценить линейные отношения между всеми переменными. Это позволяет выявить важные полезные (коррелирующие) и проблемные признаки.\n",
        "\n",
        "**Вывод:**\n",
        "* Корреляция 0.78 между `TV` и `sales` должна сильно помочь линейной модели.\n",
        "* `radio` также имеет сильную корреляцию с `sales` и некоррелирует с `TV`, следовательно, `radio` должно внести дополнительный вклад в производительность модели.\n",
        "* `newspaper` имеет наименьшую корреляцию с `sales`, но также слабо коррелирует с другими характеристиками.\n",
        "* Мы не наблюдаем сильных корреляций между характеристиками."
      ],
      "metadata": {
        "id": "QdudIms8BF2O"
      }
    },
    {
      "cell_type": "code",
      "source": [
        "plt.rcParams['figure.figsize'] = [6, 3];  # control the size of your visualiztaions\n",
        "sns.heatmap(df.corr(), annot = True);     # note the semicolon, which suppresses extraneous output"
      ],
      "metadata": {
        "id": "RzBMyLleBPl7"
      },
      "execution_count": null,
      "outputs": []
    },
    {
      "cell_type": "markdown",
      "source": [
        "## Базовая модель, v0 (версия 0)\n",
        "\n",
        "Теперь, когда некоторые исследовательские анализы данных (EDA) завершены, давайте проверим одну модель. Пропущенных значений не отмечено, и все переменные являются числовыми. Итак, мы можем применить линейную регрессию непосредственно к данному набору данных `Advertising`.\n",
        "\n",
        "### Обучение и тестирование наблюдений\n",
        "\n",
        "Сначала нам нужно (*случайно!*) разделить наблюдения на обучающий и тестовый наборы. Затем обучить модель на обучающих наблюдениях и оценить на тестовых наблюдениях. Для воспроизводимости мы всегда засеваем наши модели любым числом (ноль подходит для любого). Для вычисления **вневыборочной** (тестовой) силы модели мы берем 20% наблюдений.\n",
        "\n",
        "ВАЖНО: Очень важно убедиться, что переменная отклика не является частью входных данных. Такая **утечка** является типичной ошибкой. Если результаты вашей модели слишком хороши, чтобы быть правдой, подозревайте утечку.\n",
        "\n",
        "У нас есть:\n",
        "* `tX` - обучающие признаки\n",
        "* `tY` - соответствующие обучающие ответы\n",
        "* `vX` - признаки валидации (тестирования)\n",
        "* `vY` - соответствующие валидационные (тестовые) ответы.\n",
        "\n",
        "**Вывод:** Наконец, мы делаем проверку, что мы нигде не ошиблись.\n",
        "* у нас есть 160 обучающих ответов и 160 обучающих наблюдений\n",
        "* 40 тестовых ответов и 40 тестовых наблюдений.\n",
        "* 3 функции входят в модель во время обучения\n",
        "* 3 функции входят в модель во время тестирования."
      ],
      "metadata": {
        "id": "hVnMf9vRBUIl"
      }
    },
    {
      "cell_type": "code",
      "source": [
        "from statsmodels.regression.linear_model import OLS\n",
        "?OLS"
      ],
      "metadata": {
        "id": "QjqBfMInBm9T"
      },
      "execution_count": null,
      "outputs": []
    },
    {
      "cell_type": "code",
      "source": [
        "from sklearn.model_selection import train_test_split as tts\n",
        "\n",
        "tX, vX, tY, vY = tts(df.drop('sales', axis=1), df['sales'], test_size = 0.2, random_state=0)\n",
        "print(f'Sanity check for dimensions of variables: {tX.shape, vX.shape, tY.shape, vY.shape}')"
      ],
      "metadata": {
        "id": "gnqzhu1YBuxq"
      },
      "execution_count": null,
      "outputs": []
    },
    {
      "cell_type": "markdown",
      "source": [
        "**Зачем:** Быстрое создание прототипа позволит получить немедленную обратную связь о наших минимальных усилиях. Мы будем использовать результаты модели v0 в качестве эталона в следующей итерации. Если модель v1 превзойдет v0, мы оставим v1. В противном случае мы попробуем различные изменения.\n",
        "\n",
        "**Вывод:**\n",
        "* $R^2_{\\text{OOS}}=0.98$ очень высок, но мы наблюдали сильную корреляцию между входными данными и ответом и низкую корреляцию между входными данными. Таким образом, этот результат не является необычным, и утечка не вызывает беспокойства.\n",
        "* В этой базовой модели в таблице коэффициентов отсутствует член смещения (перехвата). Возможно, его добавление в модель v1 улучшит $R^2_{\\text{OOS}}$.\n",
        "* `TV` и `radio` имеют p-значения ниже, чем заданный нами уровень значимости, $\\alpha=0.01$. Мы считаем их значимыми для данной модели. С точки зрения статистики, в каждом случае мы отвергаем нулевые гипотезы о том, что их коэффициенты равны нулю. То есть $H_0:\\beta_{\\text{TV}}=0$, $H_0:\\beta_{\\text{radio}}=0$ отвергаются в пользу соответствующих альтернативных гипотез.\n",
        "* Однако, мы не можем отвергнуть $H_0:\\beta_{\\text{newsp\n",
        "aper}}=0$ при $\\alpha=0.01$, потому что p-значение 0.064 превышает указанную $\\alpha$.\n",
        "  * Прежде чем отбросить переменную `newspaper` как незначимую, давайте добавим член смещения и заново оценим эффективность и значимость переменной.\n",
        "* Коэффициенты говорят нам о том, что при прочих равных условиях расходы в размере 1 доллар на рекламу по телевидению должны увеличить продажи на 5 центов, а расходы в размере 1 доллар на рекламу по радио должны увеличить продажи на 23 цента."
      ],
      "metadata": {
        "id": "lJiHM89TBz82"
      }
    },
    {
      "cell_type": "markdown",
      "source": [
        "$f(x) = \\beta_0 + \\beta_1 x_1 + \\beta_2 x_2 + \\beta_3 x_3$"
      ],
      "metadata": {
        "id": "Rcei0dbjwXYl"
      }
    },
    {
      "cell_type": "code",
      "source": [
        "fmdl = OLS(tY, tX).fit()    # training on train observations\n",
        "#fmdl = mdl.fit()\n",
        "print(fmdl.summary(title='Baseline model for Advertising dataset', alpha=.01))\n",
        "pY = fmdl.predict(vX)   # predicted values on the testing set\n",
        "print(f'Out of sample R^2 is {r2_score(vY,pY):.2f}')"
      ],
      "metadata": {
        "id": "rHZffwxSCHe7"
      },
      "execution_count": null,
      "outputs": []
    },
    {
      "cell_type": "code",
      "source": [
        "ax = sns.pairplot(df, plot_kws=dict(linewidth=0, s=3));\n",
        "ax.fig.suptitle(\"Pairplot of variables in Advertising dataset\", y=1);\n",
        "ax.fig.set_size_inches(10,4);   # control the size of your visualiztaions"
      ],
      "metadata": {
        "id": "ayZ0QuNAvMQM"
      },
      "execution_count": null,
      "outputs": []
    },
    {
      "cell_type": "code",
      "source": [
        "from sklearn.linear_model import LinearRegression\n",
        "\n",
        "fdml = LinearRegression()\n",
        "fdml.fit(tX, tY)"
      ],
      "metadata": {
        "id": "7r1CEb8jCJRU"
      },
      "execution_count": null,
      "outputs": []
    },
    {
      "cell_type": "code",
      "source": [
        "print(list(tY))"
      ],
      "metadata": {
        "id": "pTdYJ_dPxejg"
      },
      "execution_count": null,
      "outputs": []
    },
    {
      "cell_type": "code",
      "source": [
        "linear_estimates = fdml.predict(vX)"
      ],
      "metadata": {
        "id": "KAHAjLYoCLDR"
      },
      "execution_count": null,
      "outputs": []
    },
    {
      "cell_type": "code",
      "source": [
        "linear_estimates"
      ],
      "metadata": {
        "id": "GBEeLSDQCOPm"
      },
      "execution_count": null,
      "outputs": []
    },
    {
      "cell_type": "code",
      "source": [
        "from sklearn.metrics import mean_squared_error, mean_absolute_error"
      ],
      "metadata": {
        "id": "JwhmFZAKCVf1"
      },
      "execution_count": null,
      "outputs": []
    },
    {
      "cell_type": "code",
      "source": [
        "np.sqrt(mean_squared_error(vY, linear_estimates))"
      ],
      "metadata": {
        "id": "ZNzWeRpECXuC"
      },
      "execution_count": null,
      "outputs": []
    },
    {
      "cell_type": "code",
      "source": [
        "mean_absolute_error(vY, linear_estimates)"
      ],
      "metadata": {
        "id": "s0q1CSZnCah-"
      },
      "execution_count": null,
      "outputs": []
    },
    {
      "cell_type": "code",
      "source": [
        "linear_estimates_train = fdml.predict(tX)\n",
        "np.sqrt(mean_squared_error(tY, linear_estimates_train))"
      ],
      "metadata": {
        "id": "FcB91ITiChZP"
      },
      "execution_count": null,
      "outputs": []
    },
    {
      "cell_type": "code",
      "source": [
        "df.describe()"
      ],
      "metadata": {
        "id": "RTzMp7NLCkIZ"
      },
      "execution_count": null,
      "outputs": []
    },
    {
      "cell_type": "markdown",
      "metadata": {
        "id": "vVvFTws9Yfta"
      },
      "source": [
        "Метод наименьших квадратов\n",
        "=========================="
      ]
    },
    {
      "cell_type": "code",
      "metadata": {
        "id": "F2DOxkyFYfta"
      },
      "source": [
        "x = np.linspace(0,10, 50)\n",
        "a, b = 2.5, 5.25\n",
        "y = a * x + b + np.random.normal(0.0, 2.0, x.shape)\n",
        "\n",
        "plt.scatter(x,y)"
      ],
      "execution_count": null,
      "outputs": []
    },
    {
      "cell_type": "code",
      "metadata": {
        "id": "-hqpMM4xYftb"
      },
      "source": [
        "import numpy.linalg\n",
        "\n",
        "A = np.vstack([x, np.ones_like(x)]).T\n",
        "theta = np.linalg.solve(A.T.dot(A), A.T.dot(y))\n",
        "res = np.linalg.norm(A.dot(theta)-y)**2\n",
        "theta_err = np.linalg.inv(A.T.dot(A)) * res / (x.shape[0] - theta.shape[0])\n",
        "predicted = A.dot(theta)\n",
        "plt.scatter(x,y)\n",
        "plt.plot(x, predicted, color='red')\n",
        "a, b = 2.5, 5.25\n",
        "y = a * x + b\n",
        "plt.plot(x, y, c='g')\n",
        "print(\"a = {} +- {}\".format(theta[0], np.sqrt(theta_err[0,0])))\n",
        "print(\"b = {} +- {}\".format(theta[1], np.sqrt(theta_err[1,1])))"
      ],
      "execution_count": null,
      "outputs": []
    },
    {
      "cell_type": "code",
      "metadata": {
        "id": "k91y5gi2Yftb"
      },
      "source": [
        "theta, res, _, _ = numpy.linalg.lstsq(A, y, rcond=None)\n",
        "print(theta)"
      ],
      "execution_count": null,
      "outputs": []
    },
    {
      "cell_type": "code",
      "metadata": {
        "id": "iHLDztFFYftb"
      },
      "source": [
        "import scipy\n",
        "import scipy.linalg\n",
        "\n",
        "theta, res, _, _ = scipy.linalg.lstsq(A, y)\n",
        "print(theta)"
      ],
      "execution_count": null,
      "outputs": []
    },
    {
      "cell_type": "code",
      "metadata": {
        "id": "8WHxpdhLYftc"
      },
      "source": [
        "import sklearn\n",
        "import sklearn.linear_model\n",
        "\n",
        "r = sklearn.linear_model.LinearRegression()\n",
        "r.fit(x.reshape(-1,1), y.reshape(-1,1))\n",
        "predicted = r.predict(x.reshape(-1,1))\n",
        "plt.scatter(x,y)\n",
        "plt.plot(x, predicted, color='red')\n",
        "print(np.hstack([r.coef_,[r.intercept_,]]))"
      ],
      "execution_count": null,
      "outputs": []
    },
    {
      "cell_type": "code",
      "metadata": {
        "id": "AdWJ_9FfYftc"
      },
      "source": [
        "import statsmodels.api as sm\n",
        "\n",
        "mod = sm.OLS(y, sm.add_constant(x))\n",
        "res = mod.fit()\n",
        "print(res.summary())"
      ],
      "execution_count": null,
      "outputs": []
    },
    {
      "cell_type": "code",
      "metadata": {
        "scrolled": true,
        "id": "oH0TB1DiYftc"
      },
      "source": [
        "import pandas as pd\n",
        "import numpy as np\n",
        "import sklearn\n",
        "import sklearn.linear_model\n",
        "# from sklearn.model_selection import train_test_split\n",
        "# from sklearn.metrics import mean_squared_error\n",
        "\n",
        "names = (\"id\", \"n\", \"Na\", \"Mg\", \"Al\", \"Si\", \"K\", \"Ca\", \"Ba\", \"Fe\", \"Type\")\n",
        "data = pd.read_csv('https://raw.githubusercontent.com/hse-ppmm/Seminars/main/glass.csv', header=None, names=names, index_col=0)\n",
        "\n",
        "x = np.asarray(data.iloc[:, 1:9])\n",
        "y = np.asarray(data.iloc[:, [0]]).reshape(-1,1)\n",
        "\n",
        "x_train, x_test, y_train, y_test = tts(x, y, random_state=42)\n",
        "print(x_train.shape, x_test.shape)\n",
        "\n",
        "r = sklearn.linear_model.LinearRegression()\n",
        "r.fit(x_train, y_train)\n",
        "mse_test = np.sqrt(mean_squared_error(y_test, r.predict(x_test)))\n",
        "\n",
        "print(mse_test, np.mean(y))\n",
        "\n",
        "plt.scatter(y_test, r.predict(x_test))\n",
        "plt.xlabel(\"True\")\n",
        "plt.ylabel(\"Predicted\")\n",
        "_ = plt.axis('equal')"
      ],
      "execution_count": null,
      "outputs": []
    },
    {
      "cell_type": "markdown",
      "metadata": {
        "id": "KSg7wpMfYftd"
      },
      "source": [
        "### Представление о плохо обусловленных и некорректных задачах"
      ]
    },
    {
      "cell_type": "markdown",
      "metadata": {
        "id": "0xqBMAfGYftd"
      },
      "source": [
        "$$\\alpha x^2 + \\beta y^2 = 1$$"
      ]
    },
    {
      "cell_type": "code",
      "metadata": {
        "id": "iDSTmFymYftd"
      },
      "source": [
        "from matplotlib.patches import Ellipse\n",
        "\n",
        "def fit_ellipse(x, plot = False):\n",
        "    X = x**2\n",
        "    cond = numpy.linalg.cond(X)\n",
        "\n",
        "    r = sklearn.linear_model.LinearRegression(fit_intercept=False)\n",
        "    r.fit(X, np.ones((x.shape[0],1)))\n",
        "\n",
        "    theta = np.asarray(r.coef_).reshape(-1)\n",
        "    width, height = 2 * numpy.power(theta, np.full_like(theta, -0.5), out=np.full_like(theta, np.nan), where=theta>0)\n",
        "\n",
        "    if plot:\n",
        "        ellipse = Ellipse((0, 0), width=width, height=height, fill=False, edgecolor='red')\n",
        "        plt.scatter(*x.T)\n",
        "        plt.xlim(-2.5,2.5)\n",
        "        plt.ylim(-2.5,2.5)\n",
        "        plt.axis('equal')\n",
        "        ax = plt.gca()\n",
        "        ax.add_patch(ellipse)\n",
        "\n",
        "    return width, height, cond\n",
        "\n",
        "def generate_ellipse(phi, width, height, size):\n",
        "    x = np.vstack([width / 2 * np.cos(phi), height / 2 * np.sin(phi)]).T\n",
        "    X = x + np.random.normal(0.0, 0.0125, (size,*x.shape))\n",
        "    return X\n",
        ""
      ],
      "execution_count": null,
      "outputs": []
    },
    {
      "cell_type": "code",
      "metadata": {
        "id": "UpH6Yb9nYftd"
      },
      "source": [
        "numpy.random.seed(42)\n",
        "\n",
        "width = 2.0\n",
        "height = 4.0\n",
        "\n",
        "lim = 7.5 / 180.0 * np.pi\n",
        "phi = np.linspace(-lim,lim,4)\n",
        "X = generate_ellipse(phi, width, height, 1000)\n",
        "\n",
        "fit_ellipse(X[1], True)\n",
        "fit_ellipse(X[3], True)\n",
        "\n",
        "r = np.array([fit_ellipse(X[i]) for i in range(X.shape[0])])\n",
        "print(np.nanmean(r, axis=0))\n",
        "print(np.nanstd(r, axis=0))"
      ],
      "execution_count": null,
      "outputs": []
    },
    {
      "cell_type": "code",
      "source": [
        "out= generate_ellipse(phi, width, height, 1000)\n",
        "print(out[0])"
      ],
      "metadata": {
        "id": "AbPH4jRqUqdw"
      },
      "execution_count": null,
      "outputs": []
    },
    {
      "cell_type": "code",
      "metadata": {
        "id": "xWCDrd7wYfte"
      },
      "source": [
        "lim = 7.5 / 180.0 * np.pi\n",
        "phi = np.linspace(-lim,lim,4)\n",
        "phi = np.concatenate([phi, [1.5,]])\n",
        "X = generate_ellipse(phi, width, height, 1000)\n",
        "\n",
        "fit_ellipse(X[1], True)\n",
        "fit_ellipse(X[3], True)\n",
        "\n",
        "r = np.array([fit_ellipse(X[i]) for i in range(X.shape[0])])\n",
        "print(np.nanmean(r, axis=0))\n",
        "print(np.nanstd(r, axis=0))"
      ],
      "execution_count": null,
      "outputs": []
    },
    {
      "cell_type": "markdown",
      "metadata": {
        "id": "JSUCfTo8Yfte"
      },
      "source": [
        "### Представление о регуляризации"
      ]
    },
    {
      "cell_type": "markdown",
      "metadata": {
        "id": "K2YOsrIbYftf"
      },
      "source": [
        "Пусть нам кто-то сказал, что искомый эллипс очень похож на единичный круг:\n",
        "\n",
        "$$\\Delta \\alpha x^2 + \\Delta \\beta y^2 = 1 - x^2 - y^2,$$\n",
        "\n",
        "тогда $\\Delta \\alpha^2 + \\Delta \\beta^2 \\rightarrow 0$."
      ]
    },
    {
      "cell_type": "code",
      "metadata": {
        "id": "vziCAS0XYftf"
      },
      "source": [
        "def fit_ellipse2(x, alpha, plot = False):\n",
        "    X = x**2\n",
        "    cond = numpy.linalg.cond(X)\n",
        "    y = (1.0 - np.sum(x**2, axis=1)).reshape(-1)\n",
        "\n",
        "    r = sklearn.linear_model.Ridge(fit_intercept=False, alpha=alpha)\n",
        "    r.fit(X, y)\n",
        "\n",
        "    theta = np.asarray(r.coef_).reshape(-1)\n",
        "    width, height = 2 * numpy.power(theta + 1.0, np.full_like(theta, -0.5), out=np.full_like(theta, np.nan), where=theta>-1.0)\n",
        "\n",
        "    if plot:\n",
        "        ellipse = Ellipse((0, 0), width=width, height=height, fill=False, edgecolor='red')\n",
        "        plt.scatter(*x.T)\n",
        "        plt.xlim(-2.5,2.5)\n",
        "        plt.ylim(-2.5,2.5)\n",
        "        plt.axis('equal')\n",
        "        ax = plt.gca()\n",
        "        ax.add_patch(ellipse)\n",
        "\n",
        "    return width, height, cond"
      ],
      "execution_count": null,
      "outputs": []
    },
    {
      "cell_type": "code",
      "metadata": {
        "id": "FRxyoadDYftf"
      },
      "source": [
        "lim = 7.5 / 180.0 * np.pi\n",
        "phi = np.linspace(-lim,lim,4)\n",
        "X = generate_ellipse(phi, width, height, 1000)\n",
        "alpha = np.geomspace(1e-6, 1e+3, 10)\n",
        "\n",
        "for x in alpha:\n",
        "    r = np.array([fit_ellipse2(X[i], x) for i in range(X.shape[0])])\n",
        "    print(\"alpha = {}\".format(x))\n",
        "    print(np.nanmean(r, axis=0))\n",
        "    print(np.nanstd(r, axis=0))\n",
        "    print()"
      ],
      "execution_count": null,
      "outputs": []
    },
    {
      "cell_type": "code",
      "metadata": {
        "id": "LMmpHYmWYftf"
      },
      "source": [
        "from sklearn.linear_model import LogisticRegression\n",
        "from sklearn.model_selection import train_test_split\n",
        "import sklearn.metrics\n",
        "import pandas as pd\n",
        "\n",
        "names = [\"length\", \"width\", \"size\", \"conc\", \"conc1\", \"asym\", \"m3long\", \"m3trans\", \"alpha\", \"dist\", \"class\"]\n",
        "data = pd.read_csv('https://raw.githubusercontent.com/hse-ppmm/Seminars/main/magic04.csv', names=names)\n",
        "\n",
        "x = np.asarray(data.iloc[:, :-1])\n",
        "y = np.asarray(data.iloc[:, [-1]])\n",
        "\n",
        "x_train, x_test, y_train, y_test = train_test_split(x, y, random_state=42)\n",
        "\n",
        "c = LogisticRegression(random_state=42, solver=\"newton-cg\")\n",
        "c.fit(x_train, y_train.reshape(-1))\n",
        "\n",
        "score_train = c.score(x_train, y_train)\n",
        "score_test  = c.score(x_test, y_test)\n",
        "print(score_train, score_test)\n",
        "\n",
        "y_test_predicted = c.predict(x_test)\n",
        "y_test_scores =  c.decision_function(x_test)\n",
        "\n",
        "confusion_matrix = sklearn.metrics.confusion_matrix(y_test, y_test_predicted)\n",
        "\n",
        "fpr, tpr, _ = sklearn.metrics.roc_curve(y_test, y_test_scores, pos_label=c.classes_[-1])\n",
        "auc = sklearn.metrics.roc_auc_score(y_test, y_test_scores)\n",
        "\n",
        "plt.plot(fpr, tpr)\n",
        "plt.xlabel(\"False positive rate\")\n",
        "plt.ylabel(\"True positive rate\")\n",
        "print(auc)"
      ],
      "execution_count": null,
      "outputs": []
    },
    {
      "cell_type": "markdown",
      "metadata": {
        "id": "udB0w_suYftg"
      },
      "source": [
        "Метод максимального правдоподобия\n",
        "------------------------------------------------------------"
      ]
    },
    {
      "cell_type": "code",
      "metadata": {
        "id": "AuuWTXdHYftg"
      },
      "source": [
        "numpy.random.seed(42)\n",
        "x = numpy.random.normal(1.5, 0.25, 1000)\n",
        "\n",
        "mu_estimate = x.sum() / x.shape[0]\n",
        "sigma2_estimate = ((x - mu_estimate)**2).sum() / x.shape[0]\n",
        "\n",
        "mu_estimate, np.sqrt(sigma2_estimate)"
      ],
      "execution_count": null,
      "outputs": []
    },
    {
      "cell_type": "code",
      "metadata": {
        "id": "ohvGZ2AbYftg"
      },
      "source": [
        "numpy.random.seed(42)\n",
        "x = numpy.random.poisson(2.45, 1000)\n",
        "\n",
        "lambda_estimate = x.sum() / x.shape[0]\n",
        "\n",
        "lambda_estimate"
      ],
      "execution_count": null,
      "outputs": []
    },
    {
      "cell_type": "code",
      "metadata": {
        "id": "6P_cpBrAYfth"
      },
      "source": [
        "numpy.random.seed(42)\n",
        "x = np.random.lognormal(1.5, 0.25, 1000)\n",
        "\n",
        "mu_estimate = np.sum(np.log(x)) / x.shape[0]\n",
        "sigma2_estimate = np.sum((np.log(x) - mu_estimate)**2) / x.shape[0]\n",
        "\n",
        "mu_estimate, np.sqrt(sigma2_estimate)"
      ],
      "execution_count": null,
      "outputs": []
    },
    {
      "cell_type": "code",
      "source": [
        "plt.hist(x)"
      ],
      "metadata": {
        "id": "zv3oo09W4Q1y"
      },
      "execution_count": null,
      "outputs": []
    },
    {
      "cell_type": "code",
      "metadata": {
        "id": "NE8SfYHQYfti"
      },
      "source": [
        "numpy.random.seed(42)\n",
        "x = np.random.multivariate_normal([0.0, 0.0], [[1.0, 0.75],[0.75, 1.0]], 1000)\n",
        "plt.plot(*x.T,'*')\n",
        "\n",
        "mu_estimate = np.sum(x, axis=0) / x.shape[0]\n",
        "dx = x - mu_estimate\n",
        "sigma_estimate = np.tensordot(dx, dx, [0, 0]) / x.shape[0]\n",
        "\n",
        "mu_estimate, sigma_estimate"
      ],
      "execution_count": null,
      "outputs": []
    },
    {
      "cell_type": "markdown",
      "metadata": {
        "id": "-ztEeARAYfti"
      },
      "source": [
        "### Линейные модели авторегрессии скользящего среднего"
      ]
    },
    {
      "cell_type": "code",
      "metadata": {
        "id": "6K5YZNqSYftj"
      },
      "source": [
        "import statsmodels.api as sm\n",
        "import pandas as pd\n",
        "from statsmodels import tsa\n",
        "from statsmodels.tsa.statespace import sarimax\n",
        "from statsmodels.graphics import tsaplots\n",
        "from statsmodels.graphics import gofplots\n",
        "from scipy.stats import boxcox\n",
        "\n",
        "data = pd.read_csv('https://raw.githubusercontent.com/hse-ppmm/Seminars/main/sunspots.csv')\n",
        "x = np.asarray(data['YEAR']).reshape(-1,1)\n",
        "y = np.asarray(data['SUNACTIVITY']).reshape(-1,1)\n",
        "\n",
        "plt.plot(x, y)\n",
        "plt.xlabel(\"Year\")\n",
        "plt.ylabel(\"Activity index\")\n",
        "plt.title(\"Solar activity\")\n",
        "plt.tight_layout()"
      ],
      "execution_count": null,
      "outputs": []
    },
    {
      "cell_type": "code",
      "metadata": {
        "id": "AZ0jaaM3Yftj"
      },
      "source": [
        "plt.figure()\n",
        "gofplots.qqplot(y.reshape(-1), fit=True, line='45')\n",
        "plt.axis('equal')\n",
        "\n",
        "plt.figure()\n",
        "y_log = boxcox(y.reshape(-1)+1, 0)\n",
        "gofplots.qqplot(y_log.reshape(-1), fit=True, line='45')\n",
        "_ = plt.axis('equal')\n",
        "\n",
        "plt.figure()\n",
        "y_1 = boxcox(y.reshape(-1)+1, 0.5)\n",
        "gofplots.qqplot(y_1.reshape(-1), fit=True, line='45')\n",
        "_ = plt.axis('equal')"
      ],
      "execution_count": null,
      "outputs": []
    },
    {
      "cell_type": "code",
      "metadata": {
        "id": "kk_DmnO2Yftj"
      },
      "source": [
        "tsaplots.plot_acf(y_log, lags=np.arange(50))\n",
        "_ = tsaplots.plot_pacf(y_log, lags=np.arange(50))"
      ],
      "execution_count": null,
      "outputs": []
    },
    {
      "cell_type": "markdown",
      "source": [
        "![image.png](data:image/png;base64,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)"
      ],
      "metadata": {
        "id": "PF128yNoKGIA"
      }
    },
    {
      "cell_type": "code",
      "metadata": {
        "id": "jZyQoFCHYftk"
      },
      "source": [
        "arma_mod20 = sm.tsa.ARIMA(y_log, order=(2,0,0)).fit()\n",
        "print(arma_mod20.summary())\n",
        "\n",
        "arma_mod30 = sm.tsa.ARIMA(y_log, order=(3,0,0)).fit()\n",
        "print(arma_mod30.summary())\n",
        "\n",
        "# arma_mods11 = sm.tsa.ARIMA(y_log, order=(3,0,0), seasonal_order=(1,0,0,11)).fit()\n",
        "# print(arma_mods11.summary())"
      ],
      "execution_count": null,
      "outputs": []
    },
    {
      "cell_type": "code",
      "metadata": {
        "id": "Ro-5rFgIYftk"
      },
      "source": [
        "plt.figure()\n",
        "tsaplots.plot_acf(arma_mod20.resid, lags=np.arange(50))\n",
        "\n",
        "plt.figure()\n",
        "_ = tsaplots.plot_acf(arma_mod30.resid, lags=np.arange(50))\n",
        "\n",
        "# plt.figure()\n",
        "# _ = tsaplots.plot_acf(arma_mods11.resid, lags=np.arange(50))"
      ],
      "execution_count": null,
      "outputs": []
    },
    {
      "cell_type": "code",
      "metadata": {
        "id": "h8nGNWUlYftl"
      },
      "source": [
        "n_forecast = 40\n",
        "x_pred = np.arange(x[-1], x[-1] + n_forecast)\n",
        "y_pred_20 = arma_mod20.predict(len(x), len(x) + n_forecast - 1)\n",
        "# y_pred_s = arma_mods11.predict(len(x), len(x) + n_forecast - 1)\n",
        "\n",
        "plt.plot(x, y_log)\n",
        "plt.plot(x_pred, y_pred_20)\n",
        "# plt.plot(x_pred, y_pred_s)\n",
        "plt.xlabel(\"Year\")\n",
        "plt.ylabel(\"Activity index\")\n",
        "plt.title(\"Solar activity\")\n",
        "plt.tight_layout()\n",
        "plt.show()"
      ],
      "execution_count": null,
      "outputs": []
    },
    {
      "cell_type": "markdown",
      "source": [
        "# Градиентный спуск\n",
        "\n",
        "([источник](https://github.com/mravanba/comp551-notebooks))\n",
        "\n",
        "Чтобы подогнать нашу модель $f_w$ к данным $\\mathcal{D} = \\{x^{(1)}, \\ldots, x^{(N)}\\}$, мы максимизируем **логарифм условного правдоподобия**:\n",
        "\n",
        "$$\n",
        "\\ell(w; \\mathcal{D}) = \\sum_n \\log \\mathrm{Bernoulli}(y^{(n)} | \\sigma({x^{(n)}}^\\top w)) = \\sum_n y^{(n)} \\log \\sigma({x^{(n)}}^\\top w)) + (1-y^{(n)}) \\log (1-\\sigma({x^{(n)}}^\\top w)))\n",
        "$$\n",
        "\n",
        "Подставив определение логистической функции в уравнение выше, и минимизируя **отрицательное** логарифмическое правдоподобие, которое называется **целевой функцией** (*cost function*), мы получаем\n",
        "\n",
        "$$\n",
        "J(w) = \\sum_n y^{(n)} \\log(1+e^{-x w^\\top}) + (1-y^{(n)}) \\log(1+e^{x w^\\top})\n",
        "$$\n",
        "\n",
        "На практике мы используем среднее значение вместо суммы по наблюдениям."
      ],
      "metadata": {
        "id": "_2MdRjlXUEBY"
      }
    },
    {
      "cell_type": "code",
      "source": [
        "def cost_fn(x, y, w):\n",
        "    N, D = x.shape\n",
        "    z = np.dot(x, w)\n",
        "    J = np.mean(y * np.log1p(np.exp(-z)) + (1-y) * np.log1p(np.exp(z)))\n",
        "    return J"
      ],
      "metadata": {
        "id": "AC7tOEo1UVRR"
      },
      "execution_count": null,
      "outputs": []
    },
    {
      "cell_type": "markdown",
      "source": [
        "Для минимизации целевой функции мы используем градиентный спуск: начинаем с некоторого начального задания параметров $w$ и на каждой итерации делаем небольшой шаг в направлении, противоположном *градиенту*. Градиент целевой функции приведенной выше:\n",
        "\n",
        "$$\n",
        "\\frac{\\partial}{\\partial w_d} J(w) =\\sum_n - y^{(n)} x^{(n)}_d \\frac{e^{-w^\\top x^{(n)}}}{1 + e^{-w^\\top x^{(n)}}} +x^{(n)}_d (1- y^{(n)}) \\frac{e^{w^\\top x^{(n)}}}{1 + e^{w^\\top x^{(n)}}} = \\sum_n - x^{(n)}_d y^{(n)} (1-\\hat{y}^{(n)})+ x^{(n)}_d (1- y^{(n)}) \\hat{y}^{(n)} = x^{(n)}_d (\\hat{y}^{(n)} - y^{(n)})\n",
        "$$\n",
        "Поскольку на практике мы делим стоимость на $N$, мы должны сделать то же самое для градиента; см. реализацию ниже."
      ],
      "metadata": {
        "id": "_E9r1marUXzv"
      }
    },
    {
      "cell_type": "code",
      "source": [
        "def gradient(self, x, y):\n",
        "    N,D = x.shape\n",
        "    yh = logistic(np.dot(x, self.w))\n",
        "    grad = np.dot(x.T, yh - y)/N\n",
        "    return grad"
      ],
      "metadata": {
        "id": "u6AeHj14UbGF"
      },
      "execution_count": null,
      "outputs": []
    },
    {
      "cell_type": "markdown",
      "source": [
        "Здесь функция `fit` реализует градиентный спуск."
      ],
      "metadata": {
        "id": "GwMrL8JHUeJV"
      }
    },
    {
      "cell_type": "code",
      "source": [
        "logistic = lambda z: 1./ (1 + np.exp(-z))       #logistic function\n",
        "z = np.linspace(-10,10,100)\n",
        "\n",
        "class LogisticRegression:\n",
        "\n",
        "    def __init__(self, add_bias=True, learning_rate=.1, epsilon=1e-4, max_iters=1e5, verbose=False):\n",
        "        self.add_bias = add_bias\n",
        "        self.learning_rate = learning_rate\n",
        "        self.epsilon = epsilon\n",
        "        self.max_iters = max_iters\n",
        "        self.verbose = verbose\n",
        "\n",
        "    def fit(self, x, y):\n",
        "        if x.ndim == 1:\n",
        "            x = x[:, None]\n",
        "        if self.add_bias:\n",
        "            N = x.shape[0]\n",
        "            x = np.column_stack([x,np.ones(N)])\n",
        "        N,D = x.shape\n",
        "        self.w = np.zeros(D)\n",
        "        g = np.inf\n",
        "        t = 0\n",
        "        while np.linalg.norm(g) > self.epsilon and t < self.max_iters:\n",
        "            g = self.gradient(x, y)\n",
        "            self.w = self.w - self.learning_rate * g\n",
        "            t += 1\n",
        "\n",
        "        if self.verbose:\n",
        "            print(f'terminated after {t} iterations, with norm of the gradient equal to {np.linalg.norm(g)}')\n",
        "            print(f'the weight found: {self.w}')\n",
        "        return self\n",
        "\n",
        "    def predict(self, x):\n",
        "        if x.ndim == 1:\n",
        "            x = x[:, None]\n",
        "        Nt = x.shape[0]\n",
        "        if self.add_bias:\n",
        "            x = np.column_stack([x,np.ones(Nt)])\n",
        "        yh = logistic(np.dot(x,self.w))\n",
        "        return yh\n",
        "\n",
        "LogisticRegression.gradient = gradient"
      ],
      "metadata": {
        "id": "zdqwAF9hUjRt"
      },
      "execution_count": null,
      "outputs": []
    },
    {
      "cell_type": "markdown",
      "source": [
        "Возьмём синтетический пример:"
      ],
      "metadata": {
        "id": "tCuG8p4VUpsB"
      }
    },
    {
      "cell_type": "code",
      "source": [
        "N = 50\n",
        "x = np.linspace(-5,5, N)\n",
        "y = ( x < 2).astype(int)\n",
        "model = LogisticRegression(verbose=True, )\n",
        "yh = model.fit(x,y).predict(x)\n",
        "plt.plot(x, y, '.', label='dataset')\n",
        "plt.plot(x, yh, 'g', alpha=.5, label='predictions')\n",
        "plt.xlabel('x')\n",
        "plt.ylabel(r'$y$')\n",
        "plt.legend()\n",
        "plt.show()"
      ],
      "metadata": {
        "id": "ejMkEwVpUo_o"
      },
      "execution_count": null,
      "outputs": []
    },
    {
      "cell_type": "markdown",
      "source": [
        "Видим, что модель успешно описывает обучающие данные. Если запустить оптимизацию достаточно долго, то веса вырастут (по абсолютной величине) настолько, что предсказанные вероятности для точек данных вблизи границы(x=2) будут близки к нулю и единице.\n",
        "\n",
        "Построим график целевой функции для логистической регрессии в зависимости от параметров модели (весов) и покажем соответствие между различными весами. Функция `plot_contour` - вспомогательная функция, которую мы использовали для построения целевой функции для линейной регрессии."
      ],
      "metadata": {
        "id": "P-s-5zy2Uvu8"
      }
    },
    {
      "cell_type": "code",
      "source": [
        "import itertools\n",
        "def plot_contour(f, x1bound, x2bound, resolution, ax):\n",
        "    x1range = np.linspace(x1bound[0], x1bound[1], resolution)\n",
        "    x2range = np.linspace(x2bound[0], x2bound[1], resolution)\n",
        "    xg, yg = np.meshgrid(x1range, x2range)\n",
        "    zg = np.zeros_like(xg)\n",
        "    for i,j in itertools.product(range(resolution), range(resolution)):\n",
        "        zg[i,j] = f([xg[i,j], yg[i,j]])\n",
        "    ax.contour(xg, yg, zg, 100)\n",
        "    return ax"
      ],
      "metadata": {
        "id": "MxMEnb94U5Ua"
      },
      "execution_count": null,
      "outputs": []
    },
    {
      "cell_type": "code",
      "source": [
        "class GradientDescent:\n",
        "    def __init__(self, learning_rate=.001, max_iters=1e4, epsilon=1e-8, record_history=False):\n",
        "        self.learning_rate = learning_rate\n",
        "        self.max_iters = max_iters\n",
        "        self.record_history = record_history\n",
        "        self.epsilon = epsilon\n",
        "        if record_history:\n",
        "            self.w_history = []                 # записываем историю весов для визуализации\n",
        "\n",
        "    def run(self, gradient_fn, x, y, w):\n",
        "        grad = np.inf\n",
        "        t = 1\n",
        "        while np.linalg.norm(grad) > self.epsilon and t < self.max_iters:\n",
        "            grad = gradient_fn(x, y, w)               # градиент с текущими весами\n",
        "            w = w - self.learning_rate * grad         # обновление весов\n",
        "            if self.record_history:\n",
        "                self.w_history.append(w)\n",
        "            t += 1\n",
        "        return w"
      ],
      "metadata": {
        "id": "2xF131vmU6Lg"
      },
      "execution_count": null,
      "outputs": []
    },
    {
      "cell_type": "markdown",
      "source": [
        "Обратите внимание, что в приведенной выше реализации мы добавили возможность записи истории параметров модели во время градиентного спуска для визуализации. Давайте переделаем класс `LinearRegression` для использования оптимизатора."
      ],
      "metadata": {
        "id": "W-RgwcWvU_AY"
      }
    },
    {
      "cell_type": "code",
      "source": [
        "class LinearRegression:\n",
        "    def __init__(self, add_bias=True):\n",
        "        self.add_bias = add_bias\n",
        "        pass\n",
        "\n",
        "    def fit(self, x, y, optimizer):\n",
        "        if x.ndim == 1:\n",
        "            x = x[:, None]\n",
        "        if self.add_bias:\n",
        "            N = x.shape[0]\n",
        "            x = np.column_stack([x,np.ones(N)])\n",
        "        N,D = x.shape\n",
        "        def gradient(x, y, w):                          # функция градиента\n",
        "            yh =  x @ w\n",
        "            N, D = x.shape\n",
        "            grad = .2*np.dot(yh - y, x)/N\n",
        "            return grad\n",
        "        w0 = np.zeros(D)                                # начинаем с нулевыми весами\n",
        "        self.w = optimizer.run(gradient, x, y, w0)      # нахождение оптимальных весов\n",
        "        return self\n",
        "\n",
        "    def predict(self, x):\n",
        "        if self.add_bias:\n",
        "            x = np.column_stack([x,np.ones(N)])\n",
        "        yh = x@self.w\n",
        "        return yh"
      ],
      "metadata": {
        "id": "SyWcX_rOVBzp"
      },
      "execution_count": null,
      "outputs": []
    },
    {
      "cell_type": "code",
      "source": [
        "N = 100\n",
        "x = np.random.rand(N) * 10\n",
        "y = -4*x + 10 + 2*np.random.randn(N)\n",
        "optimizer = GradientDescent(learning_rate=.05, max_iters=500, record_history=True)\n",
        "model = LinearRegression()\n",
        "model.fit(x,y, optimizer)\n",
        "plt.plot(x, y, '.')\n",
        "for t,w in enumerate(optimizer.w_history):\n",
        "    plt.plot(x, x*w[0]+w[1], 'g-', alpha=t/len(optimizer.w_history), label=str(t))\n",
        "plt.xlabel('x')\n",
        "plt.ylabel(r'$y=xw_1 + w_0$')\n",
        "#plt.xlim(-20,20)\n",
        "#plt.ylim(-100,100)\n",
        "plt.show()"
      ],
      "metadata": {
        "id": "5AxY4PSlVCZb"
      },
      "execution_count": null,
      "outputs": []
    },
    {
      "cell_type": "code",
      "source": [
        "x_plus_bias = np.column_stack([x,np.ones(x.shape[0])])\n",
        "cost_w = lambda param: cost_fn(x_plus_bias, y, param)\n",
        "model_list = [(-10, 20), (-2, 2), (3,-3), (4,-4)]\n",
        "fig, axes = plt.subplots(ncols=2, nrows=1, constrained_layout=True, figsize=(10, 5))\n",
        "plot_contour(cost_w, [-50,30], [-10,50],  50, axes[0])\n",
        "colors = ['r','g', 'b', 'k']\n",
        "for i, w in enumerate(model_list):\n",
        "    axes[0].plot(w[0], w[1], 'x'+colors[i])\n",
        "    axes[1].plot(x, y, '.')\n",
        "    axes[1].plot(x, logistic(w[1] + np.dot(w[0], x)), '-'+colors[i], alpha=.5)\n",
        "axes[0].set_xlabel(r'$w_1$')\n",
        "axes[0].set_ylabel(r'$w_0$')\n",
        "axes[0].set_title('weight space')\n",
        "axes[1].set_xlabel('x')\n",
        "axes[1].set_ylabel(r'$y=xw_1 + w_0$')\n",
        "axes[1].set_title('data space')\n",
        "plt.show()"
      ],
      "metadata": {
        "id": "IdRA5pHAVGiL"
      },
      "execution_count": null,
      "outputs": []
    },
    {
      "cell_type": "markdown",
      "source": [
        "Учитывая, что мы можем вычислить градиент нашей функции потерь, мы можем минимизировать его, двигаясь в противоположном направлении к градиенту, используя некоторую скорость обучения (*learning rate*). Вы уже видели минимальную реализацию этого для функции `fit` в `LogisticRegression`. Здесь мы хотим попробовать различные методы градиентного спуска, реализуя их независимо от базовой модели. Таким образом, мы можем просто передать функцию `gradient()` оптимизатору и попросить его найти оптимальный набор параметров для нашей модели - то есть нам не нужна специализированная реализация, скажем, для `LinearRegression` и `LogisticRegression`. Хотя существуют различные способы, которыми мы могли бы иметь отдельный оптимизатор, здесь мы определяем класс оптимизатора - например, `StochasticGradientDescent` - и передаем экземпляр этого класса в функцию `fit` для нашей модели. Затем эта функция может запустить оптимизатор для данных."
      ],
      "metadata": {
        "id": "k8Q_VVRgVIdX"
      }
    },
    {
      "cell_type": "code",
      "source": [
        "cost = lambda w: .5*np.mean((w[0] + w[1]*x - y)**2)\n",
        "learning_rates = [.005, .05, .1]\n",
        "fig, axes = plt.subplots(ncols=len(learning_rates), nrows=1, constrained_layout=True, figsize=(10, 5))\n",
        "for i, lr in enumerate(learning_rates):\n",
        "    optimizer = GradientDescent(learning_rate=lr, max_iters=50, record_history=True)\n",
        "    model = LinearRegression()\n",
        "    model.fit(x,y, optimizer)\n",
        "    plot_contour(cost, [-20,20], [-5,5], 50, axes[i])\n",
        "    w_hist = np.vstack(optimizer.w_history)                  # история весов\n",
        "    axes[i].plot(w_hist[:,1], w_hist[:,0], '.r', alpha=.8)\n",
        "    axes[i].plot(w_hist[:,1], w_hist[:,0], '-r', alpha=.3)\n",
        "    axes[i].set_xlabel(r'$w_0$')\n",
        "    axes[i].set_ylabel(r'$w_1$')\n",
        "    axes[i].set_title(f'learning rate = {lr}')\n",
        "    axes[i].set_xlim([-20,20])\n",
        "    axes[i].set_ylim([-5,5])\n",
        "plt.show()"
      ],
      "metadata": {
        "id": "N7zC1-BvVM-7"
      },
      "execution_count": null,
      "outputs": []
    },
    {
      "cell_type": "markdown",
      "metadata": {
        "id": "xhBGi9KiYftl"
      },
      "source": [
        "# Гауссовы процессы"
      ]
    },
    {
      "cell_type": "code",
      "metadata": {
        "id": "UxoJO4adYftl"
      },
      "source": [
        "import pandas as pd\n",
        "from sklearn.metrics import mean_squared_error\n",
        "from sklearn.gaussian_process import GaussianProcessRegressor\n",
        "from sklearn.gaussian_process.kernels import RBF, WhiteKernel, RationalQuadratic, ExpSineSquared\n",
        "\n",
        "data = pd.read_csv('https://raw.githubusercontent.com/hse-ppmm/Seminars/main/sunspots.csv')\n",
        "x = np.asarray(data['YEAR']).reshape(-1,1)\n",
        "y = np.log(np.asarray(data['SUNACTIVITY']) + 1).reshape(-1,1)\n",
        "\n",
        "x_train = x[:-100]\n",
        "y_train = y[:-100]\n",
        "x_test = x[-100:]\n",
        "y_test = y[-100:]\n",
        "\n",
        "kernel = 1 * ExpSineSquared(length_scale=2, periodicity=22, periodicity_bounds=(20,25)) + WhiteKernel()\n",
        "gp = GaussianProcessRegressor(kernel=kernel, normalize_y=True)\n",
        "gp.fit(x_train, y_train)\n",
        "y_pred, y_std = gp.predict(x_test, return_std=True)\n",
        "y_pred_lo = y_pred.reshape(-1) - y_std\n",
        "y_pred_hi = y_pred.reshape(-1) + y_std\n",
        "\n",
        "print(\"Kernel: {}\".format(gp.kernel_))\n",
        "\n",
        "plt.plot(x, y)\n",
        "plt.plot(x_test, y_pred, color='red')\n",
        "plt.fill_between(x_test.reshape(-1), y_pred_lo, y_pred_hi, alpha=0.3, color='red')\n",
        "plt.xlabel(\"Year\")\n",
        "plt.ylabel(\"Activity index\")\n",
        "plt.title(\"Solar activity\")\n",
        "plt.tight_layout()\n",
        "plt.show()\n",
        "\n",
        "np.sqrt(mean_squared_error(y_test, y_pred))"
      ],
      "execution_count": null,
      "outputs": []
    },
    {
      "cell_type": "code",
      "metadata": {
        "id": "bjvZlba_Yftl"
      },
      "source": [
        "from sklearn.model_selection import train_test_split\n",
        "x_train, x_test, y_train, y_test = train_test_split(x, y, random_state=42)\n",
        "\n",
        "kernel = 1 * RBF() + 1 * ExpSineSquared(periodicity=11) + WhiteKernel()\n",
        "gp = GaussianProcessRegressor(kernel=kernel, normalize_y=True)\n",
        "gp.fit(x_train, y_train)\n",
        "y_pred, y_std = gp.predict(x_test, return_std=True)\n",
        "y_pred_lo = y_pred.reshape(-1) - y_std\n",
        "y_pred_hi = y_pred.reshape(-1) + y_std\n",
        "\n",
        "print(\"Kernel: {}\".format(gp.kernel_))\n",
        "\n",
        "plt.plot(x, y, '-')\n",
        "plt.plot(x_test, y_pred, '*', color='red')\n",
        "plt.xlabel(\"Year\")\n",
        "plt.ylabel(\"Activity index\")\n",
        "plt.title(\"Solar activity\")\n",
        "plt.tight_layout()\n",
        "plt.show()\n",
        "\n",
        "np.sqrt(mean_squared_error(y_test, y_pred))"
      ],
      "execution_count": null,
      "outputs": []
    },
    {
      "cell_type": "code",
      "metadata": {
        "id": "T37LARZxYftl"
      },
      "source": [
        "data = pd.read_csv('https://raw.githubusercontent.com/hse-ppmm/Seminars/main/forestfires.csv')\n",
        "x = np.vstack([data['X'], data['Y']]).T\n",
        "y = np.asarray(np.log(data['area'] + 1)).reshape(-1,1)\n",
        "\n",
        "x_train, x_test, y_train, y_test = train_test_split(x, y, random_state=42)\n",
        "\n",
        "kernel = 1 * RBF() + WhiteKernel()\n",
        "gp = GaussianProcessRegressor(kernel=kernel, normalize_y=True)\n",
        "gp.fit(x_train, y_train)\n",
        "y_pred = gp.predict(x_test)\n",
        "\n",
        "print(\"Kernel: {}\".format(gp.kernel_))\n",
        "\n",
        "np.sqrt(mean_squared_error(y_test, y_pred))"
      ],
      "execution_count": null,
      "outputs": []
    },
    {
      "cell_type": "markdown",
      "metadata": {
        "id": "GN_qxHazy-Uv"
      },
      "source": [
        "Итоги семинара:\n",
        "\n",
        "* Рассмотрели как делать разведочный анализ данных\n",
        "  * Что делать с пропущенными значениями?\n",
        "  * Смотрим корреляции в данных\n",
        "  * Обрабатываем категорийные переменные\n",
        "* Обсудили различные способы визуализации данных\n",
        "* Заторули некорректно поставленные задачи и регуляризацию\n",
        "* Обсудили методы:\n",
        "  * Наименьших квадратов\n",
        "  * Максимального правдоподобия\n",
        "  * Линейную регрессию\n",
        "  * Гауссовы процессы"
      ]
    }
  ]
}
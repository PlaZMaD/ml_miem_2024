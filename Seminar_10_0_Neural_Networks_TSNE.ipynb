{
  "nbformat": 4,
  "nbformat_minor": 0,
  "metadata": {
    "colab": {
      "provenance": [],
      "toc_visible": true,
      "include_colab_link": true
    },
    "kernelspec": {
      "name": "python3",
      "display_name": "Python 3"
    }
  },
  "cells": [
    {
      "cell_type": "markdown",
      "metadata": {
        "id": "view-in-github",
        "colab_type": "text"
      },
      "source": [
        "<a href=\"https://colab.research.google.com/github/PlaZMaD/ml_miem_2024/blob/main/Seminar_10_0_Neural_Networks_TSNE.ipynb\" target=\"_parent\"><img src=\"https://colab.research.google.com/assets/colab-badge.svg\" alt=\"Open In Colab\"/></a>"
      ]
    },
    {
      "cell_type": "markdown",
      "metadata": {
        "id": "Olr8JF8RT5SQ"
      },
      "source": [
        "Семинар 10. Часть 1. Нейронные сети. Обучение без учителя. TSNE\n",
        "----------\n",
        "\n",
        "(использованы материалы курса [Машинное обучение в Питоне](https://www.hse.ru/edu/courses/450323352))\n",
        "\n",
        "На семинаре мы рассмотрим несколько методов снижения размерности и реализуем с нуля нейронную сеть с прямой связью (FNN).\n",
        "\n",
        "Для этого мы будем использовать [Fashion-MNIST набор данных](https://github.com/zalandoresearch/fashion-mnist), который содержит изображения одежды с десятью различными категориями."
      ]
    },
    {
      "cell_type": "markdown",
      "metadata": {
        "id": "-qpmtDVhbBRm"
      },
      "source": [
        "## Предобработка данных"
      ]
    },
    {
      "cell_type": "code",
      "metadata": {
        "id": "XPPPdVwuagNq"
      },
      "source": [
        "%%capture\n",
        "# Загрузка данных в Google Drive\n",
        "!wget http://fashion-mnist.s3-website.eu-central-1.amazonaws.com/train-images-idx3-ubyte.gz\n",
        "!wget http://fashion-mnist.s3-website.eu-central-1.amazonaws.com/train-labels-idx1-ubyte.gz\n",
        "!wget http://fashion-mnist.s3-website.eu-central-1.amazonaws.com/t10k-images-idx3-ubyte.gz\n",
        "!wget http://fashion-mnist.s3-website.eu-central-1.amazonaws.com/t10k-labels-idx1-ubyte.gz"
      ],
      "execution_count": null,
      "outputs": []
    },
    {
      "cell_type": "code",
      "metadata": {
        "id": "Wivl_gdvYMPC"
      },
      "source": [
        "# Импорт необходимых библиотек и чтение данных\n",
        "import os, gzip, numpy as np, matplotlib.pyplot as plt, seaborn as sns\n",
        "sns.set()\n",
        "\n",
        "def load_mnist(path, kind='train'):\n",
        "    \"\"\"Function to load mnist-like dataset\n",
        "    (code from https://github.com/zalandoresearch/fashion-mnist/blob/master/utils/mnist_reader.py)\n",
        "    \"\"\"\n",
        "\n",
        "    \"\"\"Load MNIST data from `path`\"\"\"\n",
        "    labels_path = os.path.join(path,\n",
        "                               '%s-labels-idx1-ubyte.gz'\n",
        "                               % kind)\n",
        "    images_path = os.path.join(path,\n",
        "                               '%s-images-idx3-ubyte.gz'\n",
        "                               % kind)\n",
        "\n",
        "    with gzip.open(labels_path, 'rb') as lbpath:\n",
        "        labels = np.frombuffer(lbpath.read(), dtype=np.uint8,\n",
        "                               offset=8)\n",
        "\n",
        "    with gzip.open(images_path, 'rb') as imgpath:\n",
        "        images = np.frombuffer(imgpath.read(), dtype=np.uint8,\n",
        "                               offset=16).reshape(len(labels), 784)\n",
        "\n",
        "    return images, labels\n",
        "\n",
        "print(\"Loading dataset...\")\n",
        "train_images, train_labels = load_mnist('.')\n",
        "test_images, test_labels = load_mnist('.', 't10k')\n",
        "label_names = [\n",
        "               'T-shirt', 'Trouser', 'Pullover',\n",
        "               'Dress', 'Coat', 'Sandal', 'Shirt',\n",
        "               'Sneaker', 'Bag', 'Ankle boot'\n",
        "               ]\n",
        "print(\"Normalizing data...\")\n",
        "train_images = train_images.astype('float')\n",
        "fmnist_mean, fmnist_std = train_images.mean(), train_images.mean(axis=1).std()\n",
        "train_images = (train_images - fmnist_mean) / fmnist_std\n",
        "print(\"Fashion MNIST stats:\", fmnist_mean, fmnist_std)\n",
        "test_images = (test_images - fmnist_mean) / fmnist_std\n",
        "print(\"Fashion MNIST train/test shapes\", train_images.shape, test_images.shape)\n",
        "print(\"Done!\")"
      ],
      "execution_count": null,
      "outputs": []
    },
    {
      "cell_type": "markdown",
      "metadata": {
        "id": "P1BtWTODa_J5"
      },
      "source": [
        "Давайте визуализируем несколько примеров из наших данных:"
      ]
    },
    {
      "cell_type": "code",
      "metadata": {
        "id": "wOX2pUmvY4hf"
      },
      "source": [
        "def show_samples(images, labels=None, n_samples=36, np_seed=None):\n",
        "    if np_seed is not None:\n",
        "        np.random.seed(np_seed)\n",
        "    r_indices = np.random.randint(0, images.shape[0], size=n_samples)\n",
        "\n",
        "    plt.figure(figsize=(12, 12))\n",
        "    plt.suptitle(\"Fashion-MNIST samples\", fontsize=30)\n",
        "    n_rows = int(n_samples ** 0.5)\n",
        "    for j, idx in enumerate(r_indices):\n",
        "        c_row, c_col = j // n_rows, j % n_rows\n",
        "        plt.subplot(n_rows, n_samples // n_rows, j + 1)\n",
        "        if labels is not None:\n",
        "            plt.title(label_names[labels[idx]])\n",
        "        plt.imshow(\n",
        "            images[idx].reshape(28, 28), cmap='gray',\n",
        "            vmin=images.min(), vmax=images.max()\n",
        "        )\n",
        "        plt.axis('off')\n",
        "    plt.show()\n",
        "\n",
        "show_samples(train_images, train_labels, np_seed=42)"
      ],
      "execution_count": null,
      "outputs": []
    },
    {
      "cell_type": "markdown",
      "metadata": {
        "id": "fIT06i1QbRPj"
      },
      "source": [
        "Мы видим, что все изображения имеют пониженное разрешение и представлены в градациях серого. Кроме того, есть несколько сильно пересекающихся классов (например, футболка и рубашка)"
      ]
    },
    {
      "cell_type": "markdown",
      "metadata": {
        "id": "o7bKolt4bpBk"
      },
      "source": [
        "## Снижение размерности"
      ]
    },
    {
      "cell_type": "markdown",
      "metadata": {
        "id": "MNq_IsDAb8v3"
      },
      "source": [
        "Несмотря на низкое разрешение, каждое наблюдение является точкой в $28 \\times 28 = 784$-мерном пространстве, что довольно много!\n",
        "\n",
        "Давайте попробуем использовать различные методы снижения размерности для визуализации."
      ]
    },
    {
      "cell_type": "markdown",
      "metadata": {
        "id": "whCBSilwdEWh"
      },
      "source": [
        "### Случайные признаки"
      ]
    },
    {
      "cell_type": "code",
      "metadata": {
        "id": "vWXvan4ocw4Z"
      },
      "source": [
        "# Для визуализации мы будем использовать только первые k образцов\n",
        "k = 5000\n",
        "show_images, show_labels = train_images[:k], train_labels[:k]\n",
        "\n",
        "def show_2d_viz(features, labels=None, title=None):\n",
        "    \"\"\"A utility function that shows given points in 2d space\"\"\"\n",
        "    if features.shape[1] != 2:\n",
        "        assert False, \"Need two features only for visualization\"\n",
        "    plt.figure(figsize=(14, 6))\n",
        "    if title is not None:\n",
        "        plt.title(title, fontsize=30)\n",
        "    if labels is not None:\n",
        "        plt.scatter(\n",
        "            features[:, 0], features[:, 1], c=labels, s=20,\n",
        "            cmap='coolwarm'\n",
        "        )\n",
        "    else:\n",
        "        plt.scatter(features[:, 0], features[:, 1])\n",
        "    plt.show()\n",
        "\n",
        "show_2d_viz(show_images[:,5:7], show_labels, '2 random input features')"
      ],
      "execution_count": null,
      "outputs": []
    },
    {
      "cell_type": "markdown",
      "metadata": {
        "id": "0NoDLGsudgyB"
      },
      "source": [
        "### Анализ главных компонент (PCA)\n",
        "\n",
        "(Метод максимальной дисперсии)"
      ]
    },
    {
      "cell_type": "code",
      "metadata": {
        "id": "BryHqorTjdmE"
      },
      "source": [
        "from sklearn.decomposition import PCA\n",
        "show_pca = PCA(n_components=2).fit_transform(show_images)\n",
        "show_2d_viz(show_pca, show_labels, 'PCA')"
      ],
      "execution_count": null,
      "outputs": []
    },
    {
      "cell_type": "code",
      "metadata": {
        "id": "QX9lmmIxa5s9"
      },
      "source": [
        "show_pca.shape"
      ],
      "execution_count": null,
      "outputs": []
    },
    {
      "cell_type": "markdown",
      "metadata": {
        "id": "6fRMY6sCeHdt"
      },
      "source": [
        "### Линейный дискриминантный анализ (LDA)\n",
        "\n",
        "Напомним, что модель LDA дает следующий логарифм вероятности классов:\n",
        "\n",
        "$\\log P(y = k|x) = -\\frac{1}{2}(x - \\mu_k)^T\\Sigma^{-1}(x - \\mu_k) + \\log \\pi_k + C,$\n",
        "\n",
        "где $\\mu_k$ - средние значения классов, $\\pi_k$ - априорные вероятности классов, $\\Sigma$ - общая ковариационная матрица, а $C$ - некоторая константа.\n",
        "\n",
        "Таким образом, предсказанный класс зависит от расстояния от $x$ до $\\mu_k$ --- с равномерной априорной вероятностью, чем ближе мы находимся к одному из центров класса, тем увереннее мы его предсказываем.\n",
        "\n",
        "Мы можем рассматривать это как проецирование входных данных на $(K - 1)$-мерное подпространство ($K$ - число классов), охватываемое $\\{\\mu_j\\}_{j=1}^K$ и поиск ближайшего центра.\n",
        "\n",
        "Кроме того, мы можем выбрать еще меньшую размерность, применив PCA к $\\mu_j$ и затем спроецировав входные данные.\n",
        "\n",
        "Это дает нам возможность уменьшить размерность с помощью метода классификации."
      ]
    },
    {
      "cell_type": "code",
      "metadata": {
        "id": "DlbiB2cslg3_"
      },
      "source": [
        "from sklearn.discriminant_analysis import LinearDiscriminantAnalysis\n",
        "show_lda = LinearDiscriminantAnalysis(n_components=2).fit_transform(\n",
        "    show_images, show_labels\n",
        ")\n",
        "show_2d_viz(show_lda, show_labels, 'LDA')"
      ],
      "execution_count": null,
      "outputs": []
    },
    {
      "cell_type": "markdown",
      "metadata": {
        "id": "VTQ9m0h-jw54"
      },
      "source": [
        "### t-SNE\n",
        "\n",
        "Стохастическое вложение соседей с t-распределением (англ. t-distributed Stochastic Neighbor Embedding, t-SNE - это продвинутый метод визуализации данных.\n",
        "\n",
        "Суть его заключается в том, что мы хотим встроить отдельные точки $\\{x_j\\}_{j=1}^N$ в низкоразмерное пространство таким образом, чтобы все парные расстояния между вкраплениями $\\{e_j\\}_{j=1}^N$ были как можно ближе ко всем парным расстояниям в исходном пространстве.\n",
        "\n",
        "Для этого мы каким-то образом инициализируем вкрапления и затем последовательно обновляем их, чтобы уменьшить разрыв между парными расстояниями.\n",
        "\n",
        "Итак, мы определяем в исходном пространстве попарное сходство между $x_i$ и $x_j$ как:\n",
        "\n",
        "$$p_{i j} = \\frac{p_{j|i} + p_{i|j}}{2N}, \\text{где}\\ p_{j|i} = \\frac{\\exp{(-\\frac{\\|x_i - x_j\\|^2}{2\\sigma_i})}}{\\sum_{k \\neq i}exp(-\\frac{\\|x_i - x_k\\|^2}{2\\sigma_k})}$$\n",
        "\n",
        "и затем строим $d$-мерную карту $\\{e_j\\}_{j=1}^N$, чтобы отразить сходство $p_{ij}$ как можно лучше, определив сходство во вложенном пространстве между $e_i$ и $e_j$ как:\n",
        "\n",
        "$$q_{i,j} = \\frac{(1 + \\|e_i - e_j\\|^2)^{-1}}{\\sum_{k}\\sum_{l \\neq k}(1 + \\|e_l - e_k\\|^2)^{-1}}.$$\n",
        "\n",
        "Затем минимизируем расхождение Куллбэка-Лейбнера между распределениями $p$ и $q$:\n",
        "\n",
        "$$\\ell(q) = KL(p || q) = \\sum_{i\\neq j}p_{ij}\\log\\frac{p_{ij}}{q_{ij}}.$$\n",
        "\n"
      ]
    },
    {
      "cell_type": "code",
      "metadata": {
        "id": "avxJFq_yf6ee"
      },
      "source": [
        "?TSNE"
      ],
      "execution_count": null,
      "outputs": []
    },
    {
      "cell_type": "code",
      "metadata": {
        "id": "k5gBI2lrmWpu"
      },
      "source": [
        "from sklearn.manifold import TSNE\n",
        "\n",
        "show_tsne = TSNE(\n",
        "    n_components=2, init='pca',\n",
        "    random_state=0, verbose=1\n",
        ").fit_transform(show_images)\n",
        "\n",
        "show_2d_viz(show_tsne, show_labels, 't-SNE')"
      ],
      "execution_count": null,
      "outputs": []
    },
    {
      "cell_type": "markdown",
      "metadata": {
        "id": "RHZDirUksOBF"
      },
      "source": [
        "Обратите внимание, что для вычисления t-SNE на всех данных потребуется несколько часов на CPU, вот [авторский результат](https://github.com/zalandoresearch/fashion-mnist/blob/master/doc/img/34d72c08.png):\n",
        "\n",
        "<img src='https://raw.githubusercontent.com/zalandoresearch/fashion-mnist/master/doc/img/34d72c08.png' width=700/>"
      ]
    },
    {
      "cell_type": "markdown",
      "metadata": {
        "id": "vMkh3wa8kp66"
      },
      "source": [
        "## Baseline классификатор\n",
        "\n",
        "Поскольку LDA имеет ограничение на $\\leq 10$ признаков, а t-SNE неприменим для извлечения признаков, мы будем использовать стандартный PCA с RandomForest поверх него."
      ]
    },
    {
      "cell_type": "code",
      "metadata": {
        "id": "mK1CBRryg1i7"
      },
      "source": [
        "?PCA"
      ],
      "execution_count": null,
      "outputs": []
    },
    {
      "cell_type": "code",
      "metadata": {
        "id": "p5vid2GknSIo"
      },
      "source": [
        "from sklearn.metrics import classification_report\n",
        "from sklearn.ensemble import RandomForestClassifier\n",
        "\n",
        "pca_model = PCA(n_components=64).fit(train_images)\n",
        "\n",
        "rf_clf = RandomForestClassifier()\n",
        "rf_clf = rf_clf.fit(pca_model.transform(train_images), train_labels)\n",
        "\n",
        "rf_predictions = rf_clf.predict(pca_model.transform(test_images))\n",
        "\n",
        "print(\"Baseline result (PCA + RF):\")\n",
        "print(classification_report(test_labels, rf_predictions))"
      ],
      "execution_count": null,
      "outputs": []
    },
    {
      "cell_type": "markdown",
      "metadata": {
        "id": "abU1ZBHelkn_"
      },
      "source": [
        "# Глубокое обучение: построение нейронной сети \"с нуля\" (`python` + `numpy`)"
      ]
    },
    {
      "cell_type": "markdown",
      "metadata": {
        "id": "Uxd_6nk56B2L"
      },
      "source": [
        "\n",
        "Глубокая нейронная сеть из 2 слоев представляет собой **вложенную функцию**, как это:\n",
        "\n",
        "$$y = f(x) = \\mathrm{activation}(\\mathrm{layer}_2(\\mathrm{activation}(\\mathrm{layer}_1(x)))),$$ или другими словами $$z = \\mathrm{activation}(layer_1(x)),$$\n",
        "$$y = \\mathrm{activation}(\\mathrm{layer}_2(z))).$$\n",
        "\n",
        "В случае классификации вход $x$ - это вектор (или матрица, или тензор) входных признаков. Выход $y$ - это вероятности каждого класса.\n",
        "\n",
        "Простейшим видом слоя является плотный слой, также называемый линейным:\n",
        "\n",
        "$$\\mathrm{layer}_1(x) = xW_1 + b_1$$\n",
        "\n",
        "Здесь $W_1$ - матрица *весов* слоя, $b_1$ - *bias*, постоянная величина. Это просто **линейная регрессия**.\n",
        "\n",
        "Линейная регрессия не годится для такой задачи, как классификация изображений, нам нужна более сложная функция. Для этого мы оборачиваем линейный слой каким-либо видом **нелинейной активации**.\n",
        "\n",
        "Одним из наиболее популярных вариантов является ReLU:\n",
        "\n",
        "$$\\mathrm{activation}(x) = \\mathrm{ReLU}(x) = \\mathrm{max}(0, x)$$\n",
        "\n",
        "Напомним, что логистическая регрессия - это линейная модель, обернутая в сигмоидную функцию. Поэтому если вы возьмете сигмоидную активацию над линейным слоем $\\mathrm{sigmoid}(\\mathrm{layer}(x))$, то получите **логистическую регрессию:**\n",
        "\n",
        "$$y = \\mathrm{activation}(\\mathrm{layer}_1(x)) = \\mathrm{sigmoid}(xW_1 + b_1).$$\n",
        "\n",
        "Трудности возникают при многократном повторении этого процесса. В результате получается очень сложная функция, которая способна моделировать очень сложные зависимости."
      ]
    },
    {
      "cell_type": "code",
      "metadata": {
        "id": "sLs6kKLS9DsP"
      },
      "source": [
        "x = np.linspace(-1, 1, 100)\n",
        "plt.plot(x, np.maximum(0, x), label='ReLU')\n",
        "plt.title('ReLU acitvation function')\n",
        "plt.xlabel('$x$')\n",
        "plt.ylabel('$relu(x)$')\n",
        "plt.show()"
      ],
      "execution_count": null,
      "outputs": []
    },
    {
      "cell_type": "markdown",
      "metadata": {
        "id": "44DVtWJ6APOP"
      },
      "source": [
        "### Нейронные сети как множество преобразований признаков\n",
        "\n",
        "Один из способов представить себе глубинные нейронные сети - это рассматривать их как **вложенные экстракторы признаков**.\n",
        "\n",
        "Первый слой и активация, $\\mathrm{activation}(\\mathrm{layer}_1(x))$, обучает нелинейному отображению из данных большой размерности $x$ в некоторое представление другой размерности (более низкой или более высокой). Второй слой $\\mathrm{activation}(\\mathrm{layer}_2(\\dots))$ обучается отображению от предыдущего представления к новому.\n",
        "\n",
        "По сути, первый слой учится извлекать полезные характеристики из входных данных. Второй слой учится извлекать полезные свойства из предыдущих полезных свойств.\n"
      ]
    },
    {
      "cell_type": "markdown",
      "metadata": {
        "id": "yEhkiPoLAXKy"
      },
      "source": [
        "### Но как алгоритм может научиться чему-то полезному? Введем обратное распространение.\n",
        "\n",
        "В сложной функции DNN мы можем только **изменять веса и смещения**. Наша цель - изменить их таким образом, чтобы минимизировать потери (ошибки) $L(y, y')$, где $y$ - истинные метки, а $y'$ - наши предсказания.\n",
        "\n",
        "**Отрицательные градиенты функции потерь говорят нам, как изменить веса, чтобы минимизировать потери*.\n",
        "\n",
        "Это требует, чтобы функция потерь была **дифференцируемой.**\n",
        "\n",
        "Для классификации функция потерь - это кросс-энтропийная потеря (log-loss):\n",
        "$$L(y, p) = -\\sum_{c=1}^My_{i,c}\\log(p_{i,c})$$\n",
        "\n",
        "Где $M$ - количество классов, $y_{i,c} = 1$, если наблюдение $i$ принадлежит классу $c$, $p_{i,c}$ - предсказанная вероятность принадлежности $i$ к классу $c$.\n",
        "\n",
        "В случае двух классов это просто отрицательное логарифмическое правдоподобие:\n",
        "$$L(y, p) = -{(y\\log(p) + (1 - y)\\log(1 - p))}$$\n",
        "\n",
        "Таким образом, для некоторых данных $x$ градиент потерь подскажет нам, как изменить нашу сеть, чтобы потери были меньше.\n",
        "Рассмотрим нашу сеть как $f$. Дифференциал потерь относительно выходов сети говорит нам, как должны измениться выходы, чтобы потери стали меньше: $$\\frac{\\partial L}{\\partial f(x)}$$\n",
        "\n",
        "Однако это не говорит нам, как обновлять веса.\n",
        "\n",
        "Вспомним [правило цепочки](https://www.khanacademy.org/math/ap-calculus-ab/ab-differentiation-2-new/ab-3-1a/a/chain-rule-review):\n",
        "$$\\frac{d}{dx} [ f(g(x)) ] = f'(g(x))g'(x)$$\n",
        "\n",
        "Это позволяет нам дифференцировать **составные функции**. Нейронная сеть - это составная функция, поэтому...\n",
        "\n",
        "Оказывается, мы можем использовать **правило цепочки** для обновления каждого веса! Это называется **обратным распространением**: мы начинаем с градиентов функции потерь и распространяем их назад, \"разворачивая\" градиенты.\n",
        "\n",
        "Наконец, когда мы знаем градиенты $L$ относительно весов $W$, мы обновляем их методом градиентного спуска:\n",
        "\n",
        "$$W_{t+1} = W_{t} - \\lambda \\cdot \\frac{\\partial L}{\\partial W_{t}}$$"
      ]
    },
    {
      "cell_type": "markdown",
      "metadata": {
        "id": "ffb0m5QhGBAu"
      },
      "source": [
        "![image.png](data:image/png;base64,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)"
      ]
    },
    {
      "cell_type": "markdown",
      "metadata": {
        "id": "pyX5uhmhIoF8"
      },
      "source": [
        "[Хорошее объяснение как вывести правила обновления весов для полностью связанных слоев](https://towardsdatascience.com/under-the-hood-of-neural-networks-part-1-fully-connected-5223b7f78528)"
      ]
    },
    {
      "cell_type": "markdown",
      "metadata": {
        "id": "cZEWjWviw0C0"
      },
      "source": [
        "### Основной класс"
      ]
    },
    {
      "cell_type": "code",
      "metadata": {
        "id": "tmIV6Dlku_TA"
      },
      "source": [
        "class Module:\n",
        "    \"\"\"\n",
        "    Each layer in neural network is inhereted from it and\n",
        "    is capable of performing two things:\n",
        "\n",
        "    - Process input to get output:           output = layer.forward(input)\n",
        "\n",
        "    - Propagate gradients through itself:    grad_input = layer.backward(input, grad_output)\n",
        "\n",
        "    Some layers also have learnable parameters which they update during layer.backward.\n",
        "    \"\"\"\n",
        "    def forward(self, input):\n",
        "        \"\"\"\n",
        "        Takes input data of shape [batch, input_dim],\n",
        "        returns output data of shape [batch, output_dim]\n",
        "        \"\"\"\n",
        "        # A dummy layer just returns whatever it gets as input.\n",
        "        return input\n",
        "\n",
        "    def __call__(self, input):\n",
        "        return self.forward(input)\n",
        "\n",
        "    def __repr__(self):\n",
        "        return \"Identity\"\n",
        "\n",
        "    def backward(self, input, grad_output):\n",
        "        \"\"\"\n",
        "        Performs a backpropagation step through the layer, with respect to the given input.\n",
        "\n",
        "        To compute loss gradients w.r.t input, you need to apply chain rule (backprop):\n",
        "\n",
        "        d loss / d x  = (d loss / d layer) * (d layer / d x)\n",
        "\n",
        "        Luckily, you already receive d loss / d layer as input, so you only need to multiply it by d layer / d x.\n",
        "\n",
        "        If your layer has parameters (e.g. dense layer), you also need to update them here using d loss / d layer\n",
        "        \"\"\"\n",
        "        # The gradient of a dummy layer is precisely grad_output, but we'll write it more explicitly\n",
        "        num_units = input.shape[1]\n",
        "\n",
        "        d_layer_d_input = np.eye(num_units)\n",
        "\n",
        "        return np.dot(grad_output, d_layer_d_input) # chain rule"
      ],
      "execution_count": null,
      "outputs": []
    },
    {
      "cell_type": "code",
      "metadata": {
        "id": "WlBSh8XplOzg"
      },
      "source": [
        "?np.eye"
      ],
      "execution_count": null,
      "outputs": []
    },
    {
      "cell_type": "markdown",
      "metadata": {
        "id": "Uohh4yqkltcz"
      },
      "source": [
        "### Нелинейность ReLU"
      ]
    },
    {
      "cell_type": "code",
      "metadata": {
        "id": "JiDG73MQr3YV"
      },
      "source": [
        "class BaseReLU(Module):\n",
        "    \"\"\"An elementwise nonlinearity layer: f(X) = (X if X > 0 else 0)\"\"\"\n",
        "    def __repr__(self):\n",
        "        return \"ReLU\"\n",
        "\n",
        "    def forward(self, input):\n",
        "        \"\"\"Elementwise nonlinear transform\"\"\"\n",
        "        return input * (input > 0)\n",
        "\n",
        "class ReLU(BaseReLU):\n",
        "    def backward(self, input, grad_output):\n",
        "        \"\"\"Compute gradient of loss w.r.t. ReLU input\"\"\"\n",
        "        # Напишите Ваш код\n",
        "        relu_grad = input > 0\n",
        "        return relu_grad * grad_output\n"
      ],
      "execution_count": null,
      "outputs": []
    },
    {
      "cell_type": "markdown",
      "metadata": {
        "id": "rxgOvOcbwrIy"
      },
      "source": [
        "### Линейный слой"
      ]
    },
    {
      "cell_type": "code",
      "metadata": {
        "id": "Ql2s5WrAwx9r"
      },
      "source": [
        "class BaseLinear(Module):\n",
        "    \"\"\"A linear layer to perform affine transform: f(x) = <x, W> + b\"\"\"\n",
        "    def __init__(self, input_dim, output_dim, learning_rate=0.1):\n",
        "        # Note! We usually don't specify learning rate in modules - that's\n",
        "        # just for convenience in our example\n",
        "        self.learning_rate = learning_rate\n",
        "\n",
        "        # A dummy weight initialization. For a more advanced version see\n",
        "        # https://arxiv.org/abs/1502.01852\n",
        "        self.weight = 0.01 * np.random.randn(input_dim, output_dim)\n",
        "        self.bias = np.zeros(output_dim)\n",
        "\n",
        "    def forward(self, input):\n",
        "        \"\"\"Linear transform\n",
        "        input shape: [batch_size, input_dim]\n",
        "\n",
        "        Return shape: [batch_size, output_dim]\n",
        "        \"\"\"\n",
        "        return input @ self.weight + self.bias\n",
        "\n",
        "    def __repr__(self):\n",
        "        return \"Linear(%d, %d)\" % (self.weight.shape[0], self.weight.shape[1])\n",
        "\n",
        "class Linear(BaseLinear):\n",
        "    def backward(self, input, grad_output):\n",
        "        \"\"\"Get gradients and apply chain rule for linear transformation\n",
        "        input shape: [batch_size, input_dim]\n",
        "        grad_output shape: [batch_size, output_dim]\n",
        "\n",
        "        Return shape: [batch_size, input_dim]\n",
        "        \"\"\"\n",
        "\n",
        "        # Chain rule: dF(Xw + b) / dX = dF / d(Xw + b) * w^T\n",
        "        grad_input = grad_output @ self.weight.T\n",
        "\n",
        "        # Chain rule: dF(Xw + b) / dW = dF / d(Xw + b) * X\n",
        "        # + sum across batch\n",
        "        #print(self, input.shape, grad_output.shape)\n",
        "        weight_grad = input.T @ grad_output\n",
        "\n",
        "        # Chain rule: dF(xW + b) / db = dF / d(Xw + b)\n",
        "        # + sum across batch\n",
        "        bias_grad = grad_output.sum(axis=0)\n",
        "\n",
        "        assert weight_grad.shape == self.weight.shape, \"weight grad has invalid shapes\"\n",
        "        assert bias_grad.shape == self.bias.shape, \"bias grad has invalid shapes\"\n",
        "\n",
        "        # Perform gradient descent step to improve model quality\n",
        "        self.weight -= self.learning_rate * weight_grad\n",
        "        self.bias -= self.learning_rate * bias_grad\n",
        "\n",
        "        return grad_input"
      ],
      "execution_count": null,
      "outputs": []
    },
    {
      "cell_type": "markdown",
      "metadata": {
        "id": "Rr4mVnWEl1ku"
      },
      "source": [
        "### Softmax и кросс-энтропийная функция потерь"
      ]
    },
    {
      "cell_type": "code",
      "metadata": {
        "id": "Z6TfdgJ_Axps"
      },
      "source": [
        "class CrossEntropyLoss(Module):\n",
        "    \"\"\"A module that implements cross entropy loss. Can be implemented\n",
        "    as two separate functions as well\"\"\"\n",
        "    def __call__(self, logits, ground_truth):\n",
        "        \"\"\"Get crossentropy loss from unnormalized model predictions.\n",
        "        Here ``ground_truth`` correspond to class labels (e.g. [5, 9, ...])\n",
        "        \"\"\"\n",
        "        logits_for_gt = logits[np.arange(logits.shape[0]), ground_truth]\n",
        "\n",
        "        crossentropy = -logits_for_gt + np.log(np.sum(np.exp(logits), axis=1))\n",
        "        return crossentropy\n",
        "\n",
        "    def __repr__(self):\n",
        "        print(\"Crossentropy loss (note: Softmax included!)\")\n",
        "\n",
        "    def backward(self, logits, ground_truth):\n",
        "        \"\"\"Get crossentropy loss gradient from unnormalized model predictions\"\"\"\n",
        "\n",
        "        # Get actual prediction probs\n",
        "        predictions = np.exp(logits) / np.exp(logits).sum(1, keepdims=True)\n",
        "\n",
        "        # Subtract one in logits that match ground truth labels\n",
        "        predictions[np.arange(logits.shape[0]), ground_truth] -= 1.0\n",
        "        # Normalize\n",
        "        return predictions / logits.shape[0]\n"
      ],
      "execution_count": null,
      "outputs": []
    },
    {
      "cell_type": "markdown",
      "metadata": {
        "id": "j_e9t-g9mDos"
      },
      "source": [
        "### Последовательный слой"
      ]
    },
    {
      "cell_type": "code",
      "metadata": {
        "id": "7vUAo8E9mCbu"
      },
      "source": [
        "class Sequential(Module):\n",
        "    \"\"\"A module for combining layers into a single class - Network\"\"\"\n",
        "    def __init__(self, layers):\n",
        "        self.layers = layers\n",
        "        self.layers_inputs = []\n",
        "\n",
        "    def forward(self, input):\n",
        "        \"\"\"The forward call iterates across layers sequentially\n",
        "        and caches their inputs\"\"\"\n",
        "        self.layers_inputs = []\n",
        "\n",
        "        for j, layer in enumerate(self.layers):\n",
        "            self.layers_inputs.append(input)\n",
        "            output = layer(input)\n",
        "            if j < len(self.layers) - 1:\n",
        "                input = output\n",
        "\n",
        "        return output\n",
        "\n",
        "    def __repr__(self):\n",
        "        for layer in self.layers:\n",
        "            print(layer)\n",
        "\n",
        "    def backward(self, grad_output):\n",
        "        \"\"\"The backward call iterates across layers in reversed order\n",
        "        and uses accumulated gradient + layer input to update weights and\n",
        "        pass gradient further\n",
        "        \"\"\"\n",
        "        for j, layer in reversed(list(enumerate(self.layers))):\n",
        "            grad_output = layer.backward(\n",
        "                self.layers_inputs[j], grad_output\n",
        "            )"
      ],
      "execution_count": null,
      "outputs": []
    },
    {
      "cell_type": "markdown",
      "metadata": {
        "id": "5PWvBYo_mMpk"
      },
      "source": [
        "### Обучение"
      ]
    },
    {
      "cell_type": "code",
      "metadata": {
        "id": "s1yfrQFWyfVm"
      },
      "source": [
        "from sklearn.model_selection import train_test_split\n",
        "X_train, X_val, y_train, y_val = train_test_split(\n",
        "    train_images, train_labels, test_size=0.05\n",
        ")\n",
        "print(\"Train/val sizes are\", X_train.shape, X_val.shape)"
      ],
      "execution_count": null,
      "outputs": []
    },
    {
      "cell_type": "code",
      "metadata": {
        "id": "x1-GTv5PL_kk"
      },
      "source": [
        "from sklearn.metrics import accuracy_score\n",
        "\n",
        "simple_network = Sequential([\n",
        "    Linear(X_train.shape[1], 100),\n",
        "    ReLU(),\n",
        "    Linear(100, 200),\n",
        "    ReLU(),\n",
        "    Linear(200, 10)\n",
        "])\n",
        "\n",
        "def get_predictions(network, images):\n",
        "    # A simple function to get model predictions\n",
        "    logits = network(images)\n",
        "    return logits.argmax(axis=1)\n",
        "\n",
        "def train_step(network, X_batch, y_batch, loss_cls=None):\n",
        "    \"\"\"Perform single forward-backward passes and update network weights\"\"\"\n",
        "    assert loss_cls is not None, \"Output loss class is required for training\"\n",
        "    logits = network(X_batch)\n",
        "\n",
        "    # Compute the loss and initial gradient\n",
        "    loss = loss_cls(logits, y_batch)\n",
        "    loss_grad = loss_cls.backward(logits, y_batch)\n",
        "    # Backprop this gradient into network\n",
        "    network.backward(loss_grad)\n",
        "\n",
        "    return loss.mean()\n",
        "\n",
        "def eval_step(network, X_train, y_train, X_val, y_val):\n",
        "    \"\"\"Evaluate model accuracy on train/val data\"\"\"\n",
        "    train_preds = get_predictions(network, X_train)\n",
        "    val_preds = get_predictions(network, X_val)\n",
        "\n",
        "    train_acc = accuracy_score(y_train, train_preds)\n",
        "    val_acc = accuracy_score(y_val, val_preds)\n",
        "    return train_acc, val_acc\n",
        "\n",
        "def iterated_data(images, labels, batch_size, shuffle=False):\n",
        "    \"\"\"Iterate through minibatches of data with a given batch size\"\"\"\n",
        "    assert len(images) == len(labels), \"Num images and labels should match\"\n",
        "\n",
        "    indices = np.random.permutation(len(images)) if shuffle else np.arange(len(images))\n",
        "    for start_idx in range(0, len(indices), batch_size):\n",
        "        end_idx = min(start_idx + batch_size, len(indices))\n",
        "        selected_indices = indices[start_idx:end_idx]\n",
        "        yield images[selected_indices], labels[selected_indices]\n"
      ],
      "execution_count": null,
      "outputs": []
    },
    {
      "cell_type": "code",
      "metadata": {
        "id": "SRkC8HoJPmwZ"
      },
      "source": [
        "def train_network(\n",
        "    network, X_train, y_train, X_val, y_val, batch_size=32,\n",
        "    epochs=25, verbose=True\n",
        "):\n",
        "    loss_cls = CrossEntropyLoss()\n",
        "    train_accs, val_accs = [], []\n",
        "\n",
        "    for e in range(epochs):\n",
        "        for X_batch, y_batch in iterated_data(X_train, y_train, batch_size, True):\n",
        "            train_step(network, X_batch, y_batch, loss_cls)\n",
        "        train_acc, val_acc = eval_step(network, X_train, y_train, X_val, y_val)\n",
        "        train_accs.append(train_acc)\n",
        "        val_accs.append(val_acc)\n",
        "        if verbose:\n",
        "            print(\n",
        "                \"EPOCH %d train accuracy %.3f val accuracy %.3f\" % (\n",
        "                    e, train_acc, val_acc\n",
        "                )\n",
        "            )\n",
        "    return train_accs, val_accs\n",
        "\n",
        "np_stats = train_network(simple_network, X_train, y_train, X_val, y_val)"
      ],
      "execution_count": null,
      "outputs": []
    },
    {
      "cell_type": "code",
      "metadata": {
        "id": "X8U4H1jR4-_w"
      },
      "source": [
        "print(\n",
        "    classification_report(\n",
        "        test_labels,\n",
        "        get_predictions(simple_network, test_images)\n",
        "    )\n",
        ")"
      ],
      "execution_count": null,
      "outputs": []
    },
    {
      "cell_type": "markdown",
      "metadata": {
        "id": "fBv4cP-mmRKV"
      },
      "source": [
        "## Реализация аналогичной сети в Pytorch\n",
        "\n",
        "Приведенный ниже код реализует то же самое, что мы делали в чистом `numpy`, но с использованием библиотеки PyTorch."
      ]
    },
    {
      "cell_type": "code",
      "metadata": {
        "id": "79tcyQKi0mer"
      },
      "source": [
        "?SGD"
      ],
      "execution_count": null,
      "outputs": []
    },
    {
      "cell_type": "code",
      "metadata": {
        "id": "JYO49BM65LrG"
      },
      "source": [
        "import torch, torch.nn as nn\n",
        "from torch.optim import SGD\n",
        "\n",
        "torch_network = nn.Sequential(*[\n",
        "    nn.Linear(28*28, 100),\n",
        "    nn.ReLU(),\n",
        "    nn.Linear(100, 200),\n",
        "    nn.ReLU(),\n",
        "    nn.Linear(200, 10)\n",
        "])\n",
        "\n",
        "network_optimizer = SGD(\n",
        "    torch_network.parameters(), lr=1e-2, weight_decay=1e-3,\n",
        "\n",
        ")"
      ],
      "execution_count": null,
      "outputs": []
    },
    {
      "cell_type": "code",
      "metadata": {
        "id": "dUC2YsmxWtiF"
      },
      "source": [
        "loss_cls = nn.CrossEntropyLoss()\n",
        "new_train_accs, new_val_accs = [], []\n",
        "\n",
        "for e in range(25):\n",
        "    for X_batch, y_batch in iterated_data(X_train, y_train, 32, True):\n",
        "        X_batch, y_batch = torch.FloatTensor(X_batch), torch.LongTensor(y_batch)\n",
        "\n",
        "        network_optimizer.zero_grad()\n",
        "\n",
        "        y_pred = torch_network(X_batch)\n",
        "        loss = loss_cls(y_pred, y_batch)\n",
        "        loss.backward()\n",
        "\n",
        "        network_optimizer.step()\n",
        "\n",
        "    train_acc, val_acc = eval_step(\n",
        "        torch_network,\n",
        "        torch.FloatTensor(X_train), torch.LongTensor(y_train),\n",
        "        torch.FloatTensor(X_val),  torch.LongTensor(y_val)\n",
        "    )\n",
        "    new_train_accs.append(train_acc)\n",
        "    new_val_accs.append(val_acc)\n",
        "    print(\n",
        "        \"EPOCH %d train accuracy %.3f val accuracy %.3f\" % (\n",
        "            e, train_acc, val_acc\n",
        "        )\n",
        "    )\n",
        "\n"
      ],
      "execution_count": null,
      "outputs": []
    },
    {
      "cell_type": "code",
      "metadata": {
        "id": "9r-UWAnpYZsZ"
      },
      "source": [
        "print(\n",
        "    classification_report(\n",
        "        test_labels,\n",
        "        get_predictions(simple_network, test_images)\n",
        "    )\n",
        ")"
      ],
      "execution_count": null,
      "outputs": []
    },
    {
      "cell_type": "markdown",
      "metadata": {
        "id": "LJkbAD8vPwJF"
      },
      "source": [
        "# Самостоятельная работа (30\")\n",
        "\n",
        "Попробуйте применить известные вам модели к набору данных [SVHN](http://ufldl.stanford.edu/housenumbers/).\n",
        "\n",
        "Затем обсудим результаты."
      ]
    },
    {
      "cell_type": "code",
      "metadata": {
        "id": "ZtcsYHHG1j6M"
      },
      "source": [
        "import numpy as np\n",
        "import pandas as pd\n",
        "from scipy.io import loadmat\n",
        "import tensorflow as tf\n",
        "from sklearn.model_selection import train_test_split"
      ],
      "execution_count": null,
      "outputs": []
    },
    {
      "cell_type": "code",
      "metadata": {
        "id": "FP0vIX5o27GJ"
      },
      "source": [
        "!wget http://ufldl.stanford.edu/housenumbers/train_32x32.mat\n",
        "!wget http://ufldl.stanford.edu/housenumbers/test_32x32.mat"
      ],
      "execution_count": null,
      "outputs": []
    },
    {
      "cell_type": "code",
      "metadata": {
        "id": "sgp-V2mFiZKB"
      },
      "source": [
        "ll"
      ],
      "execution_count": null,
      "outputs": []
    },
    {
      "cell_type": "code",
      "metadata": {
        "id": "ZoaQe0e_3bpo"
      },
      "source": [
        "def load_data(path):\n",
        "    \"\"\" Helper function for loading a MAT-File\"\"\"\n",
        "    data = loadmat(path)\n",
        "    return data['X'], data['y']\n",
        "\n",
        "X_train, y_train = load_data('train_32x32.mat')\n",
        "X_test, y_test = load_data('test_32x32.mat')\n",
        "\n",
        "print(\"Train:\", X_train.shape, y_train.shape)\n",
        "print(\"Test:\", X_test.shape, y_test.shape)"
      ],
      "execution_count": null,
      "outputs": []
    },
    {
      "cell_type": "code",
      "metadata": {
        "id": "prUmAwdR5xDV"
      },
      "source": [
        "X_train, y_train = X_train.transpose((3,0,1,2)), y_train[:,0]\n",
        "X_test, y_test = X_test.transpose((3,0,1,2)), y_test[:,0]"
      ],
      "execution_count": null,
      "outputs": []
    },
    {
      "cell_type": "code",
      "metadata": {
        "id": "xy0E_X8h5ynh"
      },
      "source": [
        "def plot_images(img, labels, nrows, ncols):\n",
        "\n",
        "    fig, axes = plt.subplots(nrows, ncols)\n",
        "    for i, ax in enumerate(axes.flat):\n",
        "        if img[i].shape == (32, 32, 3):\n",
        "            ax.imshow(img[i])\n",
        "        else:\n",
        "            ax.imshow(img[i,:,:,0])\n",
        "        ax.set_xticks([]); ax.set_yticks([])\n",
        "        ax.set_title(labels[i])"
      ],
      "execution_count": null,
      "outputs": []
    },
    {
      "cell_type": "code",
      "metadata": {
        "id": "-NDZign65yqz"
      },
      "source": [
        "plot_images(X_train, y_train, 3, 4)"
      ],
      "execution_count": null,
      "outputs": []
    },
    {
      "cell_type": "code",
      "metadata": {
        "id": "H2UHuiwG5yup"
      },
      "source": [
        "print(np.unique(y_train))"
      ],
      "execution_count": null,
      "outputs": []
    },
    {
      "cell_type": "code",
      "metadata": {
        "id": "nHCuLq336USf"
      },
      "source": [
        "y_train[y_train == 10] = 0\n",
        "y_test[y_test == 10] = 0"
      ],
      "execution_count": null,
      "outputs": []
    },
    {
      "cell_type": "code",
      "metadata": {
        "id": "WPr567pR8kt6"
      },
      "source": [
        "X_train, X_val, y_train, y_val = train_test_split(X_train, y_train, test_size=0.13, random_state=7)"
      ],
      "execution_count": null,
      "outputs": []
    },
    {
      "cell_type": "code",
      "metadata": {
        "id": "NSpf2rOfEosI"
      },
      "source": [
        "y_train.shape, y_val.shape, y_test.shape"
      ],
      "execution_count": null,
      "outputs": []
    },
    {
      "cell_type": "code",
      "metadata": {
        "id": "7uyWo69T6UV6"
      },
      "source": [
        "def rgb2gray(images):\n",
        "    return np.expand_dims(np.dot(images, [0.33, 0.33, 0.33]), axis=3)"
      ],
      "execution_count": null,
      "outputs": []
    },
    {
      "cell_type": "code",
      "metadata": {
        "id": "jKOAhjDQEwnl"
      },
      "source": [
        "train_greyscale = rgb2gray(X_train).astype(np.float32)\n",
        "test_greyscale = rgb2gray(X_test).astype(np.float32)\n",
        "val_greyscale = rgb2gray(X_val).astype(np.float32)"
      ],
      "execution_count": null,
      "outputs": []
    },
    {
      "cell_type": "code",
      "metadata": {
        "id": "uDr45PsTJNjC"
      },
      "source": [
        "# Calculate the mean on the training data\n",
        "train_mean = np.mean(train_greyscale, axis=0)\n",
        "\n",
        "# Calculate the std on the training data\n",
        "train_std = np.std(train_greyscale, axis=0)\n",
        "\n",
        "# Subtract it equally from all splits\n",
        "train_greyscale_norm = (train_greyscale - train_mean) / train_std\n",
        "test_greyscale_norm = (test_greyscale - train_mean)  / train_std\n",
        "val_greyscale_norm = (val_greyscale - train_mean) / train_std"
      ],
      "execution_count": null,
      "outputs": []
    },
    {
      "cell_type": "code",
      "metadata": {
        "id": "caRYHLqD6UZu"
      },
      "source": [
        "import matplotlib.pyplot as plt\n",
        "\n",
        "plot_images(train_greyscale_norm, y_train, 3, 4)"
      ],
      "execution_count": null,
      "outputs": []
    },
    {
      "cell_type": "code",
      "metadata": {
        "id": "z3KdN3SC5k4S"
      },
      "source": [
        "X_train = np.squeeze(train_greyscale_norm, axis=-1).reshape(63733, 1024)\n",
        "X_test = np.squeeze(test_greyscale_norm, axis=-1).reshape(26032, 1024)\n",
        "X_val = np.squeeze(val_greyscale_norm, axis=-1).reshape(9524, 1024)"
      ],
      "execution_count": null,
      "outputs": []
    },
    {
      "cell_type": "code",
      "metadata": {
        "id": "8KyPT8-g7GGL"
      },
      "source": [
        "import torch, torch.nn as nn\n",
        "from torch.optim import SGD\n",
        "\n",
        "torch_network = nn.Sequential(*[\n",
        "    nn.Linear(32*32, 100),\n",
        "    nn.ReLU(),\n",
        "    nn.Linear(100, 200),\n",
        "    nn.ReLU(),\n",
        "    nn.Linear(200, 10)\n",
        "])\n",
        "\n",
        "network_optimizer = SGD(\n",
        "    torch_network.parameters(), lr=1e-2, weight_decay=1e-3,\n",
        "\n",
        ")"
      ],
      "execution_count": null,
      "outputs": []
    },
    {
      "cell_type": "code",
      "metadata": {
        "id": "xmv5ZOJ57GSG"
      },
      "source": [
        "loss_cls = nn.CrossEntropyLoss()\n",
        "new_train_accs, new_val_accs = [], []\n",
        "\n",
        "for e in range(20):\n",
        "    for X_batch, y_batch in iterated_data(X_train, y_train, 32, True):\n",
        "        X_batch, y_batch = torch.FloatTensor(X_batch), torch.LongTensor(y_batch)\n",
        "\n",
        "        network_optimizer.zero_grad()\n",
        "\n",
        "        y_pred = torch_network(X_batch)\n",
        "        loss = loss_cls(y_pred, y_batch)\n",
        "        loss.backward()\n",
        "\n",
        "        network_optimizer.step()\n",
        "\n",
        "    train_acc, val_acc = eval_step(\n",
        "        torch_network,\n",
        "        torch.FloatTensor(X_train), torch.LongTensor(y_train),\n",
        "        torch.FloatTensor(X_val),  torch.LongTensor(y_val)\n",
        "    )\n",
        "    new_train_accs.append(train_acc)\n",
        "    new_val_accs.append(val_acc)\n",
        "    print(\n",
        "        \"EPOCH %d train accuracy %.3f val accuracy %.3f\" % (\n",
        "            e, train_acc, val_acc\n",
        "        )\n",
        "    )"
      ],
      "execution_count": null,
      "outputs": []
    }
  ]
}
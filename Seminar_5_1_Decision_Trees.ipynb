{
  "nbformat": 4,
  "nbformat_minor": 0,
  "metadata": {
    "kernelspec": {
      "display_name": "Python 3",
      "language": "python",
      "name": "python3"
    },
    "language_info": {
      "codemirror_mode": {
        "name": "ipython",
        "version": 3
      },
      "file_extension": ".py",
      "mimetype": "text/x-python",
      "name": "python",
      "nbconvert_exporter": "python",
      "pygments_lexer": "ipython3",
      "version": "3.7.3"
    },
    "toc": {
      "base_numbering": 1,
      "nav_menu": {},
      "number_sections": true,
      "sideBar": true,
      "skip_h1_title": false,
      "title_cell": "Table of Contents",
      "title_sidebar": "Contents",
      "toc_cell": false,
      "toc_position": {},
      "toc_section_display": true,
      "toc_window_display": false
    },
    "varInspector": {
      "cols": {
        "lenName": 16,
        "lenType": 16,
        "lenVar": 40
      },
      "kernels_config": {
        "python": {
          "delete_cmd_postfix": "",
          "delete_cmd_prefix": "del ",
          "library": "var_list.py",
          "varRefreshCmd": "print(var_dic_list())"
        },
        "r": {
          "delete_cmd_postfix": ") ",
          "delete_cmd_prefix": "rm(",
          "library": "var_list.r",
          "varRefreshCmd": "cat(var_dic_list()) "
        }
      },
      "types_to_exclude": [
        "module",
        "function",
        "builtin_function_or_method",
        "instance",
        "_Feature"
      ],
      "window_display": false
    },
    "colab": {
      "provenance": [],
      "include_colab_link": true
    }
  },
  "cells": [
    {
      "cell_type": "markdown",
      "metadata": {
        "id": "view-in-github",
        "colab_type": "text"
      },
      "source": [
        "<a href=\"https://colab.research.google.com/github/PlaZMaD/ml_miem_2024/blob/main/Seminar_5_1_Decision_Trees.ipynb\" target=\"_parent\"><img src=\"https://colab.research.google.com/assets/colab-badge.svg\" alt=\"Open In Colab\"/></a>"
      ]
    },
    {
      "cell_type": "markdown",
      "metadata": {
        "id": "w58CLnxeKvLg"
      },
      "source": [
        "# Семинар 5.1 Деревья решений\n",
        "\n",
        "(использованы материалы курса [Машинное обучение в Питоне](https://www.hse.ru/edu/courses/450323352))"
      ]
    },
    {
      "cell_type": "markdown",
      "metadata": {
        "id": "m1BFeEH_KxGj"
      },
      "source": [
        "## Построим собственное дерево решений\n",
        "(По мотивам примера [Josh Gordon](https://github.com/random-forests/tutorials/blob/master/decision_tree.ipynb))\n",
        "\n",
        "Построим дерево, которое будет предсказывать домашнее животное по его размерам и цвету."
      ]
    },
    {
      "cell_type": "code",
      "metadata": {
        "id": "uHthyog1MNe2"
      },
      "source": [
        "# Только Numpy и Pandas\n",
        "import numpy as np, pandas as pd"
      ],
      "execution_count": null,
      "outputs": []
    },
    {
      "cell_type": "markdown",
      "metadata": {
        "id": "eEXCoVyK8iJH"
      },
      "source": [
        "Создадим несколько записей:\n"
      ]
    },
    {
      "cell_type": "code",
      "metadata": {
        "id": "ssBxwbq32DZX"
      },
      "source": [
        "pets_data = [\n",
        "  ['grey', 28, 'cat'],\n",
        "  ['cream', 25, 'cat'],\n",
        "  ['brown', 60, 'dog'],\n",
        "  ['grey', 28, 'dog'],\n",
        "  ['green', 17, 'parrot'],\n",
        "  ['green', 12, 'turtle'],\n",
        "]\n",
        "\n",
        "columns = ['color', 'size (cm)', 'label']\n",
        "pets = pd.DataFrame(pets_data, columns = columns)"
      ],
      "execution_count": null,
      "outputs": []
    },
    {
      "cell_type": "markdown",
      "metadata": {
        "id": "8LUkuduq8tTv"
      },
      "source": [
        "Заметили, что кошка из первой записи и собака из четвёртой имеют идентичные признаки? Как дерево справится с этим?"
      ]
    },
    {
      "cell_type": "code",
      "metadata": {
        "id": "tICbM7nU24Wi"
      },
      "source": [
        "pets"
      ],
      "execution_count": null,
      "outputs": []
    },
    {
      "cell_type": "markdown",
      "metadata": {
        "id": "c5UDq1vsBkSZ"
      },
      "source": [
        "Выбирем уникальные значения как для числовых, так и для категориальных признаков:"
      ]
    },
    {
      "cell_type": "code",
      "metadata": {
        "id": "GSmgvnlBtPfc"
      },
      "source": [
        "def unique_vals(rows, col):\n",
        "  return set([row[col] for row in rows])"
      ],
      "execution_count": null,
      "outputs": []
    },
    {
      "cell_type": "code",
      "metadata": {
        "id": "UfGwrwZYXBJ9"
      },
      "source": [
        "unique_vals(pets_data, 1)"
      ],
      "execution_count": null,
      "outputs": []
    },
    {
      "cell_type": "code",
      "metadata": {
        "id": "-DWTBabNtT5F"
      },
      "source": [
        "unique_vals(pets_data, 0)"
      ],
      "execution_count": null,
      "outputs": []
    },
    {
      "cell_type": "markdown",
      "metadata": {
        "id": "LRGDURXyEMlR"
      },
      "source": [
        "Функция подсчитывает количество экземпляров каждого класса в наборе данных:"
      ]
    },
    {
      "cell_type": "code",
      "metadata": {
        "id": "ukNrs_PbsPvn"
      },
      "source": [
        "def class_counts(rows):\n",
        "    counts = {}\n",
        "    for row in rows:\n",
        "        label = row[-1]\n",
        "        if label not in counts:\n",
        "            counts[label] = 0\n",
        "        counts[label] += 1\n",
        "    return counts"
      ],
      "execution_count": null,
      "outputs": []
    },
    {
      "cell_type": "markdown",
      "metadata": {
        "id": "eD7Kq1UKD5b6"
      },
      "source": [
        "Научим модель задавать некоторые вопросы."
      ]
    },
    {
      "cell_type": "markdown",
      "metadata": {
        "id": "M7NcML7zucO7"
      },
      "source": [
        "Эта простая функция может это сделать:"
      ]
    },
    {
      "cell_type": "code",
      "metadata": {
        "id": "jsxWK_cr5blT"
      },
      "source": [
        "def question(col, val):\n",
        "  if not np.char.isnumeric(str(val)):\n",
        "    condition = \" == \"\n",
        "  else:\n",
        "    condition = \" >= \"\n",
        "  print(\"Is \" + pets.columns[col] + condition + str(val) + \"?\")"
      ],
      "execution_count": null,
      "outputs": []
    },
    {
      "cell_type": "code",
      "metadata": {
        "id": "2175HMre6kuD"
      },
      "source": [
        "question(1, 30)"
      ],
      "execution_count": null,
      "outputs": []
    },
    {
      "cell_type": "code",
      "metadata": {
        "id": "oR3EPVTe6Ell"
      },
      "source": [
        "question(0, 'green')"
      ],
      "execution_count": null,
      "outputs": []
    },
    {
      "cell_type": "markdown",
      "metadata": {
        "id": "A49lAmoguo9V"
      },
      "source": [
        "В целях автоматизации, давайте создадим класс, который сможет обрабатывать вопросы."
      ]
    },
    {
      "cell_type": "code",
      "metadata": {
        "id": "yxKlywV2Rtpk"
      },
      "source": [
        "def is_numeric(value):\n",
        "    \"\"\"Test if a value is numeric.\"\"\"\n",
        "    return isinstance(value, int) or isinstance(value, float)"
      ],
      "execution_count": null,
      "outputs": []
    },
    {
      "cell_type": "code",
      "metadata": {
        "id": "7-3wIeuxRerI"
      },
      "source": [
        "class Question:\n",
        "\n",
        "    def __init__(self, column, value):\n",
        "        self.column = column\n",
        "        self.value = value\n",
        "\n",
        "    def match(self, example):\n",
        "        # Compare the feature value in an example to the\n",
        "        # feature value in this question.\n",
        "        val = example[self.column]\n",
        "        if is_numeric(val):\n",
        "            return val >= self.value\n",
        "        else:\n",
        "            return val == self.value\n",
        "\n",
        "    def __repr__(self):\n",
        "        # This is just a helper method to print\n",
        "        # the question in a readable format.\n",
        "        condition = \"==\"\n",
        "        if is_numeric(self.value):\n",
        "            condition = \">=\"\n",
        "        return \"Is %s %s %s?\" % (\n",
        "            columns[self.column], condition, str(self.value))"
      ],
      "execution_count": null,
      "outputs": []
    },
    {
      "cell_type": "code",
      "metadata": {
        "id": "OFS7AcIgRe0K"
      },
      "source": [
        "Question(1, 30)"
      ],
      "execution_count": null,
      "outputs": []
    },
    {
      "cell_type": "code",
      "metadata": {
        "id": "hJnRMrxavnXq"
      },
      "source": [
        "Question(0, 'green')"
      ],
      "execution_count": null,
      "outputs": []
    },
    {
      "cell_type": "markdown",
      "metadata": {
        "id": "unomMjlFwZlt"
      },
      "source": [
        "Мы также можем сопоставить вопрос с конкретной записью:"
      ]
    },
    {
      "cell_type": "code",
      "metadata": {
        "id": "t_2s5z5kRe6i"
      },
      "source": [
        "q = Question(0, 'cream')"
      ],
      "execution_count": null,
      "outputs": []
    },
    {
      "cell_type": "code",
      "metadata": {
        "id": "f67DlQoPRfBN"
      },
      "source": [
        "q.match(pets_data[0])"
      ],
      "execution_count": null,
      "outputs": []
    },
    {
      "cell_type": "code",
      "metadata": {
        "id": "b60ox15rxfa_"
      },
      "source": [
        "q.match(pets_data[1])"
      ],
      "execution_count": null,
      "outputs": []
    },
    {
      "cell_type": "markdown",
      "metadata": {
        "id": "pVIGKxuYxnF2"
      },
      "source": [
        "Правильно. Кремовый\" цвет находится в записи с индексом 1:\n"
      ]
    },
    {
      "cell_type": "code",
      "metadata": {
        "id": "PHxD7XedRe3l"
      },
      "source": [
        "pets"
      ],
      "execution_count": null,
      "outputs": []
    },
    {
      "cell_type": "markdown",
      "metadata": {
        "id": "ZXtUN4KUAv8s"
      },
      "source": [
        "Нам также нужно подсчитать, сколько у нас меток классов:"
      ]
    },
    {
      "cell_type": "code",
      "metadata": {
        "id": "xRQ0GGjEneHU"
      },
      "source": [
        "print(pets.label.value_counts())"
      ],
      "execution_count": null,
      "outputs": []
    },
    {
      "cell_type": "markdown",
      "metadata": {
        "id": "Gno9oX1aIwzV"
      },
      "source": [
        "Давайте определим разбиение. Задав вопрос (см. выше), мы можем разделить набор данных на *true_records* (в случае положительного ответа) и *false_records* (для отрицательного ответа). Отнесем к положительному ответу тот случай, когда числовое значение равно или больше значения в вопросе, и наоборот."
      ]
    },
    {
      "cell_type": "code",
      "metadata": {
        "id": "bX26muScDLXK"
      },
      "source": [
        "def partition(rows, question):\n",
        "    \"\"\"Partitions a dataset.\n",
        "\n",
        "    For each row in the dataset, check if it matches the question. If\n",
        "    so, add it to 'true rows', otherwise, add it to 'false rows'.\n",
        "    \"\"\"\n",
        "    true_records, false_records = [], []\n",
        "    for row in rows:\n",
        "        if question.match(row):\n",
        "            true_records.append(row)\n",
        "        else:\n",
        "            false_records.append(row)\n",
        "    return true_records, false_records"
      ],
      "execution_count": null,
      "outputs": []
    },
    {
      "cell_type": "markdown",
      "metadata": {
        "id": "VihyTVfOKIuQ"
      },
      "source": [
        "Теперь мы можем легко выбрать записи, помеченные как \"собака\":"
      ]
    },
    {
      "cell_type": "code",
      "metadata": {
        "id": "794YaWtWLCQs"
      },
      "source": [
        "# true_records, false_records = partition(pets_data, Question(2, 'dog'))\n",
        "# true_records, false_records = partition(pets_data, Question(1, 27))\n",
        "true_records, false_records = partition(pets_data, Question(0, 'green'))\n",
        "\n",
        "true_records"
      ],
      "execution_count": null,
      "outputs": []
    },
    {
      "cell_type": "markdown",
      "metadata": {
        "id": "I8JNAWBaKawu"
      },
      "source": [
        "... или записи, наоборот, несвязанные с собаками:"
      ]
    },
    {
      "cell_type": "code",
      "metadata": {
        "id": "2-x0jp1vJ77F"
      },
      "source": [
        "false_records"
      ],
      "execution_count": null,
      "outputs": []
    },
    {
      "cell_type": "markdown",
      "metadata": {
        "id": "RvWSZyN38bkV"
      },
      "source": [
        "При построении дерева классификации для оценки качества конкретного разбиения обычно используется индекс Джини (а также энтропия и другие меры). Коэффициент Джини примеси для $i$ подмножества:\n",
        "\n",
        "$$G_i = \\sum_{k=1}^K \\hat{p}_{i,k}(1 - \\hat{p}_{i,k}) = \\sum_{k=1}^K \\hat{p}_{i,k} - \\sum_{k=1}^K \\hat{p}_{i,k}^2 = 1 - \\sum_{k=1}^K \\hat{p}_{i,k}^2$$"
      ]
    },
    {
      "cell_type": "code",
      "metadata": {
        "id": "schbrZJp711u"
      },
      "source": [
        "def gini(rows):\n",
        "    counts = class_counts(rows)\n",
        "    impurity = 1\n",
        "    for lbl in counts:\n",
        "        prob_of_lbl = counts[lbl] / float(len(rows))\n",
        "        impurity -= prob_of_lbl**2\n",
        "    return impurity"
      ],
      "execution_count": null,
      "outputs": []
    },
    {
      "cell_type": "markdown",
      "metadata": {
        "id": "xsO41cmgN4Vi"
      },
      "source": [
        "Давайте рассмотрим несколько примеров, чтобы понять, как работает Gini Impurity. Сначала мы рассмотрим набор данных без смешивания:"
      ]
    },
    {
      "cell_type": "code",
      "metadata": {
        "id": "_nj75sbj714i"
      },
      "source": [
        "no_mixing = [['cat'],\n",
        "              ['cat']]\n",
        "\n",
        "gini(no_mixing)"
      ],
      "execution_count": null,
      "outputs": []
    },
    {
      "cell_type": "markdown",
      "metadata": {
        "id": "M7Mqe-ExOFtW"
      },
      "source": [
        "Теперь мы рассмотрим набор данных с соотношением кошек и собак 50/50:"
      ]
    },
    {
      "cell_type": "code",
      "metadata": {
        "id": "j12zJcPT718P"
      },
      "source": [
        "some_mixing = [['cat'],['dog']]\n",
        "gini(some_mixing)"
      ],
      "execution_count": null,
      "outputs": []
    },
    {
      "cell_type": "markdown",
      "metadata": {
        "id": "V0BdfhQC8jw7"
      },
      "source": [
        "![catdog.jpg](data:image/jpeg;base64,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)\n",
        "\n",
        "CatDog TV series created by Peter Hannan for Nickelodeon (unknown artist, [image source](https://www.pinterest.com/pin/495325659015162222/))"
      ]
    },
    {
      "cell_type": "markdown",
      "metadata": {
        "id": "8A8ZhucuOOFS"
      },
      "source": [
        "Теперь мы рассмотрим набор данных с множеством различных меток:"
      ]
    },
    {
      "cell_type": "code",
      "metadata": {
        "id": "Q6ZJ-59R71-e"
      },
      "source": [
        "lots_of_mixing = [['cat'],\n",
        "                  ['cat'],\n",
        "                  ['hamster'],\n",
        "                  ['guinea pig'],\n",
        "                  ['chameleon']]\n",
        "\n",
        "gini(lots_of_mixing)"
      ],
      "execution_count": null,
      "outputs": []
    },
    {
      "cell_type": "markdown",
      "metadata": {
        "id": "1VlJPx8jQNsj"
      },
      "source": [
        "Определим информационный прирост как неопределенность в начальном узле минус взвешенная примесь в двух дочерних узлах:"
      ]
    },
    {
      "cell_type": "code",
      "metadata": {
        "id": "uhMw0t825ODy"
      },
      "source": [
        "def info_gain(left, right, current_uncertainty):\n",
        "    p = float(len(left)) / (len(left) + len(right))\n",
        "    return current_uncertainty - p * gini(left) - (1 - p) * gini(right)"
      ],
      "execution_count": null,
      "outputs": []
    },
    {
      "cell_type": "markdown",
      "metadata": {
        "id": "HqCVdAWYn_sV"
      },
      "source": [
        "Посчитаем неопределенность на тренировочной выборке."
      ]
    },
    {
      "cell_type": "code",
      "source": [
        "pets_data"
      ],
      "metadata": {
        "id": "5uJSi_QZgLoY"
      },
      "execution_count": null,
      "outputs": []
    },
    {
      "cell_type": "code",
      "metadata": {
        "id": "ifR15Xg_-sSU"
      },
      "source": [
        "current_uncertainty = gini(pets_data)\n",
        "current_uncertainty"
      ],
      "execution_count": null,
      "outputs": []
    },
    {
      "cell_type": "markdown",
      "metadata": {
        "id": "PLUmoIlvonHp"
      },
      "source": [
        "Сколько информации мы получим при разбиении по `size = 15`?"
      ]
    },
    {
      "cell_type": "code",
      "metadata": {
        "id": "FbWbN9GmohJD"
      },
      "source": [
        "true_records, false_records = partition(pets_data, Question(1, 15))\n",
        "info_gain(true_records, false_records, current_uncertainty)"
      ],
      "execution_count": null,
      "outputs": []
    },
    {
      "cell_type": "markdown",
      "metadata": {
        "id": "t1HD8JbToV-G"
      },
      "source": [
        "... `size = 25`?"
      ]
    },
    {
      "cell_type": "code",
      "metadata": {
        "id": "JgQKFrCE-sVt"
      },
      "source": [
        "true_records, false_records = partition(pets_data, Question(1, 25))\n",
        "info_gain(true_records, false_records, current_uncertainty)"
      ],
      "execution_count": null,
      "outputs": []
    },
    {
      "cell_type": "markdown",
      "metadata": {
        "id": "dj04i_i5oFX-"
      },
      "source": [
        "... `size = 30`?"
      ]
    },
    {
      "cell_type": "code",
      "metadata": {
        "id": "Akm7dh2coFjU"
      },
      "source": [
        "true_records, false_records = partition(pets_data, Question(1, 30))\n",
        "info_gain(true_records, false_records, current_uncertainty)"
      ],
      "execution_count": null,
      "outputs": []
    },
    {
      "cell_type": "code",
      "metadata": {
        "id": "RDJ7kQh0gAsC"
      },
      "source": [
        "pets_data"
      ],
      "execution_count": null,
      "outputs": []
    },
    {
      "cell_type": "markdown",
      "metadata": {
        "id": "kRN3o7jMpRfI"
      },
      "source": [
        "# Упражнение:\n",
        "Почему мы получили больше информации при разбиении с использованием `size = 30`?\n",
        "\n",
        "Посмотрите на различные полученные в результате разбиения результаты и определите, какой из них кажется вам более \"несмешанным\"."
      ]
    },
    {
      "cell_type": "markdown",
      "metadata": {
        "id": "fFi3ipAYqznc"
      },
      "source": [
        "Давайте найдем лучший вопрос, который можно задать, перебирая все характеристики и значения и вычисляя прирост информации."
      ]
    },
    {
      "cell_type": "code",
      "metadata": {
        "id": "LK_iaDks-sg7"
      },
      "source": [
        "def find_best_split(rows):\n",
        "    \"\"\"Find the best question to ask by iterating over every feature / value\n",
        "    and calculating the information gain.\"\"\"\n",
        "    best_gain = 0  # keep track of the best information gain\n",
        "    best_question = None  # keep train of the feature / value that produced it\n",
        "    current_uncertainty = gini(rows)\n",
        "    n_features = len(rows[0]) - 1  # number of columns\n",
        "\n",
        "    for col in range(n_features):  # for each feature\n",
        "\n",
        "        values = set([row[col] for row in rows])  # unique values in the column\n",
        "\n",
        "        for val in values:  # for each value\n",
        "\n",
        "            question = Question(col, val)\n",
        "\n",
        "            # try splitting the dataset\n",
        "            true_rows, false_rows = partition(rows, question)\n",
        "\n",
        "            # Skip this split if it doesn't divide the\n",
        "            # dataset.\n",
        "            if len(true_rows) == 0 or len(false_rows) == 0:\n",
        "                continue\n",
        "\n",
        "            # Calculate the information gain from this split\n",
        "            gain = info_gain(true_rows, false_rows, current_uncertainty)\n",
        "\n",
        "            # You actually can use '>' instead of '>=' here\n",
        "            # but I wanted the tree to look a certain way for our\n",
        "            # toy dataset.\n",
        "            if gain >= best_gain:\n",
        "                best_gain, best_question = gain, question\n",
        "\n",
        "    return best_gain, best_question"
      ],
      "execution_count": null,
      "outputs": []
    },
    {
      "cell_type": "markdown",
      "metadata": {
        "id": "oKrkmYsCrbqr"
      },
      "source": [
        "Найдите лучший вопрос, который следует задать первым для нашего набора данных.\n"
      ]
    },
    {
      "cell_type": "code",
      "metadata": {
        "id": "ZjrbDwvjAtta"
      },
      "source": [
        "best_gain, best_question = find_best_split(pets_data)\n",
        "best_question"
      ],
      "execution_count": null,
      "outputs": []
    },
    {
      "cell_type": "markdown",
      "metadata": {
        "id": "Obx3n-VH2WWK"
      },
      "source": [
        "Бинго!\n",
        "\n",
        "Алгоритм подтвердил, что разбиение с использованием size = 25 является наилучшим."
      ]
    },
    {
      "cell_type": "markdown",
      "metadata": {
        "id": "ZGPtvAF92wtZ"
      },
      "source": [
        "Давайте напишем еще несколько классов и функций для более удобной работы с деревом:"
      ]
    },
    {
      "cell_type": "code",
      "metadata": {
        "id": "WKdWNZSQAtxK"
      },
      "source": [
        "class Leaf:\n",
        "\n",
        "    def __init__(self, rows):\n",
        "      self.predictions = class_counts(rows)"
      ],
      "execution_count": null,
      "outputs": []
    },
    {
      "cell_type": "code",
      "metadata": {
        "id": "hIdRTcwsB3T6"
      },
      "source": [
        "class Decision_Node:\n",
        "\n",
        "    def __init__(self,\n",
        "                 question,\n",
        "                 true_branch,\n",
        "                 false_branch):\n",
        "        self.question = question\n",
        "        self.true_branch = true_branch\n",
        "        self.false_branch = false_branch"
      ],
      "execution_count": null,
      "outputs": []
    },
    {
      "cell_type": "markdown",
      "metadata": {
        "id": "iICBEI9W55P_"
      },
      "source": [
        "Эта функция разбивает набор данных по каждому уникальному признаку, вычисляет прирост информации и возвращает узел вопроса (лучший признак/значение для вопроса)."
      ]
    },
    {
      "cell_type": "code",
      "metadata": {
        "id": "GW1pIJUFB8D7"
      },
      "source": [
        "def build_tree(rows):\n",
        "    gain, question = find_best_split(rows)\n",
        "    if gain == 0: return Leaf(rows)\n",
        "    true_rows, false_rows = partition(rows, question)\n",
        "\n",
        "    true_branch = build_tree(true_rows)\n",
        "    false_branch = build_tree(false_rows)\n",
        "    return Decision_Node(question, true_branch, false_branch)"
      ],
      "execution_count": null,
      "outputs": []
    },
    {
      "cell_type": "markdown",
      "metadata": {
        "id": "VqOB4t8d6ixR"
      },
      "source": [
        "Эта функция помогает получить человекочитаемые результаты (как для вопросов, так и для предсказаний)."
      ]
    },
    {
      "cell_type": "code",
      "metadata": {
        "id": "FCPF7Rl7xQ68"
      },
      "source": [
        "def print_tree(node, spacing=\"\"):\n",
        "    \"\"\"World's most elegant tree printing function.\"\"\"\n",
        "\n",
        "    # Base case: we've reached a leaf\n",
        "    if isinstance(node, Leaf):\n",
        "        print (spacing + \"Predict\", node.predictions)\n",
        "        return\n",
        "\n",
        "    # Print the question at this node\n",
        "    print (spacing + str(node.question))\n",
        "\n",
        "    # Call this function recursively on the true branch\n",
        "    print (spacing + '--> True:')\n",
        "    print_tree(node.true_branch, spacing + \"  \")\n",
        "\n",
        "    # Call this function recursively on the false branch\n",
        "    print (spacing + '--> False:')\n",
        "    print_tree(node.false_branch, spacing + \"  \")"
      ],
      "execution_count": null,
      "outputs": []
    },
    {
      "cell_type": "code",
      "metadata": {
        "id": "iTF_dDc9B3Xa"
      },
      "source": [
        "my_tree = build_tree(pets_data)"
      ],
      "execution_count": null,
      "outputs": []
    },
    {
      "cell_type": "code",
      "metadata": {
        "id": "uizTokmPAt0V"
      },
      "source": [
        "print_tree(my_tree)"
      ],
      "execution_count": null,
      "outputs": []
    },
    {
      "cell_type": "code",
      "metadata": {
        "id": "u1bHzvwzCVmB"
      },
      "source": [
        "def classify(row, node):\n",
        "    \"\"\"See the 'rules of recursion' above.\"\"\"\n",
        "\n",
        "    # Base case: we've reached a leaf\n",
        "    if isinstance(node, Leaf):\n",
        "        return node.predictions\n",
        "\n",
        "    # Decide whether to follow the true-branch or the false-branch.\n",
        "    # Compare the feature / value stored in the node,\n",
        "    # to the example we're considering.\n",
        "    if node.question.match(row):\n",
        "        return classify(row, node.true_branch)\n",
        "    else:\n",
        "        return classify(row, node.false_branch)"
      ],
      "execution_count": null,
      "outputs": []
    },
    {
      "cell_type": "code",
      "metadata": {
        "id": "_-RS2KWOCVpW"
      },
      "source": [
        "#######\n",
        "# Demo:\n",
        "# The tree predicts the 2nd row of our\n",
        "# training data is an apple with confidence 1.\n",
        "classify(pets_data[0], my_tree)\n",
        "#######"
      ],
      "execution_count": null,
      "outputs": []
    },
    {
      "cell_type": "code",
      "metadata": {
        "id": "aGEoYdUlCVvo"
      },
      "source": [
        "def print_leaf(counts):\n",
        "    \"\"\"A nicer way to print the predictions at a leaf.\"\"\"\n",
        "    total = sum(counts.values()) * 1.0\n",
        "    probs = {}\n",
        "    for lbl in counts.keys():\n",
        "        probs[lbl] = str(int(counts[lbl] / total * 100)) + \"%\"\n",
        "    return probs"
      ],
      "execution_count": null,
      "outputs": []
    },
    {
      "cell_type": "code",
      "metadata": {
        "id": "hXQCPX4ICVyM"
      },
      "source": [
        "#######\n",
        "# Demo:\n",
        "# Printing that a bit nicer\n",
        "print_leaf(classify(pets_data[3], my_tree))\n",
        "#######"
      ],
      "execution_count": null,
      "outputs": []
    },
    {
      "cell_type": "code",
      "metadata": {
        "id": "XvX6VNq0CV2M"
      },
      "source": [
        "#######\n",
        "# Demo:\n",
        "# On the second example, the confidence is lower\n",
        "print_leaf(classify(pets_data[4], my_tree))\n",
        "#######"
      ],
      "execution_count": null,
      "outputs": []
    },
    {
      "cell_type": "markdown",
      "metadata": {
        "id": "zefJWvk15gEe"
      },
      "source": [
        "Давайте попробуем применить дерево на следующем наборе данных:"
      ]
    },
    {
      "cell_type": "code",
      "metadata": {
        "id": "Lo4pUm2WCV4s"
      },
      "source": [
        "# Evaluate on\n",
        "domestic_animals = [\n",
        "  ['brown', 35, 'cat'],\n",
        "  ['grey', 20, 'cat'],\n",
        "  ['cream', 26, 'cat'],\n",
        "  ['grey', 70, 'dog'],\n",
        "  ['white', 50, 'parrot'],\n",
        "  ['albino', 10, 'turtle'],\n",
        "]"
      ],
      "execution_count": null,
      "outputs": []
    },
    {
      "cell_type": "code",
      "source": [
        "pets_data"
      ],
      "metadata": {
        "id": "XSTEIJfUbPxq"
      },
      "execution_count": null,
      "outputs": []
    },
    {
      "cell_type": "code",
      "metadata": {
        "id": "PPoKWyBfCVsZ"
      },
      "source": [
        "for row in domestic_animals:\n",
        "    print (\"Actual: %s. Predicted: %s\" %\n",
        "           (row[-1], print_leaf(classify(row, my_tree))))"
      ],
      "execution_count": null,
      "outputs": []
    },
    {
      "cell_type": "markdown",
      "metadata": {
        "id": "-qQrhWk847u_"
      },
      "source": [
        "Результаты классификации не блестящие. Почему?"
      ]
    },
    {
      "cell_type": "markdown",
      "metadata": {
        "id": "kT6HsCPcE671"
      },
      "source": [
        "# Упражнение\n",
        "Попробуйте добавить больше признаков и примеров к \"домашним животным\" и оцените дерево на расширенном наборе данных \"domestic_animals\"."
      ]
    },
    {
      "cell_type": "code",
      "metadata": {
        "id": "H5ClVoTBFAdd"
      },
      "source": [
        "header = ['color', 'size', 'extra feature', 'label']\n",
        "\n",
        "pets = [\n",
        "  ['grey', 28, '...', 'cat'],\n",
        "  ['cream', 25, '...', 'cat'],\n",
        "  ['brown', 60, '...', 'dog'],\n",
        "  ['grey', 28, '...', 'dog'],\n",
        "  ['green', 17, '...', 'parrot'],\n",
        "  ['green', 12, '...', 'turtle'],\n",
        "]\n",
        "\n",
        "domestic_animals = [\n",
        "  ['grey', 28, '...', 'cat'],\n",
        "  ['cream', 25, '...', 'cat'],\n",
        "  ['brown', 60, '...', 'dog'],\n",
        "  ['grey', 28, '...', 'dog'],\n",
        "  ['green', 17, '...', 'parrot'],\n",
        "  ['green', 12, '...', 'turtle'],\n",
        "]"
      ],
      "execution_count": null,
      "outputs": []
    },
    {
      "cell_type": "code",
      "metadata": {
        "id": "cPP9FiQ-Gkwp"
      },
      "source": [
        "my_tree = build_tree(pets)"
      ],
      "execution_count": null,
      "outputs": []
    },
    {
      "cell_type": "code",
      "metadata": {
        "id": "4M0_RIUJGk3z"
      },
      "source": [
        "print_tree(my_tree)"
      ],
      "execution_count": null,
      "outputs": []
    },
    {
      "cell_type": "code",
      "metadata": {
        "id": "-MMsB03IGWop"
      },
      "source": [
        "for row in domestic_animals:\n",
        "    print (\"Actual: %s. Predicted: %s\" %\n",
        "           (row[-1], print_leaf(classify(row, my_tree))))"
      ],
      "execution_count": null,
      "outputs": []
    },
    {
      "cell_type": "markdown",
      "metadata": {
        "id": "e9qw05eBTk8G"
      },
      "source": [
        "# Classification And Regression (decision) Trees (CART)\n",
        "В этой части семинара мы рассмотрим набор данных [*Hitters.csv*](https://rdrr.io/cran/ISLR/man/Hitters.html) и построим модель [дерева решений (DT) из Scikit-Learn](https://scikit-learn.org/stable/modules/generated/sklearn.tree.DecisionTreeRegressor.html#sklearn.tree.DecisionTreeRegressor) для **прогнозирования зарплат** бейсболистов. Датафрейм с 322 наблюдениями игроков высшей лиги (по одной строке на игрока) по следующим 20 переменным.\n",
        "\n",
        "\n",
        "1. AtBat: # of times at bat in 1986\n",
        "1. Hits: # of hits in 1986\n",
        "1. HmRun: # of home runs in 1986\n",
        "1. Runs: # of runs in 1986\n",
        "1. RBI: # of runs batted in in 1986\n",
        "1. Walks: # of walks in 1986\n",
        "1. Years: # of years in the major leagues\n",
        "1. CAtBat: # of times at bat during his career\n",
        "1. CHits: # of hits during his career\n",
        "1. CHmRun: # of home runs during his career\n",
        "1. CRuns: # of runs during his career\n",
        "1. CRBI: # of runs batted in during his career\n",
        "1. CWalks: # of walks during his career\n",
        "1. League: a factor with levels `A` and `N` indicating player's league at the end of 1986\n",
        "1. Division: a factor with levels `E` and `W` indicating player's division at the end of 1986\n",
        "1. PutOuts: # of put outs in 1986\n",
        "1. Assists: # of assists in 1986\n",
        "1. Errors: # of errors in 1986\n",
        "1. Salary: 1987 annual salary on opening day in thousands of dollars\n",
        "1. NewLeague: a factor with levels `A` and `N` indicating player's league at the beginning of 1987\n",
        "\n",
        "<font color=gray>\n",
        "    \n",
        "## Описание датасета"
      ]
    },
    {
      "cell_type": "code",
      "metadata": {
        "id": "ziaCNncYTk8H"
      },
      "source": [
        "import pandas as pd, numpy as np, seaborn as sns, sklearn, matplotlib.pyplot as plt\n",
        "from IPython.core.interactiveshell import InteractiveShell\n",
        "InteractiveShell.ast_node_interactivity = \"all\"   # enables multiple outputs from a single cell\n",
        "pd.set_option('display.max_rows', 6)\n",
        "plt.rcParams['figure.figsize'] = [18, 4]\n",
        "\n",
        "df = pd.read_csv('https://github.com/JWarmenhoven/ISLR-python/raw/master/Notebooks/Data/Hitters.csv')\n",
        "df = df.rename(columns={'Unnamed: 0':'name'})\n",
        "df  # Evaluate values, units, data types, anything unusual"
      ],
      "execution_count": null,
      "outputs": []
    },
    {
      "cell_type": "code",
      "metadata": {
        "id": "8w7mxmH0Tk8L"
      },
      "source": [
        "df.info()"
      ],
      "execution_count": null,
      "outputs": []
    },
    {
      "cell_type": "code",
      "metadata": {
        "id": "KOdbXOuKTk8N"
      },
      "source": [
        "pd.set_option('display.max_rows', 100)\n",
        "dfStats = df.describe().drop('count', axis=0)\n",
        "dfStats.loc['IQR'] = dfStats.loc['75%'] - dfStats.loc['25%'] # appending interquartile range instead of recalculating it\n",
        "# dfStats = pd.concat([dfStats, df.reindex(dfStats.columns, axis=1).agg(['skew', 'mad', 'kurt'])])\n",
        "dfStats.round(2)"
      ],
      "execution_count": null,
      "outputs": []
    },
    {
      "cell_type": "code",
      "metadata": {
        "id": "1QpWZOxCTk8P"
      },
      "source": [
        "plt.rcParams['figure.figsize'] = [30, 10]\n",
        "ax = sns.heatmap(df.isnull().T, cmap = \"BuPu\", cbar=False);\n",
        "ax.set_title('Missing values (in blue)');"
      ],
      "execution_count": null,
      "outputs": []
    },
    {
      "cell_type": "code",
      "metadata": {
        "id": "VMf3t2OMTk8R"
      },
      "source": [
        "ax = sns.pairplot(df.loc[~ df.Salary.isna(),], plot_kws=dict(linewidth=0, s=5), height=1.5);\n",
        "ax.fig.suptitle(\"Pairplot of variables in Hitters dataset\", y=1);\n",
        "plt.tight_layout();\n",
        "plt.show();"
      ],
      "execution_count": null,
      "outputs": []
    },
    {
      "cell_type": "markdown",
      "metadata": {
        "id": "6P-fxz-VTk8T"
      },
      "source": [
        "\n",
        "# Baseline model, v0\n",
        "Поскольку нам нужно построить модель для предсказания переменной `Salary`, отсутствующие значения в `Salary` не пригодятся ни для обучения, ни для оценки. Давайте пока удалим их. В качестве альтернативы мы можем просто заполнить NA нулями с помощью функции `df.fillna(0)`."
      ]
    },
    {
      "cell_type": "code",
      "metadata": {
        "id": "EwjGmIuCTk8U"
      },
      "source": [
        "from sklearn.tree import DecisionTreeRegressor\n",
        "from sklearn.model_selection import cross_val_score\n",
        "from sklearn.model_selection import train_test_split\n",
        "\n",
        "df = df.loc[~ df.Salary.isna(),]     # keep rows where salary values are not NaN.\n",
        "X = df._get_numeric_data().drop('Salary', axis=1)\n",
        "Y = df['Salary']\n",
        "tX, vX, tY, vY = train_test_split(X, Y, test_size=0.2, random_state=0)"
      ],
      "execution_count": null,
      "outputs": []
    },
    {
      "cell_type": "markdown",
      "metadata": {
        "id": "MUnBmlNoTk8W"
      },
      "source": [
        "Для регрессионного анализа обычными подходящими метриками являются $R^2=1-SSR/SST$, MSE, RMSE (=$\\sqrt{MSE}$). В некотором смысле они [все связаны](https://stats.stackexchange.com/questions/214886/regression-what-is-the-utility-of-r-squared-compared-to-rmse). $R^2$ легче интерпретировать, потому что он нормирован на [0,1] (но может быть отрицательным, если SSR>>SST). Примечание: Для регрессионных моделей не следует *не* использовать метрики классификации, такие как accuracy, precision, recall, $F_1$, и т.д."
      ]
    },
    {
      "cell_type": "code",
      "source": [
        "?DecisionTreeRegressor"
      ],
      "metadata": {
        "id": "Wz_zF0Bmdo1M"
      },
      "execution_count": null,
      "outputs": []
    },
    {
      "cell_type": "code",
      "metadata": {
        "id": "fzGCDNbCTk8X"
      },
      "source": [
        "from sklearn.metrics import r2_score\n",
        "v0 = DecisionTreeRegressor(random_state=0)     # decision tree baseline model\n",
        "v0.fit(tX, tY)\n",
        "\n",
        "tmp = sklearn.tree.plot_tree(v0);\n",
        "fig, (ax1, ax2) = plt.subplots(ncols=2, sharey=True)\n",
        "dfT = pd.DataFrame([v0.predict(tX), tY], index=['Pred Salary (train)', 'Actual Salary (train)']).T\n",
        "dfV = pd.DataFrame([v0.predict(vX), vY], index=['Pred Salary (val)',   'Actual Salary (val)']).T\n",
        "pd.concat([dfT.head(), dfV.head()], axis=1)\n",
        "a = dfT.plot.scatter(0,1, grid=True, ax=ax1, title=f'$R^2$: {v0.score(tX, tY)} on train')   # in-sample predictions\n",
        "a = dfV.plot.scatter(0,1, grid=True, ax=ax2, title=f'$R^2$: {v0.score(vX, vY):0.2f} on test')   # out-of-sample predictions\n",
        "plt.tight_layout()"
      ],
      "execution_count": null,
      "outputs": []
    },
    {
      "cell_type": "markdown",
      "metadata": {
        "id": "u8W4enUiTk8Z"
      },
      "source": [
        "Мы видим идеальное соответствие на обучающих данных и плохое соответствие на тестовых данных (R^2 = 44%).\n",
        "\n",
        "# Настроим гиперпараметры\n",
        "Мы можем оценить эту модель при различных значениях гиперпараметра `max_depth` и выбрать наилучшее."
      ]
    },
    {
      "cell_type": "code",
      "metadata": {
        "id": "ReHcvp9pot4f"
      },
      "source": [
        "?DecisionTreeRegressor"
      ],
      "execution_count": null,
      "outputs": []
    },
    {
      "cell_type": "code",
      "metadata": {
        "id": "IXelVTGVTk8Z"
      },
      "source": [
        "m = DecisionTreeRegressor(random_state=0, max_depth=5)     # baseline model\n",
        "m.fit(tX, tY)\n",
        "print(f'\\nR^2: {m.score(tX, tY):.2f} on train, {m.score(vX, vY):.2f} on test')   # a strong learner will overfit, if not constrained\n",
        "fig, (ax1, ax2) = plt.subplots(ncols=2, sharey=True)\n",
        "dfT = pd.DataFrame([m.predict(tX), tY], index=['Pred Salary (train)','Actual Salary (train)']).T\n",
        "dfV = pd.DataFrame([m.predict(vX), vY], index=['Pred Salary (val)','Actual Salary (val)']).T\n",
        "pd.concat([dfT.head(),dfV.head()], axis=1)\n",
        "# a = dfT.plot.scatter(0,1, grid=True, ax=ax1)   # Predictions on train set\n",
        "# a = dfV.plot.scatter(0,1, grid=True, ax=ax2)   #  Predictions on validation set\n",
        "a = dfT.plot.scatter(0,1, grid=True, ax=ax1, title=f'$R^2$: {m.score(tX, tY)} on train')   # in-sample predictions\n",
        "a = dfV.plot.scatter(0,1, grid=True, ax=ax2, title=f'$R^2$: {m.score(vX, vY):0.2f} on test')   # out-of-sample predictions"
      ],
      "execution_count": null,
      "outputs": []
    },
    {
      "cell_type": "code",
      "metadata": {
        "id": "w9Qmlh49aD9x"
      },
      "source": [
        "# plt.rcParams['figure.figsize'] = [30, 10]\n",
        "tmp = sklearn.tree.plot_tree(m);"
      ],
      "execution_count": null,
      "outputs": []
    },
    {
      "cell_type": "code",
      "metadata": {
        "id": "4I83NRHqTk8c"
      },
      "source": [
        "res = []   #result\n",
        "m = DecisionTreeRegressor(random_state=0)     # baseline model\n",
        "for i in range(1,20):\n",
        "    a = m.set_params(max_depth=i).fit(tX, tY)\n",
        "    res.append((i, m.score(tX, tY), m.score(vX, vY)))\n",
        "dfRes = pd.DataFrame(res, columns=['depth','train_R2','test_R2']).set_index('depth')\n",
        "a = dfRes.plot(grid=True, title='train and test Perfomance ($R^2$)')\n",
        "# ?dt.score"
      ],
      "execution_count": null,
      "outputs": []
    },
    {
      "cell_type": "markdown",
      "metadata": {
        "id": "IsErpffnTk8d"
      },
      "source": [
        "В то время как производительность модели на тренировочной выборке увеличивается с глубиной, производительность на тестовой ухудшается после глубины 10-12. Это также зависит от других факторов, таких как ```random seed```.\n",
        "\n"
      ]
    },
    {
      "cell_type": "markdown",
      "metadata": {
        "id": "tng8l_-TTk8g"
      },
      "source": [
        "Кросс-валидация (CV) позволяет нам повторно использовать все данные для оценки оптимальных значений параметров."
      ]
    },
    {
      "cell_type": "code",
      "metadata": {
        "id": "GUFEFgppTk8g"
      },
      "source": [
        "m = DecisionTreeRegressor(random_state=0, max_depth=3)\n",
        "cvR2 = pd.DataFrame(cross_val_score(m, X, Y, cv=10), columns=['vR2']).sort_values('vR2')  # default:  scoring=('r2')\n",
        "a = cvR2.plot(grid=True, title=f'Avg (valdiation) $R^2$ is {float(cvR2.mean()):.2f} from 10-CV', kind='bar')\n",
        "a = plt.axhline(float(cvR2.mean()), color='r', linestyle='dashed', linewidth=1)"
      ],
      "execution_count": null,
      "outputs": []
    },
    {
      "cell_type": "markdown",
      "metadata": {
        "id": "zIveew8uTk8i"
      },
      "source": [
        "Мы можем визуализировать конкретное дерево."
      ]
    },
    {
      "cell_type": "code",
      "metadata": {
        "id": "4z4jL4Z6Tk8j"
      },
      "source": [
        "from sklearn.tree import export_graphviz\n",
        "import os, graphviz,pydotplus\n",
        "os.environ[\"PATH\"] += os.pathsep + 'C:/Program Files (x86)/Graphviz2.38/bin/'"
      ],
      "execution_count": null,
      "outputs": []
    },
    {
      "cell_type": "code",
      "metadata": {
        "id": "mXVEDE5mTk8l"
      },
      "source": [
        "m = DecisionTreeRegressor(random_state=0, min_samples_leaf=10)\n",
        "m.fit(tX,tY)\n",
        "# dot_data = export_graphviz(m, filled=True, rounded=True, feature_names=X.columns, out_file=None)\n",
        "# dot_data.set_size('\"5,5!\"')\n",
        "# graphviz.Source(dot_data, ratio=\"compress\")   # need to install graphviz.gitlab.io\n",
        "\n",
        "dot_data = export_graphviz(m, filled=True, rounded=True, feature_names=X.columns, out_file=None)\n",
        "pydot_graph = pydotplus.graph_from_dot_data(dot_data)\n",
        "# pydot_graph.set_size('\"30,30!\"')\n",
        "pydot_graph.write_png('resized_tree.png')\n",
        "from IPython.display import Image\n",
        "Image(\"resized_tree.png\")"
      ],
      "execution_count": null,
      "outputs": []
    },
    {
      "cell_type": "code",
      "metadata": {
        "id": "4a2D7VxMTk8p"
      },
      "source": [
        "?graphviz.Source"
      ],
      "execution_count": null,
      "outputs": []
    },
    {
      "cell_type": "code",
      "metadata": {
        "id": "Hz-B2_vTTk8r"
      },
      "source": [
        "[0, 1, 2, 3, 4, 5]\n",
        "# 0 => gini_0\n",
        "# 2.5 => gini_1\n",
        "# 5 => gini_3\n",
        "\n",
        "# gini_0 < gini_1 < gini_3"
      ],
      "execution_count": null,
      "outputs": []
    }
  ]
}